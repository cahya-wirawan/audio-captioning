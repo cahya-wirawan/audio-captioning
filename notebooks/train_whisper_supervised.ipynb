{
 "cells": [
  {
   "cell_type": "code",
   "execution_count": null,
   "metadata": {},
   "outputs": [],
   "source": [
    "import numpy as np\n",
    "import transformers\n",
    "import datasets\n",
    "import wandb\n",
    "\n",
    "import audiocap"
   ]
  },
  {
   "cell_type": "code",
   "execution_count": null,
   "metadata": {},
   "outputs": [],
   "source": [
    "config_name = \"openai/whisper-base\"\n",
    "config = transformers.WhisperConfig.from_pretrained(config_name)\n",
    "model = transformers.WhisperConfig.from_pretrained(config_name)\n",
    "tokenizer = transformers.WhisperTokenizer.from_pretrained(config_name)\n",
    "feature_extractor = transformers.WhisperFeatureExtractor.from_pretrained(config_name)\n",
    "model = transformers.WhisperForConditionalGeneration(config) # not pretrained"
   ]
  },
  {
   "cell_type": "code",
   "execution_count": null,
   "metadata": {},
   "outputs": [],
   "source": [
    "ds_raw = datasets.load_dataset(\n",
    "    \"audiofolder\",\n",
    "    data_files={\n",
    "        \"dev\": \"../data/clotho_v2.1/development/*\",\n",
    "        \"val\": \"../data/clotho_v2.1/validation/*\",\n",
    "        \"test\": \"../data/clotho_v2.1/evaluation/*\",\n",
    "        \"dev_mini\": \"../data/clotho_v2.1/development/*\",\n",
    "        \"val_mini\": \"../data/clotho_v2.1/validation/*\",\n",
    "    }\n",
    ")\n",
    "\n",
    "random_gen = np.random.default_rng(seed=1)\n",
    "dev_log_indices = random_gen.choice(len(ds_raw[\"dev\"]), size=32, replace=False)\n",
    "val_log_indices = random_gen.choice(len(ds_raw[\"val\"]), size=16, replace=False)\n",
    "\n",
    "ds_raw[\"dev_mini\"] = ds_raw[\"dev\"].select(dev_log_indices)\n",
    "ds_raw[\"val_mini\"] = ds_raw[\"val\"].select(val_log_indices)"
   ]
  },
  {
   "cell_type": "code",
   "execution_count": null,
   "metadata": {},
   "outputs": [],
   "source": [
    "preprocessing = audiocap.preprocess.Preprocess(tokenizer, feature_extractor)\n",
    "\n",
    "ds = datasets.IterableDatasetDict()\n",
    "ds_mini = datasets.DatasetDict()\n",
    "for split_name in ds_raw.keys():\n",
    "    # TODO add augmentations, but only to development split\n",
    "    split = (ds_raw[split_name]\n",
    "        .to_iterable_dataset()\n",
    "        .map(\n",
    "            audiocap.preprocess.clotho_flatten_captions,\n",
    "            batched=True,\n",
    "            batch_size=10,\n",
    "            remove_columns=[\"caption_1\", \"caption_2\", \"caption_3\", \"caption_4\", \"caption_5\"],\n",
    "        )\n",
    "        .shuffle(\n",
    "            seed=42,\n",
    "            buffer_size=100,\n",
    "        )\n",
    "        .map(\n",
    "            preprocessing,\n",
    "            batched=True,\n",
    "            batch_size=16,\n",
    "            remove_columns=[\"audio\"],\n",
    "        )\n",
    "        .take(100) # TODO remove (this is for debugging purposes)\n",
    "    )\n",
    "\n",
    "    if \"mini\" in split_name:\n",
    "        # there are multiple rows (captions) per each audio clip\n",
    "        # we want to keep only one from each for logging predictions\n",
    "        ds_mini[split_name] = datasets.Dataset.from_list(list({x[\"filename\"]: x for x in split}.values()))\n",
    "    else:\n",
    "        ds[split_name] = split\n",
    "\n",
    "\n",
    "expected_keys = {\n",
    "    'caption_idx',\n",
    "    'caption',\n",
    "    'path',\n",
    "    'audio_array',\n",
    "    'sampling_rate',\n",
    "    'filename',\n",
    "    'input_features',\n",
    "    'labels'\n",
    "}\n",
    "\n",
    "# all datasets have the same features\n",
    "assert set(ds_mini[\"dev_mini\"][0].keys()) == expected_keys"
   ]
  },
  {
   "cell_type": "code",
   "execution_count": null,
   "metadata": {},
   "outputs": [],
   "source": [
    "collator = audiocap.preprocess.DataCollatorAudioSeq2SeqWithPadding(tokenizer, feature_extractor)"
   ]
  },
  {
   "cell_type": "code",
   "execution_count": null,
   "metadata": {},
   "outputs": [],
   "source": [
    "compute_metrics = audiocap.metrics.CaptioningMetrics(tokenizer)"
   ]
  },
  {
   "cell_type": "code",
   "execution_count": null,
   "metadata": {},
   "outputs": [],
   "source": [
    "log_preds_callback_valid = audiocap.callbacks.WandbPredictionLogger(\n",
    "    log_prefix=\"val\",\n",
    "    log_every_n_steps=5, # TODO change (this is for debugging purposes)\n",
    "    dataset=ds_mini[\"val_mini\"],\n",
    "    collator=collator,\n",
    "    generate_kwargs={\"max_length\": 50},\n",
    ")\n",
    "\n",
    "log_preds_callback_dev = audiocap.callbacks.WandbPredictionLogger(\n",
    "    log_prefix=\"dev\",\n",
    "    log_every_n_steps=5, # TODO change (this is for debugging purposes)\n",
    "    dataset=ds_mini[\"dev_mini\"],\n",
    "    collator=collator,\n",
    "    generate_kwargs={\"max_length\": 50},\n",
    ")"
   ]
  },
  {
   "cell_type": "code",
   "execution_count": null,
   "metadata": {},
   "outputs": [],
   "source": [
    "wandb.init(\n",
    "    project=\"audio-captioning\",\n",
    "    tags=[\"supervised\"],\n",
    "    # group=\"\", # for organizing runs\n",
    "    # dir=\"\", # change for some tmp dir if you need\n",
    ")"
   ]
  },
  {
   "cell_type": "code",
   "execution_count": null,
   "metadata": {},
   "outputs": [],
   "source": [
    "training_args = transformers.Seq2SeqTrainingArguments(\n",
    "    output_dir=\"checkpoints/\" + wandb.run.name, # or some tmp dir\n",
    "    do_train=True,\n",
    "    do_eval=True,\n",
    "\n",
    "    max_steps=100_000,\n",
    "    optim='adamw_torch',\n",
    "    learning_rate=5e-5, # TODO\n",
    "    warmup_steps=500, # TODO\n",
    "    \n",
    "    # TODO all of these\n",
    "    per_device_train_batch_size=1,\n",
    "    gradient_accumulation_steps=16,\n",
    "    per_device_eval_batch_size=2,\n",
    "    eval_accumulation_steps=16,\n",
    "    \n",
    "    logging_steps=3, # TODO 50\n",
    "    report_to=\"wandb\",\n",
    "\n",
    "    # TODO check if this makes training faster in our setup\n",
    "    fp16=True,\n",
    "\n",
    "    metric_for_best_model=\"sacrebleu\", # TODO change\n",
    "    greater_is_better=True, # TODO change according to metric\n",
    "    load_best_model_at_end=True,\n",
    "    predict_with_generate=True,\n",
    "    generation_num_beams=1, # TODO?\n",
    "    generation_max_length=50,\n",
    "    evaluation_strategy=\"steps\",   \n",
    "    eval_steps=10, # TODO\n",
    "\n",
    "    save_strategy=\"steps\",\n",
    "    save_steps=1_000, # TODO\n",
    "    save_total_limit=10, # TODO\n",
    ")\n",
    "\n",
    "\n",
    "trainer = transformers.Seq2SeqTrainer(\n",
    "    model=model,\n",
    "    tokenizer=tokenizer,\n",
    "    data_collator=collator,\n",
    "    compute_metrics=compute_metrics,\n",
    "    train_dataset=ds[\"dev\"],\n",
    "    eval_dataset=ds[\"val\"],\n",
    "    args=training_args,\n",
    "    callbacks=[log_preds_callback_valid, log_preds_callback_dev],\n",
    ")"
   ]
  },
  {
   "cell_type": "code",
   "execution_count": null,
   "metadata": {},
   "outputs": [],
   "source": [
    "trainer.train()"
   ]
  },
  {
   "cell_type": "code",
   "execution_count": null,
   "metadata": {},
   "outputs": [],
   "source": []
  }
 ],
 "metadata": {
  "kernelspec": {
   "display_name": "malach23",
   "language": "python",
   "name": "python3"
  },
  "language_info": {
   "codemirror_mode": {
    "name": "ipython",
    "version": 3
   },
   "file_extension": ".py",
   "mimetype": "text/x-python",
   "name": "python",
   "nbconvert_exporter": "python",
   "pygments_lexer": "ipython3",
   "version": "3.8.16"
  },
  "orig_nbformat": 4
 },
 "nbformat": 4,
 "nbformat_minor": 2
}
