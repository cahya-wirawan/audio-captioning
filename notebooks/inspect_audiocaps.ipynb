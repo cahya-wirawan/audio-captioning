{
 "cells": [
  {
   "cell_type": "code",
   "execution_count": 2,
   "metadata": {},
   "outputs": [],
   "source": [
    "import pandas as pd"
   ]
  },
  {
   "cell_type": "code",
   "execution_count": 96,
   "metadata": {},
   "outputs": [
    {
     "name": "stdout",
     "output_type": "stream",
     "text": [
      "train 49838 unique: 49838\n",
      "valid 2475 unique: 495\n",
      "test 4875 unique: 975\n"
     ]
    }
   ],
   "source": [
    "audiocaps = {\n",
    "    \"train\": pd.read_csv(\"../data/audioCaps/csvs/train.csv\"),\n",
    "    \"valid\": pd.read_csv(\"../data/audioCaps/csvs/valid.csv\"),\n",
    "    \"test\": pd.read_csv(\"../data/audioCaps/csvs/test.csv\"),\n",
    "}\n",
    "\n",
    "for name, split in audiocaps.items():\n",
    "    print(name, len(split), \"unique:\",  len(split[\"youtube_id\"].unique()))\n"
   ]
  },
  {
   "cell_type": "code",
   "execution_count": 98,
   "metadata": {},
   "outputs": [
    {
     "data": {
      "text/plain": [
       "57188"
      ]
     },
     "execution_count": 98,
     "metadata": {},
     "output_type": "execute_result"
    }
   ],
   "source": [
    "audiocaps_all = pd.concat(audiocaps.values())\n",
    "len(audiocaps_all)"
   ]
  },
  {
   "cell_type": "code",
   "execution_count": 99,
   "metadata": {},
   "outputs": [
    {
     "data": {
      "text/plain": [
       "Index(['audiocap_id', 'youtube_id', 'start_time', 'caption'], dtype='object')"
      ]
     },
     "execution_count": 99,
     "metadata": {},
     "output_type": "execute_result"
    }
   ],
   "source": [
    "audiocaps_all.columns"
   ]
  },
  {
   "cell_type": "code",
   "execution_count": 100,
   "metadata": {},
   "outputs": [],
   "source": [
    "import os\n",
    "exists = audiocaps_all[\"youtube_id\"].drop_duplicates().apply(lambda x: os.path.exists(\"../data/audioset_full/audios/train_unbalanced/\" + x + \".mp3\"))"
   ]
  },
  {
   "cell_type": "code",
   "execution_count": 101,
   "metadata": {},
   "outputs": [
    {
     "data": {
      "text/plain": [
       "0.9107351680049894"
      ]
     },
     "execution_count": 101,
     "metadata": {},
     "output_type": "execute_result"
    }
   ],
   "source": [
    "exists.mean()"
   ]
  },
  {
   "cell_type": "code",
   "execution_count": 103,
   "metadata": {},
   "outputs": [],
   "source": [
    "exists_2 = audiocaps_all[\"youtube_id\"].drop_duplicates().apply(lambda x: os.path.exists(\"../data/audioset_full/audios/train_balanced/\" + x + \".mp3\"))\n",
    "exists_3 = audiocaps_all[\"youtube_id\"].drop_duplicates().apply(lambda x: os.path.exists(\"../data/audioset_full/audios/eval/\" + x + \".mp3\"))"
   ]
  },
  {
   "cell_type": "code",
   "execution_count": 76,
   "metadata": {},
   "outputs": [
    {
     "data": {
      "text/plain": [
       "True"
      ]
     },
     "execution_count": 76,
     "metadata": {},
     "output_type": "execute_result"
    }
   ],
   "source": [
    "exists.sum() == (exists | exists_2 | exists_3).sum()"
   ]
  },
  {
   "cell_type": "code",
   "execution_count": 105,
   "metadata": {},
   "outputs": [],
   "source": [
    "audioset_small = {\n",
    "    \"train\": pd.read_json(\"../data/audioset_small/annotations/train.jsonl\", lines=True),\n",
    "    \"valid\": pd.read_json(\"../data/audioset_small/annotations/valid.jsonl\", lines=True),\n",
    "    \"test\": pd.read_json(\"../data/audioset_small/annotations/test.jsonl\", lines=True),\n",
    "}\n",
    "\n",
    "audioset_small_all = pd.concat(audioset_small.values())"
   ]
  },
  {
   "cell_type": "code",
   "execution_count": 108,
   "metadata": {},
   "outputs": [],
   "source": [
    "splits = {\"train\", \"valid\", \"test\"}\n",
    "\n",
    "# CHECK LEAKAGE\n",
    "\n",
    "for split in splits:\n",
    "    for other_split in splits - {split}:\n",
    "        assert set.isdisjoint(set(audioset_small[split][\"youtube_id\"]), set(audioset_small[other_split][\"youtube_id\"]))\n",
    "        assert set.isdisjoint(set(audiocaps[split][\"youtube_id\"]), set(audiocaps[other_split][\"youtube_id\"]))\n",
    "        assert set.isdisjoint(set(audioset_small[split][\"youtube_id\"]), set(audiocaps[other_split][\"youtube_id\"]))\n"
   ]
  }
 ],
 "metadata": {
  "kernelspec": {
   "display_name": "audiocap",
   "language": "python",
   "name": "python3"
  },
  "language_info": {
   "codemirror_mode": {
    "name": "ipython",
    "version": 3
   },
   "file_extension": ".py",
   "mimetype": "text/x-python",
   "name": "python",
   "nbconvert_exporter": "python",
   "pygments_lexer": "ipython3",
   "version": "3.8.16"
  },
  "orig_nbformat": 4
 },
 "nbformat": 4,
 "nbformat_minor": 2
}
