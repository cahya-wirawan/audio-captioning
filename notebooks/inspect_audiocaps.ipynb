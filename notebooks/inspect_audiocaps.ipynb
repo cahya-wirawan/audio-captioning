{
 "cells": [
  {
   "cell_type": "code",
   "execution_count": 1,
   "metadata": {},
   "outputs": [],
   "source": [
    "import pandas as pd"
   ]
  },
  {
   "cell_type": "code",
   "execution_count": 2,
   "metadata": {},
   "outputs": [
    {
     "name": "stdout",
     "output_type": "stream",
     "text": [
      "train 49838 unique: 49838\n",
      "valid 2475 unique: 495\n",
      "test 4875 unique: 975\n"
     ]
    }
   ],
   "source": [
    "audiocaps = {\n",
    "    \"train\": pd.read_csv(\"../data/audiocaps/csvs/train.csv\"),\n",
    "    \"valid\": pd.read_csv(\"../data/audiocaps/csvs/valid.csv\"),\n",
    "    \"test\": pd.read_csv(\"../data/audiocaps/csvs/test.csv\"),\n",
    "}\n",
    "\n",
    "for name, split in audiocaps.items():\n",
    "    print(name, len(split), \"unique:\",  len(split[\"youtube_id\"].unique()))\n"
   ]
  },
  {
   "cell_type": "code",
   "execution_count": 3,
   "metadata": {},
   "outputs": [
    {
     "data": {
      "text/plain": [
       "57188"
      ]
     },
     "execution_count": 3,
     "metadata": {},
     "output_type": "execute_result"
    }
   ],
   "source": [
    "audiocaps_all = pd.concat(audiocaps.values())\n",
    "len(audiocaps_all)"
   ]
  },
  {
   "cell_type": "code",
   "execution_count": 4,
   "metadata": {},
   "outputs": [
    {
     "data": {
      "text/plain": [
       "Index(['audiocap_id', 'youtube_id', 'start_time', 'caption'], dtype='object')"
      ]
     },
     "execution_count": 4,
     "metadata": {},
     "output_type": "execute_result"
    }
   ],
   "source": [
    "audiocaps_all.columns"
   ]
  },
  {
   "cell_type": "code",
   "execution_count": 5,
   "metadata": {},
   "outputs": [],
   "source": [
    "import os\n",
    "exists = audiocaps_all[\"youtube_id\"].drop_duplicates().apply(lambda x: os.path.exists(\"../data/audioset_full/audios/train_unbalanced/\" + x + \".mp3\"))"
   ]
  },
  {
   "cell_type": "code",
   "execution_count": 6,
   "metadata": {},
   "outputs": [
    {
     "data": {
      "text/plain": [
       "0.9107351680049894"
      ]
     },
     "execution_count": 6,
     "metadata": {},
     "output_type": "execute_result"
    }
   ],
   "source": [
    "exists.mean()"
   ]
  },
  {
   "cell_type": "code",
   "execution_count": 7,
   "metadata": {},
   "outputs": [],
   "source": [
    "exists_2 = audiocaps_all[\"youtube_id\"].drop_duplicates().apply(lambda x: os.path.exists(\"../data/audioset_full/audios/train_balanced/\" + x + \".mp3\"))\n",
    "exists_3 = audiocaps_all[\"youtube_id\"].drop_duplicates().apply(lambda x: os.path.exists(\"../data/audioset_full/audios/eval/\" + x + \".mp3\"))"
   ]
  },
  {
   "cell_type": "code",
   "execution_count": 8,
   "metadata": {},
   "outputs": [
    {
     "data": {
      "text/plain": [
       "True"
      ]
     },
     "execution_count": 8,
     "metadata": {},
     "output_type": "execute_result"
    }
   ],
   "source": [
    "exists.sum() == (exists | exists_2 | exists_3).sum()"
   ]
  },
  {
   "cell_type": "code",
   "execution_count": 9,
   "metadata": {},
   "outputs": [],
   "source": [
    "audioset_small = {\n",
    "    \"train\": pd.read_json(\"../data/audioset_small/annotations/train.jsonl\", lines=True),\n",
    "    \"valid\": pd.read_json(\"../data/audioset_small/annotations/valid.jsonl\", lines=True),\n",
    "    \"test\": pd.read_json(\"../data/audioset_small/annotations/test.jsonl\", lines=True),\n",
    "}\n",
    "\n",
    "audioset_small_all = pd.concat(audioset_small.values())"
   ]
  },
  {
   "cell_type": "code",
   "execution_count": 10,
   "metadata": {},
   "outputs": [],
   "source": [
    "splits = {\"train\", \"valid\", \"test\"}\n",
    "\n",
    "# CHECK LEAKAGE\n",
    "\n",
    "for split in splits:\n",
    "    for other_split in splits - {split}:\n",
    "        assert set.isdisjoint(set(audioset_small[split][\"youtube_id\"]), set(audioset_small[other_split][\"youtube_id\"]))\n",
    "        assert set.isdisjoint(set(audiocaps[split][\"youtube_id\"]), set(audiocaps[other_split][\"youtube_id\"]))\n",
    "        assert set.isdisjoint(set(audioset_small[split][\"youtube_id\"]), set(audiocaps[other_split][\"youtube_id\"]))\n"
   ]
  },
  {
   "cell_type": "code",
   "execution_count": 20,
   "metadata": {},
   "outputs": [
    {
     "data": {
      "text/plain": [
       "Index(['audiocap_id', 'youtube_id', 'start_time', 'caption'], dtype='object')"
      ]
     },
     "execution_count": 20,
     "metadata": {},
     "output_type": "execute_result"
    }
   ],
   "source": [
    "audiocaps[\"valid\"].columns"
   ]
  },
  {
   "cell_type": "code",
   "execution_count": 43,
   "metadata": {},
   "outputs": [
    {
     "data": {
      "text/html": [
       "<div>\n",
       "<style scoped>\n",
       "    .dataframe tbody tr th:only-of-type {\n",
       "        vertical-align: middle;\n",
       "    }\n",
       "\n",
       "    .dataframe tbody tr th {\n",
       "        vertical-align: top;\n",
       "    }\n",
       "\n",
       "    .dataframe thead th {\n",
       "        text-align: right;\n",
       "    }\n",
       "</style>\n",
       "<table border=\"1\" class=\"dataframe\">\n",
       "  <thead>\n",
       "    <tr style=\"text-align: right;\">\n",
       "      <th></th>\n",
       "      <th>youtube_id</th>\n",
       "      <th>caption_1</th>\n",
       "      <th>caption_2</th>\n",
       "      <th>caption_3</th>\n",
       "      <th>caption_4</th>\n",
       "      <th>caption_5</th>\n",
       "    </tr>\n",
       "  </thead>\n",
       "  <tbody>\n",
       "    <tr>\n",
       "      <th>0</th>\n",
       "      <td>rqfQRErjfk8</td>\n",
       "      <td>A large crowd cheers and applauds</td>\n",
       "      <td>An audience screams and gives applause</td>\n",
       "      <td>Continuous applause and cheering</td>\n",
       "      <td>An audience screams and gives applause</td>\n",
       "      <td>An audience cheers</td>\n",
       "    </tr>\n",
       "    <tr>\n",
       "      <th>1</th>\n",
       "      <td>rqu8iB22I_Y</td>\n",
       "      <td>Popping and crackling repeats as men yell and ...</td>\n",
       "      <td>A vehicle is running and crackling and popping...</td>\n",
       "      <td>People yell and laugh as a motor sputters and ...</td>\n",
       "      <td>Men screeching and shouting while a vehicle is...</td>\n",
       "      <td>People yell and laugh as a vehicle approaches ...</td>\n",
       "    </tr>\n",
       "    <tr>\n",
       "      <th>2</th>\n",
       "      <td>rwT__ERCUno</td>\n",
       "      <td>An engine idles consistently before sputtering...</td>\n",
       "      <td>A motorcycle engine is idling</td>\n",
       "      <td>A sputtering motor idles roughly</td>\n",
       "      <td>Sputtering and clanking of an idling powerful ...</td>\n",
       "      <td>An engine is idling while people speak</td>\n",
       "    </tr>\n",
       "    <tr>\n",
       "      <th>3</th>\n",
       "      <td>rwb6PSAee5Y</td>\n",
       "      <td>A toilet flushes quickly</td>\n",
       "      <td>A toilet flushes loudly and water runs down th...</td>\n",
       "      <td>A toilet flushes and water drains</td>\n",
       "      <td>A loud rumble followed by a toilet flushing</td>\n",
       "      <td>A toilet flushes and water drains</td>\n",
       "    </tr>\n",
       "    <tr>\n",
       "      <th>4</th>\n",
       "      <td>rwtmaKiCcQU</td>\n",
       "      <td>Distant men speak as a spray can nozzle is dep...</td>\n",
       "      <td>While a man talks in the distance, a sprayer s...</td>\n",
       "      <td>Intermittent spraying is accompanied by men sp...</td>\n",
       "      <td>A spray hisses followed by a man speaking and ...</td>\n",
       "      <td>A person sprays liquid onto a hard surface as ...</td>\n",
       "    </tr>\n",
       "    <tr>\n",
       "      <th>...</th>\n",
       "      <td>...</td>\n",
       "      <td>...</td>\n",
       "      <td>...</td>\n",
       "      <td>...</td>\n",
       "      <td>...</td>\n",
       "      <td>...</td>\n",
       "    </tr>\n",
       "    <tr>\n",
       "      <th>490</th>\n",
       "      <td>ztQ79sWWC34</td>\n",
       "      <td>A child speaks with some light rustling and cl...</td>\n",
       "      <td>A young child speaks and moves a spoon in dishes</td>\n",
       "      <td>A girl talks while objects hit</td>\n",
       "      <td>A child speaks and uses dishes</td>\n",
       "      <td>A child is speaking, shuffling and faint scrap...</td>\n",
       "    </tr>\n",
       "    <tr>\n",
       "      <th>491</th>\n",
       "      <td>zuua6-5goWw</td>\n",
       "      <td>Birds chirp and a pop occurs before a man speaks</td>\n",
       "      <td>Birds chirp quietly and an adult man speaks</td>\n",
       "      <td>A soft plastic clack as seagulls squawk in the...</td>\n",
       "      <td>Birds chirp and a man speaks</td>\n",
       "      <td>Birds twitter and chirp as a man speak quietly</td>\n",
       "    </tr>\n",
       "    <tr>\n",
       "      <th>492</th>\n",
       "      <td>zvABdOhz9fE</td>\n",
       "      <td>A man talks while some wood is rubbed far away</td>\n",
       "      <td>A man speaking as wood repeatedly clacks in th...</td>\n",
       "      <td>A man is talking loudly while another man spok...</td>\n",
       "      <td>A man speaking continuously with some clanking</td>\n",
       "      <td>A man speaking with some clanking</td>\n",
       "    </tr>\n",
       "    <tr>\n",
       "      <th>493</th>\n",
       "      <td>zvmXKyAFq80</td>\n",
       "      <td>A vehicle engine is revving the idles</td>\n",
       "      <td>A rough engine revs and sputters</td>\n",
       "      <td>Humming and rattling of an idling and revving ...</td>\n",
       "      <td>A car revs loudly a few times while idling</td>\n",
       "      <td>A vehicle is revving and grooming</td>\n",
       "    </tr>\n",
       "    <tr>\n",
       "      <th>494</th>\n",
       "      <td>zwOBqeFTgiU</td>\n",
       "      <td>An infant crying frantically</td>\n",
       "      <td>A couple of babies are crying loudly and inten...</td>\n",
       "      <td>A baby crying loudly</td>\n",
       "      <td>A couple of babies cry loudly and intensely</td>\n",
       "      <td>Two babies cry</td>\n",
       "    </tr>\n",
       "  </tbody>\n",
       "</table>\n",
       "<p>495 rows × 6 columns</p>\n",
       "</div>"
      ],
      "text/plain": [
       "      youtube_id                                          caption_1  \\\n",
       "0    rqfQRErjfk8                  A large crowd cheers and applauds   \n",
       "1    rqu8iB22I_Y  Popping and crackling repeats as men yell and ...   \n",
       "2    rwT__ERCUno  An engine idles consistently before sputtering...   \n",
       "3    rwb6PSAee5Y                           A toilet flushes quickly   \n",
       "4    rwtmaKiCcQU  Distant men speak as a spray can nozzle is dep...   \n",
       "..           ...                                                ...   \n",
       "490  ztQ79sWWC34  A child speaks with some light rustling and cl...   \n",
       "491  zuua6-5goWw   Birds chirp and a pop occurs before a man speaks   \n",
       "492  zvABdOhz9fE     A man talks while some wood is rubbed far away   \n",
       "493  zvmXKyAFq80              A vehicle engine is revving the idles   \n",
       "494  zwOBqeFTgiU                       An infant crying frantically   \n",
       "\n",
       "                                             caption_2  \\\n",
       "0               An audience screams and gives applause   \n",
       "1    A vehicle is running and crackling and popping...   \n",
       "2                        A motorcycle engine is idling   \n",
       "3    A toilet flushes loudly and water runs down th...   \n",
       "4    While a man talks in the distance, a sprayer s...   \n",
       "..                                                 ...   \n",
       "490   A young child speaks and moves a spoon in dishes   \n",
       "491        Birds chirp quietly and an adult man speaks   \n",
       "492  A man speaking as wood repeatedly clacks in th...   \n",
       "493                   A rough engine revs and sputters   \n",
       "494  A couple of babies are crying loudly and inten...   \n",
       "\n",
       "                                             caption_3  \\\n",
       "0                     Continuous applause and cheering   \n",
       "1    People yell and laugh as a motor sputters and ...   \n",
       "2                     A sputtering motor idles roughly   \n",
       "3                    A toilet flushes and water drains   \n",
       "4    Intermittent spraying is accompanied by men sp...   \n",
       "..                                                 ...   \n",
       "490                     A girl talks while objects hit   \n",
       "491  A soft plastic clack as seagulls squawk in the...   \n",
       "492  A man is talking loudly while another man spok...   \n",
       "493  Humming and rattling of an idling and revving ...   \n",
       "494                               A baby crying loudly   \n",
       "\n",
       "                                             caption_4  \\\n",
       "0               An audience screams and gives applause   \n",
       "1    Men screeching and shouting while a vehicle is...   \n",
       "2    Sputtering and clanking of an idling powerful ...   \n",
       "3          A loud rumble followed by a toilet flushing   \n",
       "4    A spray hisses followed by a man speaking and ...   \n",
       "..                                                 ...   \n",
       "490                     A child speaks and uses dishes   \n",
       "491                       Birds chirp and a man speaks   \n",
       "492     A man speaking continuously with some clanking   \n",
       "493         A car revs loudly a few times while idling   \n",
       "494        A couple of babies cry loudly and intensely   \n",
       "\n",
       "                                             caption_5  \n",
       "0                                   An audience cheers  \n",
       "1    People yell and laugh as a vehicle approaches ...  \n",
       "2               An engine is idling while people speak  \n",
       "3                    A toilet flushes and water drains  \n",
       "4    A person sprays liquid onto a hard surface as ...  \n",
       "..                                                 ...  \n",
       "490  A child is speaking, shuffling and faint scrap...  \n",
       "491     Birds twitter and chirp as a man speak quietly  \n",
       "492                  A man speaking with some clanking  \n",
       "493                  A vehicle is revving and grooming  \n",
       "494                                     Two babies cry  \n",
       "\n",
       "[495 rows x 6 columns]"
      ]
     },
     "execution_count": 43,
     "metadata": {},
     "output_type": "execute_result"
    }
   ],
   "source": [
    "(\n",
    "    audiocaps[\"valid\"]\n",
    "    .drop(columns=[\"audiocap_id\", \"start_time\"])\n",
    "    .groupby(\"youtube_id\")\n",
    "    .agg(list)[\"caption\"]\n",
    "    .apply(pd.Series)\n",
    "    .rename(columns=lambda x: \"caption_\" + str(x+1))\n",
    "    .reset_index()\n",
    ")"
   ]
  }
 ],
 "metadata": {
  "kernelspec": {
   "display_name": "audiocap",
   "language": "python",
   "name": "python3"
  },
  "language_info": {
   "codemirror_mode": {
    "name": "ipython",
    "version": 3
   },
   "file_extension": ".py",
   "mimetype": "text/x-python",
   "name": "python",
   "nbconvert_exporter": "python",
   "pygments_lexer": "ipython3",
   "version": "3.8.16"
  },
  "orig_nbformat": 4
 },
 "nbformat": 4,
 "nbformat_minor": 2
}
