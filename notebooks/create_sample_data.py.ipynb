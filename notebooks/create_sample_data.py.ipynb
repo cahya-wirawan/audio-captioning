{
 "cells": [
  {
   "cell_type": "code",
   "execution_count": 2,
   "id": "287cf949",
   "metadata": {},
   "outputs": [],
   "source": [
    "tau_path = \"/share/rk6/shared/dcase22/TAU-urban-acoustic-scenes-2022-mobile-development\"\n",
    "dest_path = \"/home/florian/malach23-pipeline/datasets/example_data\""
   ]
  },
  {
   "cell_type": "code",
   "execution_count": 13,
   "id": "3cb0cf45",
   "metadata": {},
   "outputs": [],
   "source": [
    "# extract random filenames\n",
    "import os\n",
    "import numpy as np\n",
    "files = np.array(os.listdir(os.path.join(tau_path, \"audio\")))\n",
    "sample_indices = np.random.randint(0, len(files), size=200)\n",
    "sample_files = files[sample_indices]"
   ]
  },
  {
   "cell_type": "code",
   "execution_count": 16,
   "id": "786d84ad",
   "metadata": {},
   "outputs": [],
   "source": [
    "# copy files to dest_path\n",
    "import shutil\n",
    "for file in sample_files:\n",
    "    src = os.path.join(tau_path, \"audio\", file)\n",
    "    dst = os.path.join(dest_path, \"audio\", file)\n",
    "    shutil.copyfile(src, dst)"
   ]
  },
  {
   "cell_type": "code",
   "execution_count": 50,
   "id": "ed7dd1ad",
   "metadata": {},
   "outputs": [],
   "source": [
    "# copy meta.csv entries to dest_path\n",
    "import pandas as pd\n",
    "df = pd.read_csv(os.path.join(tau_path, \"meta.csv\"), sep=\"\\t\")\n",
    "df = df[df['filename'].isin([os.path.join(\"audio\", f) for f in sample_files])]\n",
    "df = df.reset_index(drop=True)\n",
    "df = df[['filename', 'scene_label']]\n",
    "df.to_csv(os.path.join(dest_path, \"meta.csv\"), sep=\"\\t\")"
   ]
  },
  {
   "cell_type": "code",
   "execution_count": 51,
   "id": "799708cb",
   "metadata": {},
   "outputs": [],
   "source": [
    "# create train and test folds\n",
    "train_df = df[:120].reset_index(drop=True)\n",
    "test_df = df[120:].reset_index(drop=True)\n",
    "train_df.to_csv(os.path.join(dest_path, \"train.csv\"), sep=\"\\t\")\n",
    "test_df.to_csv(os.path.join(dest_path, \"test.csv\"), sep=\"\\t\")"
   ]
  },
  {
   "cell_type": "code",
   "execution_count": 48,
   "id": "ecd2432d",
   "metadata": {},
   "outputs": [
    {
     "data": {
      "text/plain": [
       "array(['metro', 'metro_station', 'public_square', 'shopping_mall',\n",
       "       'street_pedestrian', 'street_traffic', 'tram', 'airport', 'bus',\n",
       "       'park'], dtype=object)"
      ]
     },
     "execution_count": 48,
     "metadata": {},
     "output_type": "execute_result"
    }
   ],
   "source": [
    "test_df['scene_label'].unique()"
   ]
  },
  {
   "cell_type": "code",
   "execution_count": 49,
   "id": "50383b93",
   "metadata": {},
   "outputs": [
    {
     "data": {
      "text/html": [
       "<div>\n",
       "<style scoped>\n",
       "    .dataframe tbody tr th:only-of-type {\n",
       "        vertical-align: middle;\n",
       "    }\n",
       "\n",
       "    .dataframe tbody tr th {\n",
       "        vertical-align: top;\n",
       "    }\n",
       "\n",
       "    .dataframe thead th {\n",
       "        text-align: right;\n",
       "    }\n",
       "</style>\n",
       "<table border=\"1\" class=\"dataframe\">\n",
       "  <thead>\n",
       "    <tr style=\"text-align: right;\">\n",
       "      <th></th>\n",
       "      <th>filename</th>\n",
       "      <th>scene_label</th>\n",
       "    </tr>\n",
       "  </thead>\n",
       "  <tbody>\n",
       "    <tr>\n",
       "      <th>0</th>\n",
       "      <td>audio/airport-lyon-1101-41603-9-a.wav</td>\n",
       "      <td>airport</td>\n",
       "    </tr>\n",
       "    <tr>\n",
       "      <th>1</th>\n",
       "      <td>audio/airport-prague-1034-43125-5-a.wav</td>\n",
       "      <td>airport</td>\n",
       "    </tr>\n",
       "    <tr>\n",
       "      <th>2</th>\n",
       "      <td>audio/airport-helsinki-3-131-8-a.wav</td>\n",
       "      <td>airport</td>\n",
       "    </tr>\n",
       "    <tr>\n",
       "      <th>3</th>\n",
       "      <td>audio/airport-helsinki-3-138-4-a.wav</td>\n",
       "      <td>airport</td>\n",
       "    </tr>\n",
       "    <tr>\n",
       "      <th>4</th>\n",
       "      <td>audio/airport-helsinki-4-179-7-a.wav</td>\n",
       "      <td>airport</td>\n",
       "    </tr>\n",
       "    <tr>\n",
       "      <th>...</th>\n",
       "      <td>...</td>\n",
       "      <td>...</td>\n",
       "    </tr>\n",
       "    <tr>\n",
       "      <th>115</th>\n",
       "      <td>audio/bus-lyon-1177-45494-4-s1.wav</td>\n",
       "      <td>bus</td>\n",
       "    </tr>\n",
       "    <tr>\n",
       "      <th>116</th>\n",
       "      <td>audio/bus-lisbon-1212-45457-5-s3.wav</td>\n",
       "      <td>bus</td>\n",
       "    </tr>\n",
       "    <tr>\n",
       "      <th>117</th>\n",
       "      <td>audio/bus-helsinki-211-6460-7-s3.wav</td>\n",
       "      <td>bus</td>\n",
       "    </tr>\n",
       "    <tr>\n",
       "      <th>118</th>\n",
       "      <td>audio/metro-prague-1204-44537-5-b.wav</td>\n",
       "      <td>metro</td>\n",
       "    </tr>\n",
       "    <tr>\n",
       "      <th>119</th>\n",
       "      <td>audio/metro-prague-1204-44537-6-b.wav</td>\n",
       "      <td>metro</td>\n",
       "    </tr>\n",
       "  </tbody>\n",
       "</table>\n",
       "<p>120 rows × 2 columns</p>\n",
       "</div>"
      ],
      "text/plain": [
       "                                    filename scene_label\n",
       "0      audio/airport-lyon-1101-41603-9-a.wav     airport\n",
       "1    audio/airport-prague-1034-43125-5-a.wav     airport\n",
       "2       audio/airport-helsinki-3-131-8-a.wav     airport\n",
       "3       audio/airport-helsinki-3-138-4-a.wav     airport\n",
       "4       audio/airport-helsinki-4-179-7-a.wav     airport\n",
       "..                                       ...         ...\n",
       "115       audio/bus-lyon-1177-45494-4-s1.wav         bus\n",
       "116     audio/bus-lisbon-1212-45457-5-s3.wav         bus\n",
       "117     audio/bus-helsinki-211-6460-7-s3.wav         bus\n",
       "118    audio/metro-prague-1204-44537-5-b.wav       metro\n",
       "119    audio/metro-prague-1204-44537-6-b.wav       metro\n",
       "\n",
       "[120 rows x 2 columns]"
      ]
     },
     "execution_count": 49,
     "metadata": {},
     "output_type": "execute_result"
    }
   ],
   "source": [
    "train_df"
   ]
  },
  {
   "cell_type": "code",
   "execution_count": null,
   "id": "1cf505a0",
   "metadata": {},
   "outputs": [],
   "source": []
  }
 ],
 "metadata": {
  "kernelspec": {
   "display_name": "Python 3 (ipykernel)",
   "language": "python",
   "name": "python3"
  },
  "language_info": {
   "codemirror_mode": {
    "name": "ipython",
    "version": 3
   },
   "file_extension": ".py",
   "mimetype": "text/x-python",
   "name": "python",
   "nbconvert_exporter": "python",
   "pygments_lexer": "ipython3",
   "version": "3.8.16"
  }
 },
 "nbformat": 4,
 "nbformat_minor": 5
}
