{
 "cells": [
  {
   "cell_type": "code",
   "execution_count": 2,
   "metadata": {},
   "outputs": [],
   "source": [
    "import audiocap\n",
    "import transformers"
   ]
  },
  {
   "cell_type": "code",
   "execution_count": 3,
   "metadata": {},
   "outputs": [],
   "source": [
    "tokenizer = transformers.WhisperTokenizer.from_pretrained(\n",
    "    \"openai/whisper-tiny\", \n",
    "    language=\"en\", \n",
    "    task=\"transcribe\",\n",
    ")\n",
    "feature_extractor = transformers.WhisperFeatureExtractor.from_pretrained(\"openai/whisper-tiny\")"
   ]
  },
  {
   "cell_type": "code",
   "execution_count": 4,
   "metadata": {},
   "outputs": [
    {
     "data": {
      "application/vnd.jupyter.widget-view+json": {
       "model_id": "dbd087438ea84f799b6d5eb1fe3b4425",
       "version_major": 2,
       "version_minor": 0
      },
      "text/plain": [
       "Resolving data files:   0%|          | 0/3840 [00:00<?, ?it/s]"
      ]
     },
     "metadata": {},
     "output_type": "display_data"
    },
    {
     "name": "stderr",
     "output_type": "stream",
     "text": [
      "Found cached dataset audiofolder (/var/tmp/xkadlci2/.cache/huggingface/datasets/audiofolder/default-010135410e1e7e7d/0.0.0/6cbdd16f8688354c63b4e2a36e1585d05de285023ee6443ffd71c4182055c0fc)\n"
     ]
    },
    {
     "data": {
      "application/vnd.jupyter.widget-view+json": {
       "model_id": "15f432eabcc14d099b9b77fbd71a5e52",
       "version_major": 2,
       "version_minor": 0
      },
      "text/plain": [
       "  0%|          | 0/1 [00:00<?, ?it/s]"
      ]
     },
     "metadata": {},
     "output_type": "display_data"
    },
    {
     "data": {
      "application/vnd.jupyter.widget-view+json": {
       "model_id": "e7e7c08dac3047c588a54c5422f0d46f",
       "version_major": 2,
       "version_minor": 0
      },
      "text/plain": [
       "Resolving data files:   0%|          | 0/1046 [00:00<?, ?it/s]"
      ]
     },
     "metadata": {},
     "output_type": "display_data"
    },
    {
     "name": "stderr",
     "output_type": "stream",
     "text": [
      "Found cached dataset audiofolder (/var/tmp/xkadlci2/.cache/huggingface/datasets/audiofolder/default-74cb5e20ba0af8f3/0.0.0/6cbdd16f8688354c63b4e2a36e1585d05de285023ee6443ffd71c4182055c0fc)\n"
     ]
    },
    {
     "data": {
      "application/vnd.jupyter.widget-view+json": {
       "model_id": "9e9434d440af4cc4b4e14ab3e8ebae31",
       "version_major": 2,
       "version_minor": 0
      },
      "text/plain": [
       "  0%|          | 0/1 [00:00<?, ?it/s]"
      ]
     },
     "metadata": {},
     "output_type": "display_data"
    },
    {
     "data": {
      "application/vnd.jupyter.widget-view+json": {
       "model_id": "9c23422b2bc5441bbe6bade16274f692",
       "version_major": 2,
       "version_minor": 0
      },
      "text/plain": [
       "Resolving data files:   0%|          | 0/1046 [00:00<?, ?it/s]"
      ]
     },
     "metadata": {},
     "output_type": "display_data"
    },
    {
     "name": "stderr",
     "output_type": "stream",
     "text": [
      "Found cached dataset audiofolder (/var/tmp/xkadlci2/.cache/huggingface/datasets/audiofolder/default-342bb2446278e6e8/0.0.0/6cbdd16f8688354c63b4e2a36e1585d05de285023ee6443ffd71c4182055c0fc)\n"
     ]
    },
    {
     "data": {
      "application/vnd.jupyter.widget-view+json": {
       "model_id": "592018f215e244379110f3fb15514186",
       "version_major": 2,
       "version_minor": 0
      },
      "text/plain": [
       "  0%|          | 0/1 [00:00<?, ?it/s]"
      ]
     },
     "metadata": {},
     "output_type": "display_data"
    }
   ],
   "source": [
    "clotho_ds = audiocap.data.load_clotho(\n",
    "    audiofolder_root=\"../data/clotho_v2.1\",\n",
    "    tokenizer=tokenizer,\n",
    "    feature_extractor=feature_extractor,\n",
    ")"
   ]
  },
  {
   "cell_type": "code",
   "execution_count": 5,
   "metadata": {},
   "outputs": [
    {
     "name": "stdout",
     "output_type": "stream",
     "text": [
      "clotho > caption: \n",
      "<|startoftranscript|><|en|><|transcribe|><|notimestamps|>clotho > caption: A couple of people are talking back and forth.<|endoftext|>\n",
      "\n",
      "clotho > caption: \n",
      "<|startoftranscript|><|en|><|transcribe|><|notimestamps|>clotho > caption: Heavy winds are blowing as waves from the ocean are crashing onto the shore.<|endoftext|>\n",
      "\n",
      "clotho > caption: \n",
      "<|startoftranscript|><|en|><|transcribe|><|notimestamps|>clotho > caption: A man walking who is blowing his nose hard and about to sneeze.<|endoftext|>\n",
      "\n"
     ]
    }
   ],
   "source": [
    "for split in [\"train\", \"val\", \"test\"]:\n",
    "    batch = next(iter(clotho_ds[split]))\n",
    "    print(tokenizer.decode(batch[\"forced_ac_decoder_ids\"]))\n",
    "    print(tokenizer.decode(batch[\"labels\"]))\n",
    "    print()"
   ]
  },
  {
   "cell_type": "code",
   "execution_count": 6,
   "metadata": {},
   "outputs": [
    {
     "data": {
      "application/vnd.jupyter.widget-view+json": {
       "model_id": "73502fbd452c432189d1ff449ff68d36",
       "version_major": 2,
       "version_minor": 0
      },
      "text/plain": [
       "Resolving data files:   0%|          | 0/129 [00:00<?, ?it/s]"
      ]
     },
     "metadata": {},
     "output_type": "display_data"
    },
    {
     "name": "stderr",
     "output_type": "stream",
     "text": [
      "Found cached dataset audiofolder (/var/tmp/xkadlci2/.cache/huggingface/datasets/audiofolder/default-1a0f3ef086948f67/0.0.0/6cbdd16f8688354c63b4e2a36e1585d05de285023ee6443ffd71c4182055c0fc)\n"
     ]
    },
    {
     "data": {
      "application/vnd.jupyter.widget-view+json": {
       "model_id": "a2d9072bd42c429e8f7da8aacdb5c8f4",
       "version_major": 2,
       "version_minor": 0
      },
      "text/plain": [
       "  0%|          | 0/1 [00:00<?, ?it/s]"
      ]
     },
     "metadata": {},
     "output_type": "display_data"
    },
    {
     "data": {
      "application/vnd.jupyter.widget-view+json": {
       "model_id": "bfe8ff253d9844ff8a229ffdd266a5f3",
       "version_major": 2,
       "version_minor": 0
      },
      "text/plain": [
       "Resolving data files:   0%|          | 0/129 [00:00<?, ?it/s]"
      ]
     },
     "metadata": {},
     "output_type": "display_data"
    },
    {
     "name": "stderr",
     "output_type": "stream",
     "text": [
      "Found cached dataset audiofolder (/var/tmp/xkadlci2/.cache/huggingface/datasets/audiofolder/default-9006ad7418f4a1fc/0.0.0/6cbdd16f8688354c63b4e2a36e1585d05de285023ee6443ffd71c4182055c0fc)\n"
     ]
    },
    {
     "data": {
      "application/vnd.jupyter.widget-view+json": {
       "model_id": "deb3975faccd444faab3ddbec2d833ae",
       "version_major": 2,
       "version_minor": 0
      },
      "text/plain": [
       "  0%|          | 0/1 [00:00<?, ?it/s]"
      ]
     },
     "metadata": {},
     "output_type": "display_data"
    },
    {
     "data": {
      "application/vnd.jupyter.widget-view+json": {
       "model_id": "909dc0dd331e4e97af57a09ae0a975ad",
       "version_major": 2,
       "version_minor": 0
      },
      "text/plain": [
       "Resolving data files:   0%|          | 0/129 [00:00<?, ?it/s]"
      ]
     },
     "metadata": {},
     "output_type": "display_data"
    },
    {
     "name": "stderr",
     "output_type": "stream",
     "text": [
      "Found cached dataset audiofolder (/var/tmp/xkadlci2/.cache/huggingface/datasets/audiofolder/default-a63494954e2562fe/0.0.0/6cbdd16f8688354c63b4e2a36e1585d05de285023ee6443ffd71c4182055c0fc)\n"
     ]
    },
    {
     "data": {
      "application/vnd.jupyter.widget-view+json": {
       "model_id": "420148653b1644f998af9108188c0a10",
       "version_major": 2,
       "version_minor": 0
      },
      "text/plain": [
       "  0%|          | 0/1 [00:00<?, ?it/s]"
      ]
     },
     "metadata": {},
     "output_type": "display_data"
    }
   ],
   "source": [
    "audiocaps_ds = audiocap.data.load_audiocaps(\n",
    "    audiofolder_root=\"../data/audiocaps_dummy/audiofolder\",\n",
    "    tokenizer=tokenizer,\n",
    "    feature_extractor=feature_extractor,\n",
    ")"
   ]
  },
  {
   "cell_type": "code",
   "execution_count": 7,
   "metadata": {},
   "outputs": [
    {
     "name": "stderr",
     "output_type": "stream",
     "text": [
      "/var/tmp/xkadlci2/.conda/envs/audiocap/lib/python3.8/site-packages/datasets/features/audio.py:313: UserWarning: \n",
      "To support 'mp3' decoding with `torchaudio>=0.12.0`, please install `ffmpeg4` system package. On Google Colab you can run:\n",
      "\n",
      "\t!add-apt-repository -y ppa:jonathonf/ffmpeg-4 && apt update && apt install -y ffmpeg\n",
      "\n",
      "and restart your runtime. Alternatively, you can downgrade `torchaudio`:\n",
      "\n",
      "\tpip install \"torchaudio<0.12\"`.\n",
      "\n",
      "Otherwise 'mp3' files will be decoded with `librosa`.\n",
      "  warnings.warn(\n",
      "/var/tmp/xkadlci2/.conda/envs/audiocap/lib/python3.8/site-packages/datasets/features/audio.py:334: UserWarning: Decoding mp3 with `librosa` instead of `torchaudio`, decoding might be slow.\n",
      "  warnings.warn(\"Decoding mp3 with `librosa` instead of `torchaudio`, decoding might be slow.\")\n"
     ]
    },
    {
     "name": "stdout",
     "output_type": "stream",
     "text": [
      "audiocaps > caption: \n",
      "<|startoftranscript|><|en|><|transcribe|><|notimestamps|>audiocaps > caption: An engine starting and staying on at the same consistency<|endoftext|>\n",
      "\n",
      "audiocaps > caption: \n",
      "<|startoftranscript|><|en|><|transcribe|><|notimestamps|>audiocaps > caption: A large crowd cheers and applauds<|endoftext|>\n",
      "\n",
      "audiocaps > caption: \n",
      "<|startoftranscript|><|en|><|transcribe|><|notimestamps|>audiocaps > caption: A vehicle driving as a man and woman are talking and laughing<|endoftext|>\n",
      "\n"
     ]
    }
   ],
   "source": [
    "for split in [\"train\", \"val\", \"test\"]:\n",
    "    batch = next(iter(audiocaps_ds[split]))\n",
    "    print(tokenizer.decode(batch[\"forced_ac_decoder_ids\"]))\n",
    "    print(tokenizer.decode(batch[\"labels\"]))\n",
    "    print()"
   ]
  },
  {
   "cell_type": "code",
   "execution_count": 8,
   "metadata": {},
   "outputs": [
    {
     "data": {
      "application/vnd.jupyter.widget-view+json": {
       "model_id": "1357f89711e2455f81251adea73ee5a3",
       "version_major": 2,
       "version_minor": 0
      },
      "text/plain": [
       "Resolving data files:   0%|          | 0/129 [00:00<?, ?it/s]"
      ]
     },
     "metadata": {},
     "output_type": "display_data"
    },
    {
     "name": "stdout",
     "output_type": "stream",
     "text": [
      "Downloading and preparing dataset audiofolder/default to /var/tmp/xkadlci2/.cache/huggingface/datasets/audiofolder/default-1a09a31ad242c5f3/0.0.0/6cbdd16f8688354c63b4e2a36e1585d05de285023ee6443ffd71c4182055c0fc...\n"
     ]
    },
    {
     "data": {
      "application/vnd.jupyter.widget-view+json": {
       "model_id": "3840d0cea3ec447cbdba0a870d0684f2",
       "version_major": 2,
       "version_minor": 0
      },
      "text/plain": [
       "Downloading data files:   0%|          | 0/129 [00:00<?, ?it/s]"
      ]
     },
     "metadata": {},
     "output_type": "display_data"
    },
    {
     "data": {
      "application/vnd.jupyter.widget-view+json": {
       "model_id": "a58e4e47f8db41d8b5ad672e674956c9",
       "version_major": 2,
       "version_minor": 0
      },
      "text/plain": [
       "Downloading data files: 0it [00:00, ?it/s]"
      ]
     },
     "metadata": {},
     "output_type": "display_data"
    },
    {
     "data": {
      "application/vnd.jupyter.widget-view+json": {
       "model_id": "af1df353011e43cbb0db9fe47d749875",
       "version_major": 2,
       "version_minor": 0
      },
      "text/plain": [
       "Extracting data files: 0it [00:00, ?it/s]"
      ]
     },
     "metadata": {},
     "output_type": "display_data"
    },
    {
     "data": {
      "application/vnd.jupyter.widget-view+json": {
       "model_id": "d51e347417134c1aa284b04437b098c3",
       "version_major": 2,
       "version_minor": 0
      },
      "text/plain": [
       "Generating train split: 0 examples [00:00, ? examples/s]"
      ]
     },
     "metadata": {},
     "output_type": "display_data"
    },
    {
     "name": "stdout",
     "output_type": "stream",
     "text": [
      "Dataset audiofolder downloaded and prepared to /var/tmp/xkadlci2/.cache/huggingface/datasets/audiofolder/default-1a09a31ad242c5f3/0.0.0/6cbdd16f8688354c63b4e2a36e1585d05de285023ee6443ffd71c4182055c0fc. Subsequent calls will reuse this data.\n"
     ]
    },
    {
     "data": {
      "application/vnd.jupyter.widget-view+json": {
       "model_id": "5c1aa4534a444af49e416e6faa7a1c1c",
       "version_major": 2,
       "version_minor": 0
      },
      "text/plain": [
       "  0%|          | 0/1 [00:00<?, ?it/s]"
      ]
     },
     "metadata": {},
     "output_type": "display_data"
    },
    {
     "data": {
      "application/vnd.jupyter.widget-view+json": {
       "model_id": "6d7b143a168940778b5ef1b21dead160",
       "version_major": 2,
       "version_minor": 0
      },
      "text/plain": [
       "Resolving data files:   0%|          | 0/33 [00:00<?, ?it/s]"
      ]
     },
     "metadata": {},
     "output_type": "display_data"
    },
    {
     "name": "stdout",
     "output_type": "stream",
     "text": [
      "Downloading and preparing dataset audiofolder/default to /var/tmp/xkadlci2/.cache/huggingface/datasets/audiofolder/default-35ed62433e2b0621/0.0.0/6cbdd16f8688354c63b4e2a36e1585d05de285023ee6443ffd71c4182055c0fc...\n"
     ]
    },
    {
     "data": {
      "application/vnd.jupyter.widget-view+json": {
       "model_id": "7ce6ebd35b6a49dbbc039049382f2e20",
       "version_major": 2,
       "version_minor": 0
      },
      "text/plain": [
       "Downloading data files:   0%|          | 0/33 [00:00<?, ?it/s]"
      ]
     },
     "metadata": {},
     "output_type": "display_data"
    },
    {
     "data": {
      "application/vnd.jupyter.widget-view+json": {
       "model_id": "2685c9321cf94489ab0414aa808a561d",
       "version_major": 2,
       "version_minor": 0
      },
      "text/plain": [
       "Downloading data files: 0it [00:00, ?it/s]"
      ]
     },
     "metadata": {},
     "output_type": "display_data"
    },
    {
     "data": {
      "application/vnd.jupyter.widget-view+json": {
       "model_id": "82c48cbf6a124327a6ac1e8d347d3adb",
       "version_major": 2,
       "version_minor": 0
      },
      "text/plain": [
       "Extracting data files: 0it [00:00, ?it/s]"
      ]
     },
     "metadata": {},
     "output_type": "display_data"
    },
    {
     "data": {
      "application/vnd.jupyter.widget-view+json": {
       "model_id": "8a76c04f069148cbb644c31717424a74",
       "version_major": 2,
       "version_minor": 0
      },
      "text/plain": [
       "Generating valid split: 0 examples [00:00, ? examples/s]"
      ]
     },
     "metadata": {},
     "output_type": "display_data"
    },
    {
     "name": "stdout",
     "output_type": "stream",
     "text": [
      "Dataset audiofolder downloaded and prepared to /var/tmp/xkadlci2/.cache/huggingface/datasets/audiofolder/default-35ed62433e2b0621/0.0.0/6cbdd16f8688354c63b4e2a36e1585d05de285023ee6443ffd71c4182055c0fc. Subsequent calls will reuse this data.\n"
     ]
    },
    {
     "data": {
      "application/vnd.jupyter.widget-view+json": {
       "model_id": "94e29960dfab4bab8b8a0253bb2e6949",
       "version_major": 2,
       "version_minor": 0
      },
      "text/plain": [
       "  0%|          | 0/1 [00:00<?, ?it/s]"
      ]
     },
     "metadata": {},
     "output_type": "display_data"
    },
    {
     "data": {
      "application/vnd.jupyter.widget-view+json": {
       "model_id": "0d9907d23c7840f9826736a675074f2b",
       "version_major": 2,
       "version_minor": 0
      },
      "text/plain": [
       "Resolving data files:   0%|          | 0/33 [00:00<?, ?it/s]"
      ]
     },
     "metadata": {},
     "output_type": "display_data"
    },
    {
     "name": "stdout",
     "output_type": "stream",
     "text": [
      "Downloading and preparing dataset audiofolder/default to /var/tmp/xkadlci2/.cache/huggingface/datasets/audiofolder/default-6d96fcddf5181255/0.0.0/6cbdd16f8688354c63b4e2a36e1585d05de285023ee6443ffd71c4182055c0fc...\n"
     ]
    },
    {
     "data": {
      "application/vnd.jupyter.widget-view+json": {
       "model_id": "72a5dca1dad049a4bb5e4206701a974e",
       "version_major": 2,
       "version_minor": 0
      },
      "text/plain": [
       "Downloading data files:   0%|          | 0/33 [00:00<?, ?it/s]"
      ]
     },
     "metadata": {},
     "output_type": "display_data"
    },
    {
     "data": {
      "application/vnd.jupyter.widget-view+json": {
       "model_id": "d92ec02f809f462cb9e4c60525c72c12",
       "version_major": 2,
       "version_minor": 0
      },
      "text/plain": [
       "Downloading data files: 0it [00:00, ?it/s]"
      ]
     },
     "metadata": {},
     "output_type": "display_data"
    },
    {
     "data": {
      "application/vnd.jupyter.widget-view+json": {
       "model_id": "a056492b479e494e96d6e53976d69676",
       "version_major": 2,
       "version_minor": 0
      },
      "text/plain": [
       "Extracting data files: 0it [00:00, ?it/s]"
      ]
     },
     "metadata": {},
     "output_type": "display_data"
    },
    {
     "data": {
      "application/vnd.jupyter.widget-view+json": {
       "model_id": "23bee4a13c68496e81fb1f10d16ea47a",
       "version_major": 2,
       "version_minor": 0
      },
      "text/plain": [
       "Generating test split: 0 examples [00:00, ? examples/s]"
      ]
     },
     "metadata": {},
     "output_type": "display_data"
    },
    {
     "name": "stdout",
     "output_type": "stream",
     "text": [
      "Dataset audiofolder downloaded and prepared to /var/tmp/xkadlci2/.cache/huggingface/datasets/audiofolder/default-6d96fcddf5181255/0.0.0/6cbdd16f8688354c63b4e2a36e1585d05de285023ee6443ffd71c4182055c0fc. Subsequent calls will reuse this data.\n"
     ]
    },
    {
     "data": {
      "application/vnd.jupyter.widget-view+json": {
       "model_id": "93fdc6a8389446fc86bf310e93f9f9aa",
       "version_major": 2,
       "version_minor": 0
      },
      "text/plain": [
       "  0%|          | 0/1 [00:00<?, ?it/s]"
      ]
     },
     "metadata": {},
     "output_type": "display_data"
    }
   ],
   "source": [
    "audioset_ds = audiocap.data.load_audioset_small(\n",
    "    audiofolder_root=\"../data/audioset_small_dummy/audiofolder\",\n",
    "    audioset_ontology_json=\"../data/audioset_small_dummy/annotations/ontology.json\",\n",
    "    tokenizer=tokenizer,\n",
    "    feature_extractor=feature_extractor,\n",
    ")"
   ]
  },
  {
   "cell_type": "code",
   "execution_count": 9,
   "metadata": {},
   "outputs": [
    {
     "name": "stdout",
     "output_type": "stream",
     "text": [
      "audioset > keywords: \n",
      "<|startoftranscript|><|en|><|transcribe|><|notimestamps|>audioset > keywords: vehicle, motor vehicle (road), emergency vehicle, siren, fire engine - fire truck (siren), vehicle horn - car horn - honking, toot, truck, sounds of things, traffic noise - roadway noise, car<|endoftext|>\n",
      "\n",
      "audioset > keywords: \n",
      "<|startoftranscript|><|en|><|transcribe|><|notimestamps|>audioset > keywords: percussion, wood block<|endoftext|>\n",
      "\n",
      "audioset > keywords: \n",
      "<|startoftranscript|><|en|><|transcribe|><|notimestamps|>audioset > keywords: human voice, singing, music genre, middle eastern music<|endoftext|>\n",
      "\n"
     ]
    }
   ],
   "source": [
    "for split in [\"train\", \"val\", \"test\"]:\n",
    "    batch = next(iter(audioset_ds[split]))\n",
    "    print(tokenizer.decode(batch[\"forced_ac_decoder_ids\"]))\n",
    "    print(tokenizer.decode(batch[\"labels\"]))\n",
    "    print()"
   ]
  },
  {
   "cell_type": "code",
   "execution_count": 10,
   "metadata": {},
   "outputs": [
    {
     "data": {
      "text/html": [
       "<div>\n",
       "<style scoped>\n",
       "    .dataframe tbody tr th:only-of-type {\n",
       "        vertical-align: middle;\n",
       "    }\n",
       "\n",
       "    .dataframe tbody tr th {\n",
       "        vertical-align: top;\n",
       "    }\n",
       "\n",
       "    .dataframe thead th {\n",
       "        text-align: right;\n",
       "    }\n",
       "</style>\n",
       "<table border=\"1\" class=\"dataframe\">\n",
       "  <thead>\n",
       "    <tr style=\"text-align: right;\">\n",
       "      <th></th>\n",
       "      <th>file_name</th>\n",
       "      <th>labels</th>\n",
       "    </tr>\n",
       "  </thead>\n",
       "  <tbody>\n",
       "    <tr>\n",
       "      <th>0</th>\n",
       "      <td>--QatB0N9ZE.mp3</td>\n",
       "      <td>[/m/01sm1g]</td>\n",
       "    </tr>\n",
       "    <tr>\n",
       "      <th>1</th>\n",
       "      <td>--iSerV5DbY.mp3</td>\n",
       "      <td>[/m/03wvsk]</td>\n",
       "    </tr>\n",
       "    <tr>\n",
       "      <th>2</th>\n",
       "      <td>-0cQIISoa0I.mp3</td>\n",
       "      <td>[/m/07p6mqd, /m/09x0r]</td>\n",
       "    </tr>\n",
       "    <tr>\n",
       "      <th>3</th>\n",
       "      <td>-6KN5x9rpwo.mp3</td>\n",
       "      <td>[/m/07bjf, /m/0dv5r]</td>\n",
       "    </tr>\n",
       "    <tr>\n",
       "      <th>4</th>\n",
       "      <td>-AHmSYvdK08.mp3</td>\n",
       "      <td>[/m/04rlf, /m/07bjf]</td>\n",
       "    </tr>\n",
       "    <tr>\n",
       "      <th>...</th>\n",
       "      <td>...</td>\n",
       "      <td>...</td>\n",
       "    </tr>\n",
       "    <tr>\n",
       "      <th>2721</th>\n",
       "      <td>y6a5Brqohnk.mp3</td>\n",
       "      <td>[/m/05zc1, /m/07qh7jl, /t/dd00077]</td>\n",
       "    </tr>\n",
       "    <tr>\n",
       "      <th>2722</th>\n",
       "      <td>zBLbbw62Uj0.mp3</td>\n",
       "      <td>[/m/01sm1g, /m/0l14md]</td>\n",
       "    </tr>\n",
       "    <tr>\n",
       "      <th>2723</th>\n",
       "      <td>zDZZaW2zwCo.mp3</td>\n",
       "      <td>[/m/028v0c, /m/07phhsh]</td>\n",
       "    </tr>\n",
       "    <tr>\n",
       "      <th>2724</th>\n",
       "      <td>zTFtpnMqZ1k.mp3</td>\n",
       "      <td>[/m/04rlf, /m/05fw6t, /m/07q6cd_]</td>\n",
       "    </tr>\n",
       "    <tr>\n",
       "      <th>2725</th>\n",
       "      <td>ziYJq9ULiVE.mp3</td>\n",
       "      <td>[/m/08j51y, /m/09x0r, /t/dd00125]</td>\n",
       "    </tr>\n",
       "  </tbody>\n",
       "</table>\n",
       "<p>2726 rows × 2 columns</p>\n",
       "</div>"
      ],
      "text/plain": [
       "            file_name                              labels\n",
       "0     --QatB0N9ZE.mp3                         [/m/01sm1g]\n",
       "1     --iSerV5DbY.mp3                         [/m/03wvsk]\n",
       "2     -0cQIISoa0I.mp3              [/m/07p6mqd, /m/09x0r]\n",
       "3     -6KN5x9rpwo.mp3                [/m/07bjf, /m/0dv5r]\n",
       "4     -AHmSYvdK08.mp3                [/m/04rlf, /m/07bjf]\n",
       "...               ...                                 ...\n",
       "2721  y6a5Brqohnk.mp3  [/m/05zc1, /m/07qh7jl, /t/dd00077]\n",
       "2722  zBLbbw62Uj0.mp3              [/m/01sm1g, /m/0l14md]\n",
       "2723  zDZZaW2zwCo.mp3             [/m/028v0c, /m/07phhsh]\n",
       "2724  zTFtpnMqZ1k.mp3   [/m/04rlf, /m/05fw6t, /m/07q6cd_]\n",
       "2725  ziYJq9ULiVE.mp3   [/m/08j51y, /m/09x0r, /t/dd00125]\n",
       "\n",
       "[2726 rows x 2 columns]"
      ]
     },
     "execution_count": 10,
     "metadata": {},
     "output_type": "execute_result"
    }
   ],
   "source": [
    "import pandas as pd\n",
    "df = pd.read_json(\"../data/audioset_small/audiofolder/valid/metadata.jsonl\", lines=True)\n",
    "df"
   ]
  },
  {
   "cell_type": "code",
   "execution_count": 11,
   "metadata": {},
   "outputs": [
    {
     "data": {
      "text/html": [
       "<div>\n",
       "<style scoped>\n",
       "    .dataframe tbody tr th:only-of-type {\n",
       "        vertical-align: middle;\n",
       "    }\n",
       "\n",
       "    .dataframe tbody tr th {\n",
       "        vertical-align: top;\n",
       "    }\n",
       "\n",
       "    .dataframe thead th {\n",
       "        text-align: right;\n",
       "    }\n",
       "</style>\n",
       "<table border=\"1\" class=\"dataframe\">\n",
       "  <thead>\n",
       "    <tr style=\"text-align: right;\">\n",
       "      <th></th>\n",
       "      <th>file_name</th>\n",
       "      <th>caption_1</th>\n",
       "      <th>caption_2</th>\n",
       "      <th>caption_3</th>\n",
       "      <th>caption_4</th>\n",
       "      <th>caption_5</th>\n",
       "    </tr>\n",
       "  </thead>\n",
       "  <tbody>\n",
       "    <tr>\n",
       "      <th>713</th>\n",
       "      <td>e ieio ieai.wav</td>\n",
       "      <td>Heavy winds are blowing as waves from the ocea...</td>\n",
       "      <td>Heavy winds blow as waves from the ocean crash...</td>\n",
       "      <td>Large volumes of water are passing through a s...</td>\n",
       "      <td>Waves steadily crash against a shore and keep ...</td>\n",
       "      <td>Waves steadily crash against a shore and sligh...</td>\n",
       "    </tr>\n",
       "  </tbody>\n",
       "</table>\n",
       "</div>"
      ],
      "text/plain": [
       "            file_name                                          caption_1  \\\n",
       "713   e ieio ieai.wav  Heavy winds are blowing as waves from the ocea...   \n",
       "\n",
       "                                             caption_2  \\\n",
       "713  Heavy winds blow as waves from the ocean crash...   \n",
       "\n",
       "                                             caption_3  \\\n",
       "713  Large volumes of water are passing through a s...   \n",
       "\n",
       "                                             caption_4  \\\n",
       "713  Waves steadily crash against a shore and keep ...   \n",
       "\n",
       "                                             caption_5  \n",
       "713  Waves steadily crash against a shore and sligh...  "
      ]
     },
     "execution_count": 11,
     "metadata": {},
     "output_type": "execute_result"
    }
   ],
   "source": [
    "import pandas as pd\n",
    "df = pd.read_json(\"../data/clotho_v2.1/validation/metadata.jsonl\", lines=True)\n",
    "df[df[\"caption_1\"] == \"Heavy winds are blowing as waves from the ocean are crashing onto the shore.\"]"
   ]
  },
  {
   "cell_type": "code",
   "execution_count": null,
   "metadata": {},
   "outputs": [],
   "source": []
  }
 ],
 "metadata": {
  "kernelspec": {
   "display_name": "audiocap",
   "language": "python",
   "name": "python3"
  },
  "language_info": {
   "codemirror_mode": {
    "name": "ipython",
    "version": 3
   },
   "file_extension": ".py",
   "mimetype": "text/x-python",
   "name": "python",
   "nbconvert_exporter": "python",
   "pygments_lexer": "ipython3",
   "version": "3.8.16"
  },
  "orig_nbformat": 4
 },
 "nbformat": 4,
 "nbformat_minor": 2
}
