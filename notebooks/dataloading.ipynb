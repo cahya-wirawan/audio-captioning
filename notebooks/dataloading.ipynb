{
 "cells": [
  {
   "cell_type": "code",
   "execution_count": 1,
   "metadata": {},
   "outputs": [],
   "source": [
    "import audiocap\n",
    "import transformers"
   ]
  },
  {
   "cell_type": "code",
   "execution_count": 2,
   "metadata": {},
   "outputs": [],
   "source": [
    "tokenizer = transformers.WhisperTokenizer.from_pretrained(\"openai/whisper-tiny\", \n",
    "    language=\"en\", \n",
    "    task=\"transcribe\",)\n",
    "feature_extractor = transformers.WhisperFeatureExtractor.from_pretrained(\"openai/whisper-tiny\")"
   ]
  },
  {
   "cell_type": "code",
   "execution_count": 3,
   "metadata": {},
   "outputs": [
    {
     "data": {
      "application/vnd.jupyter.widget-view+json": {
       "model_id": "a23578e2cf5b4eed901e75d66fbaea1b",
       "version_major": 2,
       "version_minor": 0
      },
      "text/plain": [
       "Resolving data files:   0%|          | 0/3840 [00:00<?, ?it/s]"
      ]
     },
     "metadata": {},
     "output_type": "display_data"
    },
    {
     "name": "stderr",
     "output_type": "stream",
     "text": [
      "Found cached dataset audiofolder (/var/tmp/xkadlci2/.cache/huggingface/datasets/audiofolder/default-010135410e1e7e7d/0.0.0/6cbdd16f8688354c63b4e2a36e1585d05de285023ee6443ffd71c4182055c0fc)\n"
     ]
    },
    {
     "data": {
      "application/vnd.jupyter.widget-view+json": {
       "model_id": "46c9b5130305403dbcd1707afac076bd",
       "version_major": 2,
       "version_minor": 0
      },
      "text/plain": [
       "  0%|          | 0/1 [00:00<?, ?it/s]"
      ]
     },
     "metadata": {},
     "output_type": "display_data"
    },
    {
     "data": {
      "application/vnd.jupyter.widget-view+json": {
       "model_id": "bfd88bb549bd4723ae6a5bc29462fb62",
       "version_major": 2,
       "version_minor": 0
      },
      "text/plain": [
       "Resolving data files:   0%|          | 0/1046 [00:00<?, ?it/s]"
      ]
     },
     "metadata": {},
     "output_type": "display_data"
    },
    {
     "name": "stderr",
     "output_type": "stream",
     "text": [
      "Found cached dataset audiofolder (/var/tmp/xkadlci2/.cache/huggingface/datasets/audiofolder/default-74cb5e20ba0af8f3/0.0.0/6cbdd16f8688354c63b4e2a36e1585d05de285023ee6443ffd71c4182055c0fc)\n"
     ]
    },
    {
     "data": {
      "application/vnd.jupyter.widget-view+json": {
       "model_id": "2511125b21df46e8a1024d9acd16e5e9",
       "version_major": 2,
       "version_minor": 0
      },
      "text/plain": [
       "  0%|          | 0/1 [00:00<?, ?it/s]"
      ]
     },
     "metadata": {},
     "output_type": "display_data"
    },
    {
     "data": {
      "application/vnd.jupyter.widget-view+json": {
       "model_id": "d091b9b6d430426d83e92d595efd09dd",
       "version_major": 2,
       "version_minor": 0
      },
      "text/plain": [
       "Resolving data files:   0%|          | 0/1046 [00:00<?, ?it/s]"
      ]
     },
     "metadata": {},
     "output_type": "display_data"
    },
    {
     "name": "stderr",
     "output_type": "stream",
     "text": [
      "Found cached dataset audiofolder (/var/tmp/xkadlci2/.cache/huggingface/datasets/audiofolder/default-342bb2446278e6e8/0.0.0/6cbdd16f8688354c63b4e2a36e1585d05de285023ee6443ffd71c4182055c0fc)\n"
     ]
    },
    {
     "data": {
      "application/vnd.jupyter.widget-view+json": {
       "model_id": "e76bc0b88c784795b57a03be8ac0587d",
       "version_major": 2,
       "version_minor": 0
      },
      "text/plain": [
       "  0%|          | 0/1 [00:00<?, ?it/s]"
      ]
     },
     "metadata": {},
     "output_type": "display_data"
    }
   ],
   "source": [
    "clotho_ds = audiocap.data.load_clotho(\n",
    "    audiofolder_root=\"../data/clotho_v2.1\",\n",
    "    tokenizer=tokenizer,\n",
    "    feature_extractor=feature_extractor,\n",
    ")"
   ]
  },
  {
   "cell_type": "code",
   "execution_count": 4,
   "metadata": {},
   "outputs": [
    {
     "name": "stdout",
     "output_type": "stream",
     "text": [
      "clotho > caption: \n",
      "<|startoftranscript|><|en|><|transcribe|><|notimestamps|>clotho > caption: Kids play and laugh near the beach while adults talk and watch.<|endoftext|>\n",
      "\n",
      "clotho > caption: \n",
      "<|startoftranscript|><|en|><|transcribe|><|notimestamps|>clotho > caption: Heavy winds are blowing as waves from the ocean are crashing onto the shore.<|endoftext|>\n",
      "\n",
      "clotho > caption: \n",
      "<|startoftranscript|><|en|><|transcribe|><|notimestamps|>clotho > caption: A man walking who is blowing his nose hard and about to sneeze.<|endoftext|>\n",
      "\n"
     ]
    }
   ],
   "source": [
    "for split in [\"dev\", \"val\", \"test\"]:\n",
    "    batch = next(iter(clotho_ds[split]))\n",
    "    print(tokenizer.decode(batch[\"forced_ac_decoder_ids\"]))\n",
    "    print(tokenizer.decode(batch[\"labels\"]))\n",
    "    print()"
   ]
  },
  {
   "cell_type": "code",
   "execution_count": 5,
   "metadata": {},
   "outputs": [
    {
     "data": {
      "application/vnd.jupyter.widget-view+json": {
       "model_id": "f19c3a2ae31141afbd5d649bc14e2933",
       "version_major": 2,
       "version_minor": 0
      },
      "text/plain": [
       "Resolving data files:   0%|          | 0/45395 [00:00<?, ?it/s]"
      ]
     },
     "metadata": {},
     "output_type": "display_data"
    },
    {
     "name": "stderr",
     "output_type": "stream",
     "text": [
      "Found cached dataset audiofolder (/var/tmp/xkadlci2/.cache/huggingface/datasets/audiofolder/default-f68c600ff6371dfb/0.0.0/6cbdd16f8688354c63b4e2a36e1585d05de285023ee6443ffd71c4182055c0fc)\n"
     ]
    },
    {
     "data": {
      "application/vnd.jupyter.widget-view+json": {
       "model_id": "9f04af1ab62d440dadc9291a2696eafb",
       "version_major": 2,
       "version_minor": 0
      },
      "text/plain": [
       "  0%|          | 0/1 [00:00<?, ?it/s]"
      ]
     },
     "metadata": {},
     "output_type": "display_data"
    },
    {
     "data": {
      "application/vnd.jupyter.widget-view+json": {
       "model_id": "5e7dffdca9894f40bb4512d57f65b57d",
       "version_major": 2,
       "version_minor": 0
      },
      "text/plain": [
       "Resolving data files:   0%|          | 0/449 [00:00<?, ?it/s]"
      ]
     },
     "metadata": {},
     "output_type": "display_data"
    },
    {
     "name": "stderr",
     "output_type": "stream",
     "text": [
      "Found cached dataset audiofolder (/var/tmp/xkadlci2/.cache/huggingface/datasets/audiofolder/default-58904986bf6671ef/0.0.0/6cbdd16f8688354c63b4e2a36e1585d05de285023ee6443ffd71c4182055c0fc)\n"
     ]
    },
    {
     "data": {
      "application/vnd.jupyter.widget-view+json": {
       "model_id": "99d4ccbd1dd047709b78e9767cc8ddee",
       "version_major": 2,
       "version_minor": 0
      },
      "text/plain": [
       "  0%|          | 0/1 [00:00<?, ?it/s]"
      ]
     },
     "metadata": {},
     "output_type": "display_data"
    },
    {
     "data": {
      "application/vnd.jupyter.widget-view+json": {
       "model_id": "64033d8bc2e84f35a7a0348a15dc93ca",
       "version_major": 2,
       "version_minor": 0
      },
      "text/plain": [
       "Resolving data files:   0%|          | 0/887 [00:00<?, ?it/s]"
      ]
     },
     "metadata": {},
     "output_type": "display_data"
    },
    {
     "name": "stderr",
     "output_type": "stream",
     "text": [
      "Found cached dataset audiofolder (/var/tmp/xkadlci2/.cache/huggingface/datasets/audiofolder/default-c8b90ae87fc10a14/0.0.0/6cbdd16f8688354c63b4e2a36e1585d05de285023ee6443ffd71c4182055c0fc)\n"
     ]
    },
    {
     "data": {
      "application/vnd.jupyter.widget-view+json": {
       "model_id": "7a57df2c2dc746f1a32d9caecf8c7d8f",
       "version_major": 2,
       "version_minor": 0
      },
      "text/plain": [
       "  0%|          | 0/1 [00:00<?, ?it/s]"
      ]
     },
     "metadata": {},
     "output_type": "display_data"
    }
   ],
   "source": [
    "audiocaps_ds = audiocap.data.load_audiocaps(\n",
    "    audiofolder_root=\"../data/audiocaps/audiofolder\",\n",
    "    tokenizer=tokenizer,\n",
    "    feature_extractor=feature_extractor,\n",
    ")"
   ]
  },
  {
   "cell_type": "code",
   "execution_count": 6,
   "metadata": {},
   "outputs": [
    {
     "name": "stderr",
     "output_type": "stream",
     "text": [
      "/var/tmp/xkadlci2/.conda/envs/audiocap/lib/python3.8/site-packages/datasets/features/audio.py:313: UserWarning: \n",
      "To support 'mp3' decoding with `torchaudio>=0.12.0`, please install `ffmpeg4` system package. On Google Colab you can run:\n",
      "\n",
      "\t!add-apt-repository -y ppa:jonathonf/ffmpeg-4 && apt update && apt install -y ffmpeg\n",
      "\n",
      "and restart your runtime. Alternatively, you can downgrade `torchaudio`:\n",
      "\n",
      "\tpip install \"torchaudio<0.12\"`.\n",
      "\n",
      "Otherwise 'mp3' files will be decoded with `librosa`.\n",
      "  warnings.warn(\n",
      "/var/tmp/xkadlci2/.conda/envs/audiocap/lib/python3.8/site-packages/datasets/features/audio.py:334: UserWarning: Decoding mp3 with `librosa` instead of `torchaudio`, decoding might be slow.\n",
      "  warnings.warn(\"Decoding mp3 with `librosa` instead of `torchaudio`, decoding might be slow.\")\n"
     ]
    },
    {
     "name": "stdout",
     "output_type": "stream",
     "text": [
      "audiocaps > caption: \n",
      "<|startoftranscript|><|en|><|transcribe|><|notimestamps|>audiocaps > caption: Sewing machine turning on and off<|endoftext|>\n",
      "\n",
      "audiocaps > caption: \n",
      "<|startoftranscript|><|en|><|transcribe|><|notimestamps|>audiocaps > caption: A large crowd cheers and applauds<|endoftext|>\n",
      "\n",
      "audiocaps > caption: \n",
      "<|startoftranscript|><|en|><|transcribe|><|notimestamps|>audiocaps > caption: A vehicle driving as a man and woman are talking and laughing<|endoftext|>\n",
      "\n"
     ]
    }
   ],
   "source": [
    "for split in [\"dev\", \"val\", \"test\"]:\n",
    "    batch = next(iter(audiocaps_ds[split]))\n",
    "    print(tokenizer.decode(batch[\"forced_ac_decoder_ids\"]))\n",
    "    print(tokenizer.decode(batch[\"labels\"]))\n",
    "    print()"
   ]
  },
  {
   "cell_type": "code",
   "execution_count": 7,
   "metadata": {},
   "outputs": [
    {
     "data": {
      "application/vnd.jupyter.widget-view+json": {
       "model_id": "66cdc412c1ed40438ecc419d5cbc084e",
       "version_major": 2,
       "version_minor": 0
      },
      "text/plain": [
       "Resolving data files:   0%|          | 0/128434 [00:00<?, ?it/s]"
      ]
     },
     "metadata": {},
     "output_type": "display_data"
    },
    {
     "name": "stderr",
     "output_type": "stream",
     "text": [
      "Found cached dataset audiofolder (/var/tmp/xkadlci2/.cache/huggingface/datasets/audiofolder/default-ca7991f9269fabca/0.0.0/6cbdd16f8688354c63b4e2a36e1585d05de285023ee6443ffd71c4182055c0fc)\n"
     ]
    },
    {
     "data": {
      "application/vnd.jupyter.widget-view+json": {
       "model_id": "17912b0ad69d4fd5b276e0352a04437a",
       "version_major": 2,
       "version_minor": 0
      },
      "text/plain": [
       "  0%|          | 0/1 [00:00<?, ?it/s]"
      ]
     },
     "metadata": {},
     "output_type": "display_data"
    },
    {
     "data": {
      "application/vnd.jupyter.widget-view+json": {
       "model_id": "8c854b44cfd441d9bb751bf20a04c12c",
       "version_major": 2,
       "version_minor": 0
      },
      "text/plain": [
       "Resolving data files:   0%|          | 0/2727 [00:00<?, ?it/s]"
      ]
     },
     "metadata": {},
     "output_type": "display_data"
    },
    {
     "name": "stderr",
     "output_type": "stream",
     "text": [
      "Found cached dataset audiofolder (/var/tmp/xkadlci2/.cache/huggingface/datasets/audiofolder/default-3bc654c883615506/0.0.0/6cbdd16f8688354c63b4e2a36e1585d05de285023ee6443ffd71c4182055c0fc)\n"
     ]
    },
    {
     "data": {
      "application/vnd.jupyter.widget-view+json": {
       "model_id": "87c28284f16b4748a92d6a438bf14d9a",
       "version_major": 2,
       "version_minor": 0
      },
      "text/plain": [
       "  0%|          | 0/1 [00:00<?, ?it/s]"
      ]
     },
     "metadata": {},
     "output_type": "display_data"
    },
    {
     "data": {
      "application/vnd.jupyter.widget-view+json": {
       "model_id": "8bee007532ec4692a6f2337c4bc7ff27",
       "version_major": 2,
       "version_minor": 0
      },
      "text/plain": [
       "Resolving data files:   0%|          | 0/2844 [00:00<?, ?it/s]"
      ]
     },
     "metadata": {},
     "output_type": "display_data"
    },
    {
     "name": "stderr",
     "output_type": "stream",
     "text": [
      "Found cached dataset audiofolder (/var/tmp/xkadlci2/.cache/huggingface/datasets/audiofolder/default-988a000a141c790b/0.0.0/6cbdd16f8688354c63b4e2a36e1585d05de285023ee6443ffd71c4182055c0fc)\n"
     ]
    },
    {
     "data": {
      "application/vnd.jupyter.widget-view+json": {
       "model_id": "783acb111f334253b43a569278a83513",
       "version_major": 2,
       "version_minor": 0
      },
      "text/plain": [
       "  0%|          | 0/1 [00:00<?, ?it/s]"
      ]
     },
     "metadata": {},
     "output_type": "display_data"
    }
   ],
   "source": [
    "audioset_ds = audiocap.data.load_audioset_small(\n",
    "    audiofolder_root=\"../data/audioset_small/audiofolder\",\n",
    "    audioset_ontology_json=\"../data/audioset_small/annotations/ontology.json\",\n",
    "    tokenizer=tokenizer,\n",
    "    feature_extractor=feature_extractor,\n",
    ")"
   ]
  },
  {
   "cell_type": "code",
   "execution_count": 8,
   "metadata": {},
   "outputs": [
    {
     "name": "stdout",
     "output_type": "stream",
     "text": [
      "audioset > keywords: \n",
      "<|startoftranscript|><|en|><|transcribe|><|notimestamps|>audioset > keywords: vehicle, motor vehicle (road), emergency vehicle, siren, fire engine - fire truck (siren), vehicle horn - car horn - honking, toot, truck, sounds of things, traffic noise - roadway noise, car<|endoftext|>\n",
      "\n",
      "audioset > keywords: \n",
      "<|startoftranscript|><|en|><|transcribe|><|notimestamps|>audioset > keywords: percussion, wood block<|endoftext|>\n",
      "\n",
      "audioset > keywords: \n",
      "<|startoftranscript|><|en|><|transcribe|><|notimestamps|>audioset > keywords: human voice, singing, music genre, middle eastern music<|endoftext|>\n",
      "\n"
     ]
    }
   ],
   "source": [
    "for split in [\"dev\", \"val\", \"test\"]:\n",
    "    batch = next(iter(audioset_ds[split]))\n",
    "    print(tokenizer.decode(batch[\"forced_ac_decoder_ids\"]))\n",
    "    print(tokenizer.decode(batch[\"labels\"]))\n",
    "    print()"
   ]
  },
  {
   "cell_type": "code",
   "execution_count": 9,
   "metadata": {},
   "outputs": [
    {
     "data": {
      "text/html": [
       "<div>\n",
       "<style scoped>\n",
       "    .dataframe tbody tr th:only-of-type {\n",
       "        vertical-align: middle;\n",
       "    }\n",
       "\n",
       "    .dataframe tbody tr th {\n",
       "        vertical-align: top;\n",
       "    }\n",
       "\n",
       "    .dataframe thead th {\n",
       "        text-align: right;\n",
       "    }\n",
       "</style>\n",
       "<table border=\"1\" class=\"dataframe\">\n",
       "  <thead>\n",
       "    <tr style=\"text-align: right;\">\n",
       "      <th></th>\n",
       "      <th>file_name</th>\n",
       "      <th>labels</th>\n",
       "    </tr>\n",
       "  </thead>\n",
       "  <tbody>\n",
       "    <tr>\n",
       "      <th>0</th>\n",
       "      <td>--QatB0N9ZE.mp3</td>\n",
       "      <td>[/m/01sm1g]</td>\n",
       "    </tr>\n",
       "    <tr>\n",
       "      <th>1</th>\n",
       "      <td>--iSerV5DbY.mp3</td>\n",
       "      <td>[/m/03wvsk]</td>\n",
       "    </tr>\n",
       "    <tr>\n",
       "      <th>2</th>\n",
       "      <td>-0cQIISoa0I.mp3</td>\n",
       "      <td>[/m/07p6mqd, /m/09x0r]</td>\n",
       "    </tr>\n",
       "    <tr>\n",
       "      <th>3</th>\n",
       "      <td>-6KN5x9rpwo.mp3</td>\n",
       "      <td>[/m/07bjf, /m/0dv5r]</td>\n",
       "    </tr>\n",
       "    <tr>\n",
       "      <th>4</th>\n",
       "      <td>-AHmSYvdK08.mp3</td>\n",
       "      <td>[/m/04rlf, /m/07bjf]</td>\n",
       "    </tr>\n",
       "    <tr>\n",
       "      <th>...</th>\n",
       "      <td>...</td>\n",
       "      <td>...</td>\n",
       "    </tr>\n",
       "    <tr>\n",
       "      <th>2721</th>\n",
       "      <td>y6a5Brqohnk.mp3</td>\n",
       "      <td>[/m/05zc1, /m/07qh7jl, /t/dd00077]</td>\n",
       "    </tr>\n",
       "    <tr>\n",
       "      <th>2722</th>\n",
       "      <td>zBLbbw62Uj0.mp3</td>\n",
       "      <td>[/m/01sm1g, /m/0l14md]</td>\n",
       "    </tr>\n",
       "    <tr>\n",
       "      <th>2723</th>\n",
       "      <td>zDZZaW2zwCo.mp3</td>\n",
       "      <td>[/m/028v0c, /m/07phhsh]</td>\n",
       "    </tr>\n",
       "    <tr>\n",
       "      <th>2724</th>\n",
       "      <td>zTFtpnMqZ1k.mp3</td>\n",
       "      <td>[/m/04rlf, /m/05fw6t, /m/07q6cd_]</td>\n",
       "    </tr>\n",
       "    <tr>\n",
       "      <th>2725</th>\n",
       "      <td>ziYJq9ULiVE.mp3</td>\n",
       "      <td>[/m/08j51y, /m/09x0r, /t/dd00125]</td>\n",
       "    </tr>\n",
       "  </tbody>\n",
       "</table>\n",
       "<p>2726 rows × 2 columns</p>\n",
       "</div>"
      ],
      "text/plain": [
       "            file_name                              labels\n",
       "0     --QatB0N9ZE.mp3                         [/m/01sm1g]\n",
       "1     --iSerV5DbY.mp3                         [/m/03wvsk]\n",
       "2     -0cQIISoa0I.mp3              [/m/07p6mqd, /m/09x0r]\n",
       "3     -6KN5x9rpwo.mp3                [/m/07bjf, /m/0dv5r]\n",
       "4     -AHmSYvdK08.mp3                [/m/04rlf, /m/07bjf]\n",
       "...               ...                                 ...\n",
       "2721  y6a5Brqohnk.mp3  [/m/05zc1, /m/07qh7jl, /t/dd00077]\n",
       "2722  zBLbbw62Uj0.mp3              [/m/01sm1g, /m/0l14md]\n",
       "2723  zDZZaW2zwCo.mp3             [/m/028v0c, /m/07phhsh]\n",
       "2724  zTFtpnMqZ1k.mp3   [/m/04rlf, /m/05fw6t, /m/07q6cd_]\n",
       "2725  ziYJq9ULiVE.mp3   [/m/08j51y, /m/09x0r, /t/dd00125]\n",
       "\n",
       "[2726 rows x 2 columns]"
      ]
     },
     "execution_count": 9,
     "metadata": {},
     "output_type": "execute_result"
    }
   ],
   "source": [
    "import pandas as pd\n",
    "df = pd.read_json(\"../data/audioset_small/audiofolder/valid/metadata.jsonl\", lines=True)\n",
    "df"
   ]
  },
  {
   "cell_type": "code",
   "execution_count": 10,
   "metadata": {},
   "outputs": [
    {
     "data": {
      "text/html": [
       "<div>\n",
       "<style scoped>\n",
       "    .dataframe tbody tr th:only-of-type {\n",
       "        vertical-align: middle;\n",
       "    }\n",
       "\n",
       "    .dataframe tbody tr th {\n",
       "        vertical-align: top;\n",
       "    }\n",
       "\n",
       "    .dataframe thead th {\n",
       "        text-align: right;\n",
       "    }\n",
       "</style>\n",
       "<table border=\"1\" class=\"dataframe\">\n",
       "  <thead>\n",
       "    <tr style=\"text-align: right;\">\n",
       "      <th></th>\n",
       "      <th>file_name</th>\n",
       "      <th>caption_1</th>\n",
       "      <th>caption_2</th>\n",
       "      <th>caption_3</th>\n",
       "      <th>caption_4</th>\n",
       "      <th>caption_5</th>\n",
       "    </tr>\n",
       "  </thead>\n",
       "  <tbody>\n",
       "    <tr>\n",
       "      <th>713</th>\n",
       "      <td>e ieio ieai.wav</td>\n",
       "      <td>Heavy winds are blowing as waves from the ocea...</td>\n",
       "      <td>Heavy winds blow as waves from the ocean crash...</td>\n",
       "      <td>Large volumes of water are passing through a s...</td>\n",
       "      <td>Waves steadily crash against a shore and keep ...</td>\n",
       "      <td>Waves steadily crash against a shore and sligh...</td>\n",
       "    </tr>\n",
       "  </tbody>\n",
       "</table>\n",
       "</div>"
      ],
      "text/plain": [
       "            file_name                                          caption_1  \\\n",
       "713   e ieio ieai.wav  Heavy winds are blowing as waves from the ocea...   \n",
       "\n",
       "                                             caption_2  \\\n",
       "713  Heavy winds blow as waves from the ocean crash...   \n",
       "\n",
       "                                             caption_3  \\\n",
       "713  Large volumes of water are passing through a s...   \n",
       "\n",
       "                                             caption_4  \\\n",
       "713  Waves steadily crash against a shore and keep ...   \n",
       "\n",
       "                                             caption_5  \n",
       "713  Waves steadily crash against a shore and sligh...  "
      ]
     },
     "execution_count": 10,
     "metadata": {},
     "output_type": "execute_result"
    }
   ],
   "source": [
    "import pandas as pd\n",
    "df = pd.read_json(\"../data/clotho_v2.1/validation/metadata.jsonl\", lines=True)\n",
    "df[df[\"caption_1\"] == \"Heavy winds are blowing as waves from the ocean are crashing onto the shore.\"]"
   ]
  },
  {
   "cell_type": "code",
   "execution_count": null,
   "metadata": {},
   "outputs": [],
   "source": []
  }
 ],
 "metadata": {
  "kernelspec": {
   "display_name": "audiocap",
   "language": "python",
   "name": "python3"
  },
  "language_info": {
   "codemirror_mode": {
    "name": "ipython",
    "version": 3
   },
   "file_extension": ".py",
   "mimetype": "text/x-python",
   "name": "python",
   "nbconvert_exporter": "python",
   "pygments_lexer": "ipython3",
   "version": "3.8.16"
  },
  "orig_nbformat": 4
 },
 "nbformat": 4,
 "nbformat_minor": 2
}
