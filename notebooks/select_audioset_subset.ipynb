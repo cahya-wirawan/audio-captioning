{
 "cells": [
  {
   "cell_type": "code",
   "execution_count": 1,
   "metadata": {},
   "outputs": [
    {
     "data": {
      "text/plain": [
       "1770026"
      ]
     },
     "execution_count": 1,
     "metadata": {},
     "output_type": "execute_result"
    }
   ],
   "source": [
    "import os\n",
    "import pathlib\n",
    "import collections\n",
    "\n",
    "import pandas as pd\n",
    "from tqdm.auto import tqdm\n",
    "\n",
    "import audiocap\n",
    "\n",
    "\n",
    "tqdm.pandas()\n",
    "\n",
    "def read_audioset_csv(csv_path, audios_root):\n",
    "    split_name = pathlib.Path(csv_path).stem\n",
    "    audios_dir = pathlib.Path(audios_root) / split_name\n",
    "    df = pd.read_csv(\n",
    "        csv_path,\n",
    "        comment='#',\n",
    "        sep=\", \",\n",
    "        engine='python',\n",
    "        header=None,\n",
    "        names=['youtube_id', 'start_seconds', 'end_seconds', 'labels'],\n",
    "    )\n",
    "    df = df[df[\"youtube_id\"].apply(lambda x: os.path.exists(audios_dir / f'{x}.mp3'))]\n",
    "    df[\"labels\"] = df[\"labels\"].str.strip('\"').str.split(\",\")\n",
    "    df[\"orig_split\"] = split_name\n",
    "    return df\n",
    "\n",
    "audio_root = '../data/audioset_full/audios'\n",
    "df = pd.concat([\n",
    "    read_audioset_csv('../data/audioset_full/csvs/train_unbalanced.csv', audio_root),\n",
    "    read_audioset_csv('../data/audioset_full/csvs/train_balanced.csv', audio_root),\n",
    "    read_audioset_csv('../data/audioset_full/csvs/eval.csv', audio_root),\n",
    "])\n",
    "df.drop_duplicates(subset=[\"youtube_id\"], inplace=True)\n",
    "df.reset_index(drop=True, inplace=True)\n",
    "\n",
    "len(df)"
   ]
  },
  {
   "cell_type": "code",
   "execution_count": 2,
   "metadata": {},
   "outputs": [
    {
     "data": {
      "text/plain": [
       "Index(['youtube_id', 'start_seconds', 'end_seconds', 'labels', 'orig_split'], dtype='object')"
      ]
     },
     "execution_count": 2,
     "metadata": {},
     "output_type": "execute_result"
    }
   ],
   "source": [
    "df.columns"
   ]
  },
  {
   "cell_type": "code",
   "execution_count": 3,
   "metadata": {},
   "outputs": [],
   "source": [
    "ontology = audiocap.audioset_tools.AudiosetOntology.from_json_file('../data/audioset_full/csvs/ontology.json')"
   ]
  },
  {
   "cell_type": "code",
   "execution_count": 4,
   "metadata": {},
   "outputs": [],
   "source": [
    "label_counts = (\n",
    "    df[\"labels\"]\n",
    "    .explode()\n",
    "    .map(ontology.df[\"name\"].to_dict())\n",
    "    .value_counts()\n",
    "    .rename(\"count\")\n",
    ")"
   ]
  },
  {
   "cell_type": "code",
   "execution_count": 5,
   "metadata": {},
   "outputs": [
    {
     "data": {
      "text/html": [
       "<div>\n",
       "<style scoped>\n",
       "    .dataframe tbody tr th:only-of-type {\n",
       "        vertical-align: middle;\n",
       "    }\n",
       "\n",
       "    .dataframe tbody tr th {\n",
       "        vertical-align: top;\n",
       "    }\n",
       "\n",
       "    .dataframe thead th {\n",
       "        text-align: right;\n",
       "    }\n",
       "</style>\n",
       "<table border=\"1\" class=\"dataframe\">\n",
       "  <thead>\n",
       "    <tr style=\"text-align: right;\">\n",
       "      <th></th>\n",
       "      <th>name</th>\n",
       "      <th>description</th>\n",
       "      <th>citation_uri</th>\n",
       "      <th>positive_examples</th>\n",
       "      <th>child_ids</th>\n",
       "      <th>restrictions</th>\n",
       "    </tr>\n",
       "    <tr>\n",
       "      <th>id</th>\n",
       "      <th></th>\n",
       "      <th></th>\n",
       "      <th></th>\n",
       "      <th></th>\n",
       "      <th></th>\n",
       "      <th></th>\n",
       "    </tr>\n",
       "  </thead>\n",
       "  <tbody>\n",
       "    <tr>\n",
       "      <th>/m/07rbp7_</th>\n",
       "      <td>Whip</td>\n",
       "      <td>The sound of whipping, i.e., the greatly accel...</td>\n",
       "      <td>http://wordnetweb.princeton.edu/perl/webwn?s=whip</td>\n",
       "      <td>[youtu.be/LhbzdtNRTKs?start=30&amp;end=40, youtu.b...</td>\n",
       "      <td>[]</td>\n",
       "      <td>[]</td>\n",
       "    </tr>\n",
       "  </tbody>\n",
       "</table>\n",
       "</div>"
      ],
      "text/plain": [
       "            name                                        description  \\\n",
       "id                                                                    \n",
       "/m/07rbp7_  Whip  The sound of whipping, i.e., the greatly accel...   \n",
       "\n",
       "                                                 citation_uri  \\\n",
       "id                                                              \n",
       "/m/07rbp7_  http://wordnetweb.princeton.edu/perl/webwn?s=whip   \n",
       "\n",
       "                                            positive_examples child_ids  \\\n",
       "id                                                                        \n",
       "/m/07rbp7_  [youtu.be/LhbzdtNRTKs?start=30&end=40, youtu.b...        []   \n",
       "\n",
       "           restrictions  \n",
       "id                       \n",
       "/m/07rbp7_           []  "
      ]
     },
     "execution_count": 5,
     "metadata": {},
     "output_type": "execute_result"
    }
   ],
   "source": [
    "ontology.df[ontology.df.name.str.contains(\"Whip\")]"
   ]
  },
  {
   "cell_type": "code",
   "execution_count": 7,
   "metadata": {},
   "outputs": [
    {
     "data": {
      "text/plain": [
       "'emergency vehicle, siren, ambulance (siren), domestic sounds - home sounds, whistle, kettle whistle'"
      ]
     },
     "execution_count": 7,
     "metadata": {},
     "output_type": "execute_result"
    }
   ],
   "source": [
    "ontology.audioset_label_ids_to_str(\"/m/012n7d, /g/11b630rrvh\")"
   ]
  },
  {
   "cell_type": "code",
   "execution_count": 8,
   "metadata": {},
   "outputs": [
    {
     "data": {
      "text/plain": [
       "{'keywords_num_generated': 4.0,\n",
       " 'keywords_num_true': 3.0,\n",
       " 'keywords_precision': 0.5666666666666667,\n",
       " 'keywords_recall': 0.75,\n",
       " 'keywords_f1': 0.6444444444444445,\n",
       " 'keywords_jaccard': 0.525}"
      ]
     },
     "execution_count": 8,
     "metadata": {},
     "output_type": "execute_result"
    }
   ],
   "source": [
    "audiocap.metrics.keyword_metrics_batch(\n",
    "    y_pred = [\"hello, darkness, my old friend\", \"a, b, c, d, e\"],\n",
    "    y_true = [\"hello, world,\", \"a, b, c, d\"],\n",
    ")"
   ]
  },
  {
   "cell_type": "code",
   "execution_count": 9,
   "metadata": {},
   "outputs": [
    {
     "data": {
      "text/plain": [
       "True"
      ]
     },
     "execution_count": 9,
     "metadata": {},
     "output_type": "execute_result"
    }
   ],
   "source": [
    "df[\"labels\"].explode().isin(ontology.df.index).all()"
   ]
  },
  {
   "cell_type": "code",
   "execution_count": 10,
   "metadata": {},
   "outputs": [],
   "source": [
    "pd.options.plotting.backend = \"plotly\""
   ]
  },
  {
   "cell_type": "code",
   "execution_count": 11,
   "metadata": {},
   "outputs": [
    {
     "data": {
      "text/plain": [
       "527"
      ]
     },
     "execution_count": 11,
     "metadata": {},
     "output_type": "execute_result"
    }
   ],
   "source": [
    "len(df[\"labels\"].explode().value_counts())"
   ]
  },
  {
   "cell_type": "code",
   "execution_count": 12,
   "metadata": {},
   "outputs": [
    {
     "data": {
      "text/plain": [
       "0.8292220113851992"
      ]
     },
     "execution_count": 12,
     "metadata": {},
     "output_type": "execute_result"
    }
   ],
   "source": [
    "(df[\"labels\"].explode().value_counts() > 400).mean()"
   ]
  },
  {
   "cell_type": "code",
   "execution_count": 13,
   "metadata": {},
   "outputs": [
    {
     "data": {
      "text/plain": [
       "500    474\n",
       "80     158\n",
       "dtype: int64"
      ]
     },
     "execution_count": 13,
     "metadata": {},
     "output_type": "execute_result"
    }
   ],
   "source": [
    "music_overrepresented_general = {\n",
    "    \"Musical instrument\",\n",
    "    \"Music genre\",\n",
    "}\n",
    "\n",
    "desired_num_samples_per_class = {label: 500 for label in ontology.df.index}\n",
    "for category in music_overrepresented_general:\n",
    "    descendants = ontology.all_descendants(name=category, include_self=True)\n",
    "    for label in descendants.index:\n",
    "        desired_num_samples_per_class[label] = 80\n",
    "\n",
    "pd.Series(desired_num_samples_per_class).value_counts()"
   ]
  },
  {
   "cell_type": "code",
   "execution_count": 15,
   "metadata": {},
   "outputs": [],
   "source": [
    "selector = audiocap.audioset_tools.AudiosetSubsetSelector(\n",
    "    df=df,\n",
    "    desired_num_samples_per_class=desired_num_samples_per_class,\n",
    "    seed=42,\n",
    "    step=100,\n",
    "    ontology=ontology,\n",
    ")"
   ]
  },
  {
   "cell_type": "code",
   "execution_count": 16,
   "metadata": {},
   "outputs": [
    {
     "data": {
      "application/vnd.jupyter.widget-view+json": {
       "model_id": "77e2979ce96740e1a5eae3cd13b92178",
       "version_major": 2,
       "version_minor": 0
      },
      "text/plain": [
       "  0%|          | 0/186875 [00:00<?, ?it/s]"
      ]
     },
     "metadata": {},
     "output_type": "display_data"
    },
    {
     "data": {
      "text/plain": [
       "134025"
      ]
     },
     "execution_count": 16,
     "metadata": {},
     "output_type": "execute_result"
    }
   ],
   "source": [
    "subset = selector.select_reasonable_subset()\n",
    "len(subset)"
   ]
  },
  {
   "cell_type": "code",
   "execution_count": 44,
   "metadata": {},
   "outputs": [],
   "source": [
    "def label_word_freqs(*, labels_str=None, label_ids=None):\n",
    "    freqs = collections.Counter()\n",
    "    if labels_str is None:\n",
    "        labels_str = map(ontology.audioset_label_ids_to_str, label_ids)\n",
    "        length = len(label_ids)\n",
    "    else:\n",
    "        length = len(labels_str)\n",
    "        \n",
    "    for label_str in tqdm(labels_str, desc=\"label word frequencies\", total=length):\n",
    "        label_str = \"\".join([c if c.isalnum() else \" \" for c in label_str.lower()])\n",
    "        freqs.update(label_str.split())\n",
    "    return freqs"
   ]
  },
  {
   "cell_type": "code",
   "execution_count": 45,
   "metadata": {},
   "outputs": [
    {
     "data": {
      "text/plain": [
       "['truck, reversing beeps, motor vehicle (road), sounds of things, vehicle, human voice, speech',\n",
       " 'door, generic impact sounds, tap',\n",
       " 'mechanisms, mechanical fan',\n",
       " 'heart sounds - heartbeat, heart murmur',\n",
       " 'music, noise, cacophony',\n",
       " 'respiratory sounds, cough',\n",
       " 'music genre, jazz',\n",
       " 'human voice, singing, yodeling, music, male singing',\n",
       " 'fowl, turkey, livestock - farm animals - working animals, gobble',\n",
       " 'alarm, fire alarm',\n",
       " 'music, guitar, steel guitar - slide guitar',\n",
       " 'natural sounds, fire, wind, microphone, wind noise (microphone)',\n",
       " 'livestock - farm animals - working animals, fowl, goose, honk',\n",
       " 'wild animals, canidae - dogs - wolves, animal, domestic animals - pets, dog, bow-wow',\n",
       " 'music genre, folk music',\n",
       " 'music, music role, lullaby',\n",
       " 'music, classical music, opera, singing, female singing, synthetic singing',\n",
       " 'electronic music, drum and bass, electronica',\n",
       " 'music role, lullaby',\n",
       " 'speech, male speech - man speaking',\n",
       " 'livestock - farm animals - working animals, pig, animal',\n",
       " 'bird, crow, caw, animal',\n",
       " 'sounds of things, glass, human voice, speech',\n",
       " 'synthesizer, sampler, music, other sourceless, pulse',\n",
       " 'non-motorized land vehicle, bicycle',\n",
       " 'miscellaneous sources, arrow',\n",
       " 'musical instrument, harmonica, wind instrument - woodwind instrument',\n",
       " 'domestic sounds - home sounds, cupboard open or close, human voice, speech',\n",
       " 'noise, vibration',\n",
       " 'onomatopoeia, whir']"
      ]
     },
     "execution_count": 45,
     "metadata": {},
     "output_type": "execute_result"
    }
   ],
   "source": [
    "subset.sample(30, random_state=42)[\"labels\"].apply(ontology.audioset_label_ids_to_str, include_parents=True).tolist()"
   ]
  },
  {
   "cell_type": "code",
   "execution_count": 46,
   "metadata": {},
   "outputs": [
    {
     "data": {
      "application/vnd.jupyter.widget-view+json": {
       "model_id": "b4bfa3cf80d64fd7a6fe41c54bc2e221",
       "version_major": 2,
       "version_minor": 0
      },
      "text/plain": [
       "label word frequencies:   0%|          | 0/134025 [00:00<?, ?it/s]"
      ]
     },
     "metadata": {},
     "output_type": "display_data"
    }
   ],
   "source": [
    "import wordcloud \n",
    "\n",
    "freqs = label_word_freqs(label_ids=subset[\"labels\"])"
   ]
  },
  {
   "cell_type": "code",
   "execution_count": 47,
   "metadata": {},
   "outputs": [
    {
     "data": {
      "image/png": "[encoded data removed]",
      "text/plain": [
       "<PIL.Image.Image image mode=RGB size=1600x900>"
      ]
     },
     "execution_count": 47,
     "metadata": {},
     "output_type": "execute_result"
    }
   ],
   "source": [
    "wordcloud.WordCloud(width=1600, height=900).generate_from_frequencies(freqs).to_image()"
   ]
  },
  {
   "cell_type": "code",
   "execution_count": 48,
   "metadata": {},
   "outputs": [],
   "source": [
    "import numpy as np\n",
    "import scipy.stats\n",
    "import plotly.express\n",
    "\n",
    "def print_subset_info(\n",
    "    df_all: pd.DataFrame,\n",
    "    subset: pd.DataFrame,\n",
    "    ontology: audiocap.audioset_tools.AudiosetOntology,\n",
    "    show_histogram: bool = True,\n",
    ") -> None:\n",
    "    total_counts = df_all[\"labels\"].explode().value_counts()\n",
    "    value_counts = subset[\"labels\"].explode().value_counts()\n",
    "    value_counts.index = value_counts.index.map(ontology.df[\"name\"])\n",
    "    entropy = scipy.stats.entropy(value_counts / value_counts.sum())\n",
    "    print(f\"Number of covered labels: {len(value_counts)} / total {len(total_counts)}\")\n",
    "    print(f\"Entropy: {entropy:.4f}. Max entropy: {np.log(len(total_counts)):.4f}\")\n",
    "    print(f\"Number of examples: {len(subset)}\")\n",
    "    value_counts.plot(kind=\"bar\", title=\"Label Distribution\").update_xaxes(tickangle=45).update_layout(showlegend=False).show()\n",
    "    # create histogram of label counts\n",
    "    if show_histogram:\n",
    "        nbins = max(value_counts)//100+1\n",
    "        plotly.express.histogram(value_counts, title=\"Label counts histogram\", nbins=nbins).update_layout(showlegend=False).show()"
   ]
  },
  {
   "cell_type": "code",
   "execution_count": 49,
   "metadata": {},
   "outputs": [
    {
     "name": "stdout",
     "output_type": "stream",
     "text": [
      "Number of covered labels: 527 / total 527\n",
      "Entropy: 5.5940. Max entropy: 6.2672\n",
      "Number of examples: 134025\n"
     ]
    },
    {
     "data": {
      "application/vnd.plotly.v1+json": {
       "config": {
        "plotlyServerURL": "https://plot.ly"
       },
       "data": [
        {
         "alignmentgroup": "True",
         "hovertemplate": "variable=labels<br>index=%{x}<br>value=%{y}<extra></extra>",
         "legendgroup": "labels",
         "marker": {
          "color": "#636efa",
          "pattern": {
           "shape": ""
          }
         },
         "name": "labels",
         "offsetgroup": "labels",
         "orientation": "v",
         "showlegend": true,
         "textposition": "auto",
         "type": "bar",
         "x": [
          "Speech",
          "Music",
          "Vehicle",
          "Animal",
          "Inside, small room",
          "Domestic animals, pets",
          "Car",
          "Dog",
          "Water",
          "Singing",
          "Train",
          "Bird",
          "Outside, rural or natural",
          "Rail transport",
          "Outside, urban or manmade",
          "Fowl",
          "Musical instrument",
          "Engine",
          "Boat, Water vehicle",
          "Railroad car, train wagon",
          "Guitar",
          "Crowd",
          "Siren",
          "Gunshot, gunfire",
          "Insect",
          "Aircraft",
          "Wind",
          "Livestock, farm animals, working animals",
          "Inside, large room or hall",
          "Child speech, kid speaking",
          "Wind noise (microphone)",
          "Plucked string instrument",
          "Emergency vehicle",
          "Cat",
          "Wood",
          "Rub",
          "Truck",
          "Bird vocalization, bird call, bird song",
          "Laughter",
          "Tools",
          "Rain",
          "Motor vehicle (road)",
          "Mechanisms",
          "Chicken, rooster",
          "Fixed-wing aircraft, airplane",
          "Race car, auto racing",
          "Hiss",
          "Fly, housefly",
          "Effects unit",
          "Water tap, faucet",
          "Cheering",
          "Idling",
          "Horse",
          "Hum",
          "Accelerating, revving, vroom",
          "Male speech, man speaking",
          "Medium engine (mid frequency)",
          "Sheep",
          "Ocean",
          "Sound effect",
          "Power tool",
          "Crow",
          "Fireworks",
          "Rain on surface",
          "Vehicle horn, car horn, honking",
          "Door",
          "Wild animals",
          "Liquid",
          "Steam",
          "Canidae, dogs, wolves",
          "Tick-tock",
          "Explosion",
          "Dishes, pots, and pans",
          "Bow-wow",
          "Motorcycle",
          "Turkey",
          "Telephone",
          "Train horn",
          "Bark",
          "Waves, surf",
          "Duck",
          "Cattle, bovinae",
          "Silence",
          "Sizzle",
          "Pigeon, dove",
          "Goose",
          "Inside, public space",
          "Chirp, tweet",
          "Female speech, woman speaking",
          "Baby cry, infant cry",
          "Frying (food)",
          "Heart sounds, heartbeat",
          "Soundtrack music",
          "Male singing",
          "Stream",
          "Thunder",
          "Cluck",
          "Clickety-clack",
          "Ratchet, pawl",
          "Police car (siren)",
          "Typing",
          "Distortion",
          "Background music",
          "Thunderstorm",
          "Fire engine, fire truck (siren)",
          "Snicker",
          "Vibration",
          "Female singing",
          "Chuckle, chortle",
          "White noise",
          "Heavy engine (low frequency)",
          "Bus",
          "Goat",
          "Burst, pop",
          "Ringtone",
          "Motorboat, speedboat",
          "Belly laugh",
          "Helicopter",
          "Patter",
          "Yip",
          "Ding",
          "Beep, bleep",
          "Lawn mower",
          "Whimper (dog)",
          "Toot",
          "Meow",
          "Roar",
          "Whoop",
          "Smash, crash",
          "Computer keyboard",
          "Hubbub, speech noise, speech babble",
          "Babbling",
          "Chewing, mastication",
          "Whimper",
          "Aircraft engine",
          "Theme music",
          "Baby laughter",
          "Tire squeal",
          "Sink (filling or washing)",
          "Artillery fire",
          "Honk",
          "Alarm",
          "Dance music",
          "Jingle, tinkle",
          "Steam whistle",
          "Lullaby",
          "Video game music",
          "Bicycle",
          "Speech synthesizer",
          "Clapping",
          "Fire alarm",
          "Subway, metro, underground",
          "Cacophony",
          "Pig",
          "Mechanical fan",
          "Giggle",
          "Crowing, cock-a-doodle-doo",
          "Crying, sobbing",
          "Roaring cats (lions, tigers)",
          "Crackle",
          "Ship",
          "Skidding",
          "Frog",
          "Chatter",
          "Tick",
          "Splash, splatter",
          "Whack, thwack",
          "Gobble",
          "Jingle (music)",
          "Clatter",
          "Walk, footsteps",
          "Bleat",
          "Throbbing",
          "Coo",
          "Quack",
          "Sewing machine",
          "Sad music",
          "Owl",
          "Waterfall",
          "Hiccup",
          "Rodents, rats, mice",
          "Howl",
          "Environmental noise",
          "Engine knocking",
          "Thump, thud",
          "Angry music",
          "Cough",
          "Oink",
          "Clock",
          "Trickle, dribble",
          "Echo",
          "Cricket",
          "Fusillade",
          "Moo",
          "Cap gun",
          "Growling",
          "Filing (rasp)",
          "Train whistle",
          "Ambulance (siren)",
          "Drip",
          "Microwave oven",
          "Conversation",
          "Fill (with liquid)",
          "Fart",
          "Roll",
          "Sawing",
          "Cutlery, silverware",
          "Rustling leaves",
          "Caw",
          "Glass",
          "Arrow",
          "Applause",
          "Skateboard",
          "Basketball bounce",
          "Song",
          "Yell",
          "Civil defense siren",
          "Harmonic",
          "Alarm clock",
          "Eruption",
          "Rattle",
          "Chainsaw",
          "Ping",
          "Children shouting",
          "Snoring",
          "Shout",
          "Boom",
          "Whistling",
          "Clicking",
          "Typewriter",
          "Gurgling",
          "Gears",
          "Bee, wasp, etc.",
          "Run",
          "Crumpling, crinkling",
          "Bathtub (filling or washing)",
          "Firecracker",
          "Telephone bell ringing",
          "Traffic noise, roadway noise",
          "Jet engine",
          "Air brake",
          "Spray",
          "Slam",
          "Child singing",
          "Slap, smack",
          "Tender music",
          "Air horn, truck horn",
          "Toilet flush",
          "Pump (liquid)",
          "Whistle",
          "Children playing",
          "Pink noise",
          "Narration, monologue",
          "Funny music",
          "Electric shaver, electric razor",
          "Machine gun",
          "Whispering",
          "Stir",
          "Reverberation",
          "Raindrop",
          "Happy music",
          "Vacuum cleaner",
          "Christmas music",
          "Slosh",
          "Fire",
          "Wedding music",
          "Rowboat, canoe, kayak",
          "Exciting music",
          "Synthetic singing",
          "Writing",
          "Chink, clink",
          "Scary music",
          "Blender",
          "Engine starting",
          "Buzzer",
          "Sailboat, sailing ship",
          "Snake",
          "Tap",
          "Car passing by",
          "Shuffle",
          "Screaming",
          "Radio",
          "Clip-clop",
          "Breathing",
          "Groan",
          "Printer",
          "Rustle",
          "Plop",
          "Propeller, airscrew",
          "Whoosh, swoosh, swish",
          "Sliding door",
          "Television",
          "Sneeze",
          "Rapping",
          "Burping, eructation",
          "Drill",
          "Electronic tuner",
          "Neigh, whinny",
          "Train wheels squealing",
          "Purr",
          "Static",
          "Bellow",
          "Car alarm",
          "Hammer",
          "Smoke detector, smoke alarm",
          "Keys jangling",
          "Snort",
          "Yodeling",
          "Caterwaul",
          "Rumble",
          "Flap",
          "Whip",
          "Boiling",
          "Single-lens reflex camera",
          "Light engine (high frequency)",
          "Battle cry",
          "Mains hum",
          "Breaking",
          "Chop",
          "Ding-dong",
          "Sine wave",
          "Scrape",
          "Choir",
          "Buzz",
          "Telephone dialing, DTMF",
          "Camera",
          "Air conditioning",
          "Thunk",
          "Gush",
          "Hands",
          "Coin (dropping)",
          "Pour",
          "Mouse",
          "Humming",
          "Reversing beeps",
          "Scratch",
          "Heart murmur",
          "Rock and roll",
          "Croak",
          "Chorus effect",
          "Boing",
          "Field recording",
          "Zipper (clothing)",
          "Percussion",
          "Cash register",
          "Squish",
          "Dial tone",
          "Wind instrument, woodwind instrument",
          "Hair dryer",
          "Noise",
          "Bang",
          "Tearing",
          "Shatter",
          "Throat clearing",
          "Drum",
          "Sonar",
          "Mosquito",
          "Biting",
          "Doorbell",
          "Electric guitar",
          "Knock",
          "Crunch",
          "Christian music",
          "Shuffling cards",
          "Electric toothbrush",
          "Scissors",
          "Gasp",
          "Jackhammer",
          "Sigh",
          "Rock music",
          "Drawer open or close",
          "Ice cream truck, ice cream van",
          "Grunt",
          "Clang",
          "Whir",
          "Brass instrument",
          "Pant",
          "Power windows, electric windows",
          "Electronic music",
          "Bird flight, flapping wings",
          "Busy signal",
          "Pop music",
          "Crack",
          "Hip hop music",
          "Bass guitar",
          "Whale vocalization",
          "Heavy metal",
          "Chirp tone",
          "Keyboard (musical)",
          "Foghorn",
          "Bouncing",
          "Sniff",
          "Drum kit",
          "Pulse",
          "Stomach rumble",
          "Sanding",
          "Chopping (food)",
          "Bowed string instrument",
          "Vocal music",
          "Pizzicato",
          "Piano",
          "Dental drill, dentist's drill",
          "Cupboard open or close",
          "Squeak",
          "Sidetone",
          "Blues",
          "House music",
          "Hoot",
          "Gospel music",
          "Organ",
          "Punk rock",
          "Zing",
          "Wail, moan",
          "Squeal",
          "Rhythm and blues",
          "Wheeze",
          "Independent music",
          "Country",
          "A capella",
          "Splinter",
          "Acoustic guitar",
          "Crushing",
          "Orchestra",
          "Squawk",
          "Disco",
          "Classical music",
          "Music for children",
          "Pulleys",
          "Bass drum",
          "Creak",
          "Funk",
          "Music of Asia",
          "Jazz",
          "Finger snapping",
          "New-age music",
          "Marimba, xylophone",
          "Progressive rock",
          "Snare drum",
          "Electronic dance music",
          "Dubstep",
          "Soul music",
          "Trance music",
          "Synthesizer",
          "Tapping (guitar technique)",
          "Cello",
          "Violin, fiddle",
          "Music of Africa",
          "Music of Latin America",
          "Afrobeat",
          "Beatboxing",
          "Glockenspiel",
          "Strum",
          "Folk music",
          "Electronica",
          "Rimshot",
          "Bluegrass",
          "Psychedelic rock",
          "Reggae",
          "Drum and bass",
          "Steel guitar, slide guitar",
          "Ska",
          "Music of Bollywood",
          "Toothbrush",
          "Electric piano",
          "Opera",
          "Jingle bell",
          "Techno",
          "Chant",
          "Flute",
          "Grunge",
          "Chime",
          "Traditional music",
          "Drum roll",
          "Middle Eastern music",
          "Gargling",
          "Flamenco",
          "Bell",
          "Ambient music",
          "Saxophone",
          "Salsa music",
          "Swing music",
          "Cowbell",
          "Mantra",
          "Harp",
          "String section",
          "Drum machine",
          "Scratching (performance technique)",
          "French horn",
          "Trombone",
          "Timpani",
          "Sampler",
          "Banjo",
          "Mallet percussion",
          "Tuning fork",
          "Church bell",
          "Cymbal",
          "Mandolin",
          "Carnatic music",
          "Wind chime",
          "Clarinet",
          "Singing bowl",
          "Zither",
          "Maraca",
          "Trumpet",
          "Bicycle bell",
          "Ukulele",
          "Double bass",
          "Electronic organ",
          "Harmonica",
          "Harpsichord",
          "Theremin",
          "Accordion",
          "Gong",
          "Bagpipes",
          "Sitar",
          "Tubular bells",
          "Tambourine",
          "Tabla",
          "Rattle (instrument)",
          "Change ringing (campanology)",
          "Vibraphone",
          "Steelpan",
          "Hammond organ",
          "Wood block",
          "Shofar",
          "Hi-hat",
          "Didgeridoo"
         ],
         "xaxis": "x",
         "y": [
          20149,
          17658,
          9725,
          6838,
          3885,
          3313,
          2658,
          2247,
          1995,
          1938,
          1883,
          1815,
          1680,
          1662,
          1660,
          1655,
          1623,
          1575,
          1517,
          1470,
          1359,
          1336,
          1296,
          1161,
          1160,
          1107,
          1096,
          1083,
          1024,
          1017,
          993,
          988,
          976,
          959,
          956,
          916,
          907,
          899,
          868,
          853,
          847,
          839,
          780,
          761,
          742,
          738,
          712,
          705,
          701,
          688,
          677,
          677,
          667,
          665,
          665,
          614,
          613,
          613,
          607,
          604,
          597,
          593,
          583,
          579,
          578,
          577,
          577,
          574,
          574,
          570,
          568,
          565,
          564,
          554,
          553,
          548,
          547,
          547,
          546,
          546,
          546,
          544,
          544,
          543,
          542,
          539,
          534,
          534,
          533,
          532,
          529,
          528,
          527,
          525,
          522,
          522,
          522,
          520,
          520,
          519,
          516,
          516,
          514,
          514,
          512,
          511,
          511,
          510,
          510,
          509,
          509,
          508,
          508,
          507,
          507,
          507,
          506,
          505,
          505,
          505,
          505,
          505,
          503,
          503,
          503,
          503,
          503,
          503,
          503,
          502,
          502,
          502,
          502,
          502,
          502,
          502,
          502,
          502,
          502,
          502,
          502,
          502,
          502,
          502,
          502,
          501,
          501,
          501,
          501,
          501,
          501,
          501,
          501,
          501,
          501,
          501,
          501,
          501,
          501,
          501,
          501,
          501,
          501,
          501,
          501,
          501,
          501,
          501,
          501,
          501,
          501,
          501,
          501,
          501,
          500,
          500,
          500,
          500,
          500,
          500,
          500,
          500,
          500,
          500,
          500,
          500,
          500,
          500,
          500,
          500,
          500,
          500,
          500,
          500,
          500,
          500,
          500,
          500,
          500,
          500,
          500,
          500,
          500,
          500,
          500,
          500,
          500,
          500,
          500,
          500,
          500,
          500,
          500,
          500,
          500,
          500,
          500,
          500,
          500,
          500,
          500,
          500,
          500,
          500,
          500,
          500,
          500,
          500,
          500,
          500,
          500,
          500,
          500,
          500,
          500,
          500,
          500,
          500,
          500,
          500,
          500,
          500,
          500,
          500,
          500,
          500,
          500,
          500,
          500,
          500,
          500,
          500,
          500,
          500,
          500,
          500,
          500,
          500,
          500,
          500,
          500,
          500,
          500,
          500,
          500,
          500,
          500,
          500,
          500,
          500,
          500,
          500,
          500,
          500,
          500,
          500,
          500,
          500,
          500,
          500,
          500,
          500,
          500,
          500,
          500,
          500,
          500,
          500,
          500,
          500,
          500,
          500,
          500,
          500,
          500,
          500,
          500,
          493,
          476,
          474,
          467,
          451,
          450,
          449,
          449,
          438,
          430,
          430,
          423,
          419,
          409,
          408,
          401,
          399,
          398,
          391,
          391,
          389,
          388,
          380,
          380,
          366,
          364,
          363,
          363,
          360,
          358,
          356,
          355,
          355,
          343,
          342,
          341,
          341,
          337,
          336,
          335,
          325,
          324,
          324,
          322,
          322,
          320,
          316,
          313,
          311,
          309,
          308,
          307,
          302,
          300,
          300,
          289,
          285,
          284,
          281,
          279,
          275,
          263,
          262,
          261,
          260,
          259,
          259,
          258,
          258,
          256,
          255,
          251,
          249,
          246,
          244,
          243,
          242,
          238,
          237,
          237,
          235,
          233,
          226,
          220,
          220,
          217,
          217,
          213,
          209,
          200,
          200,
          197,
          190,
          185,
          179,
          179,
          178,
          177,
          175,
          169,
          165,
          165,
          164,
          163,
          163,
          161,
          161,
          160,
          160,
          160,
          158,
          156,
          155,
          154,
          153,
          151,
          149,
          146,
          145,
          140,
          139,
          137,
          137,
          137,
          135,
          135,
          134,
          133,
          132,
          132,
          131,
          129,
          129,
          128,
          127,
          127,
          124,
          122,
          121,
          118,
          117,
          117,
          117,
          117,
          117,
          116,
          113,
          111,
          110,
          110,
          109,
          107,
          106,
          106,
          106,
          106,
          106,
          105,
          105,
          104,
          104,
          104,
          103,
          102,
          102,
          101,
          100,
          100,
          100,
          100,
          99,
          99,
          97,
          97,
          97,
          97,
          96,
          95,
          95,
          94,
          93,
          93,
          93,
          92,
          92,
          92,
          92,
          92,
          91,
          90,
          90,
          90,
          89,
          89,
          89,
          89,
          89,
          89,
          88,
          88,
          87,
          87,
          87,
          87,
          87,
          87,
          87,
          87,
          86,
          86,
          86,
          86,
          86,
          85,
          85,
          84,
          84,
          84,
          83,
          83,
          82,
          82,
          82,
          82,
          82,
          82,
          81,
          81,
          81,
          81
         ],
         "yaxis": "y"
        }
       ],
       "layout": {
        "barmode": "relative",
        "legend": {
         "title": {
          "text": "variable"
         },
         "tracegroupgap": 0
        },
        "showlegend": false,
        "template": {
         "data": {
          "bar": [
           {
            "error_x": {
             "color": "#2a3f5f"
            },
            "error_y": {
             "color": "#2a3f5f"
            },
            "marker": {
             "line": {
              "color": "#E5ECF6",
              "width": 0.5
             },
             "pattern": {
              "fillmode": "overlay",
              "size": 10,
              "solidity": 0.2
             }
            },
            "type": "bar"
           }
          ],
          "barpolar": [
           {
            "marker": {
             "line": {
              "color": "#E5ECF6",
              "width": 0.5
             },
             "pattern": {
              "fillmode": "overlay",
              "size": 10,
              "solidity": 0.2
             }
            },
            "type": "barpolar"
           }
          ],
          "carpet": [
           {
            "aaxis": {
             "endlinecolor": "#2a3f5f",
             "gridcolor": "white",
             "linecolor": "white",
             "minorgridcolor": "white",
             "startlinecolor": "#2a3f5f"
            },
            "baxis": {
             "endlinecolor": "#2a3f5f",
             "gridcolor": "white",
             "linecolor": "white",
             "minorgridcolor": "white",
             "startlinecolor": "#2a3f5f"
            },
            "type": "carpet"
           }
          ],
          "choropleth": [
           {
            "colorbar": {
             "outlinewidth": 0,
             "ticks": ""
            },
            "type": "choropleth"
           }
          ],
          "contour": [
           {
            "colorbar": {
             "outlinewidth": 0,
             "ticks": ""
            },
            "colorscale": [
             [
              0,
              "#0d0887"
             ],
             [
              0.1111111111111111,
              "#46039f"
             ],
             [
              0.2222222222222222,
              "#7201a8"
             ],
             [
              0.3333333333333333,
              "#9c179e"
             ],
             [
              0.4444444444444444,
              "#bd3786"
             ],
             [
              0.5555555555555556,
              "#d8576b"
             ],
             [
              0.6666666666666666,
              "#ed7953"
             ],
             [
              0.7777777777777778,
              "#fb9f3a"
             ],
             [
              0.8888888888888888,
              "#fdca26"
             ],
             [
              1,
              "#f0f921"
             ]
            ],
            "type": "contour"
           }
          ],
          "contourcarpet": [
           {
            "colorbar": {
             "outlinewidth": 0,
             "ticks": ""
            },
            "type": "contourcarpet"
           }
          ],
          "heatmap": [
           {
            "colorbar": {
             "outlinewidth": 0,
             "ticks": ""
            },
            "colorscale": [
             [
              0,
              "#0d0887"
             ],
             [
              0.1111111111111111,
              "#46039f"
             ],
             [
              0.2222222222222222,
              "#7201a8"
             ],
             [
              0.3333333333333333,
              "#9c179e"
             ],
             [
              0.4444444444444444,
              "#bd3786"
             ],
             [
              0.5555555555555556,
              "#d8576b"
             ],
             [
              0.6666666666666666,
              "#ed7953"
             ],
             [
              0.7777777777777778,
              "#fb9f3a"
             ],
             [
              0.8888888888888888,
              "#fdca26"
             ],
             [
              1,
              "#f0f921"
             ]
            ],
            "type": "heatmap"
           }
          ],
          "heatmapgl": [
           {
            "colorbar": {
             "outlinewidth": 0,
             "ticks": ""
            },
            "colorscale": [
             [
              0,
              "#0d0887"
             ],
             [
              0.1111111111111111,
              "#46039f"
             ],
             [
              0.2222222222222222,
              "#7201a8"
             ],
             [
              0.3333333333333333,
              "#9c179e"
             ],
             [
              0.4444444444444444,
              "#bd3786"
             ],
             [
              0.5555555555555556,
              "#d8576b"
             ],
             [
              0.6666666666666666,
              "#ed7953"
             ],
             [
              0.7777777777777778,
              "#fb9f3a"
             ],
             [
              0.8888888888888888,
              "#fdca26"
             ],
             [
              1,
              "#f0f921"
             ]
            ],
            "type": "heatmapgl"
           }
          ],
          "histogram": [
           {
            "marker": {
             "pattern": {
              "fillmode": "overlay",
              "size": 10,
              "solidity": 0.2
             }
            },
            "type": "histogram"
           }
          ],
          "histogram2d": [
           {
            "colorbar": {
             "outlinewidth": 0,
             "ticks": ""
            },
            "colorscale": [
             [
              0,
              "#0d0887"
             ],
             [
              0.1111111111111111,
              "#46039f"
             ],
             [
              0.2222222222222222,
              "#7201a8"
             ],
             [
              0.3333333333333333,
              "#9c179e"
             ],
             [
              0.4444444444444444,
              "#bd3786"
             ],
             [
              0.5555555555555556,
              "#d8576b"
             ],
             [
              0.6666666666666666,
              "#ed7953"
             ],
             [
              0.7777777777777778,
              "#fb9f3a"
             ],
             [
              0.8888888888888888,
              "#fdca26"
             ],
             [
              1,
              "#f0f921"
             ]
            ],
            "type": "histogram2d"
           }
          ],
          "histogram2dcontour": [
           {
            "colorbar": {
             "outlinewidth": 0,
             "ticks": ""
            },
            "colorscale": [
             [
              0,
              "#0d0887"
             ],
             [
              0.1111111111111111,
              "#46039f"
             ],
             [
              0.2222222222222222,
              "#7201a8"
             ],
             [
              0.3333333333333333,
              "#9c179e"
             ],
             [
              0.4444444444444444,
              "#bd3786"
             ],
             [
              0.5555555555555556,
              "#d8576b"
             ],
             [
              0.6666666666666666,
              "#ed7953"
             ],
             [
              0.7777777777777778,
              "#fb9f3a"
             ],
             [
              0.8888888888888888,
              "#fdca26"
             ],
             [
              1,
              "#f0f921"
             ]
            ],
            "type": "histogram2dcontour"
           }
          ],
          "mesh3d": [
           {
            "colorbar": {
             "outlinewidth": 0,
             "ticks": ""
            },
            "type": "mesh3d"
           }
          ],
          "parcoords": [
           {
            "line": {
             "colorbar": {
              "outlinewidth": 0,
              "ticks": ""
             }
            },
            "type": "parcoords"
           }
          ],
          "pie": [
           {
            "automargin": true,
            "type": "pie"
           }
          ],
          "scatter": [
           {
            "fillpattern": {
             "fillmode": "overlay",
             "size": 10,
             "solidity": 0.2
            },
            "type": "scatter"
           }
          ],
          "scatter3d": [
           {
            "line": {
             "colorbar": {
              "outlinewidth": 0,
              "ticks": ""
             }
            },
            "marker": {
             "colorbar": {
              "outlinewidth": 0,
              "ticks": ""
             }
            },
            "type": "scatter3d"
           }
          ],
          "scattercarpet": [
           {
            "marker": {
             "colorbar": {
              "outlinewidth": 0,
              "ticks": ""
             }
            },
            "type": "scattercarpet"
           }
          ],
          "scattergeo": [
           {
            "marker": {
             "colorbar": {
              "outlinewidth": 0,
              "ticks": ""
             }
            },
            "type": "scattergeo"
           }
          ],
          "scattergl": [
           {
            "marker": {
             "colorbar": {
              "outlinewidth": 0,
              "ticks": ""
             }
            },
            "type": "scattergl"
           }
          ],
          "scattermapbox": [
           {
            "marker": {
             "colorbar": {
              "outlinewidth": 0,
              "ticks": ""
             }
            },
            "type": "scattermapbox"
           }
          ],
          "scatterpolar": [
           {
            "marker": {
             "colorbar": {
              "outlinewidth": 0,
              "ticks": ""
             }
            },
            "type": "scatterpolar"
           }
          ],
          "scatterpolargl": [
           {
            "marker": {
             "colorbar": {
              "outlinewidth": 0,
              "ticks": ""
             }
            },
            "type": "scatterpolargl"
           }
          ],
          "scatterternary": [
           {
            "marker": {
             "colorbar": {
              "outlinewidth": 0,
              "ticks": ""
             }
            },
            "type": "scatterternary"
           }
          ],
          "surface": [
           {
            "colorbar": {
             "outlinewidth": 0,
             "ticks": ""
            },
            "colorscale": [
             [
              0,
              "#0d0887"
             ],
             [
              0.1111111111111111,
              "#46039f"
             ],
             [
              0.2222222222222222,
              "#7201a8"
             ],
             [
              0.3333333333333333,
              "#9c179e"
             ],
             [
              0.4444444444444444,
              "#bd3786"
             ],
             [
              0.5555555555555556,
              "#d8576b"
             ],
             [
              0.6666666666666666,
              "#ed7953"
             ],
             [
              0.7777777777777778,
              "#fb9f3a"
             ],
             [
              0.8888888888888888,
              "#fdca26"
             ],
             [
              1,
              "#f0f921"
             ]
            ],
            "type": "surface"
           }
          ],
          "table": [
           {
            "cells": {
             "fill": {
              "color": "#EBF0F8"
             },
             "line": {
              "color": "white"
             }
            },
            "header": {
             "fill": {
              "color": "#C8D4E3"
             },
             "line": {
              "color": "white"
             }
            },
            "type": "table"
           }
          ]
         },
         "layout": {
          "annotationdefaults": {
           "arrowcolor": "#2a3f5f",
           "arrowhead": 0,
           "arrowwidth": 1
          },
          "autotypenumbers": "strict",
          "coloraxis": {
           "colorbar": {
            "outlinewidth": 0,
            "ticks": ""
           }
          },
          "colorscale": {
           "diverging": [
            [
             0,
             "#8e0152"
            ],
            [
             0.1,
             "#c51b7d"
            ],
            [
             0.2,
             "#de77ae"
            ],
            [
             0.3,
             "#f1b6da"
            ],
            [
             0.4,
             "#fde0ef"
            ],
            [
             0.5,
             "#f7f7f7"
            ],
            [
             0.6,
             "#e6f5d0"
            ],
            [
             0.7,
             "#b8e186"
            ],
            [
             0.8,
             "#7fbc41"
            ],
            [
             0.9,
             "#4d9221"
            ],
            [
             1,
             "#276419"
            ]
           ],
           "sequential": [
            [
             0,
             "#0d0887"
            ],
            [
             0.1111111111111111,
             "#46039f"
            ],
            [
             0.2222222222222222,
             "#7201a8"
            ],
            [
             0.3333333333333333,
             "#9c179e"
            ],
            [
             0.4444444444444444,
             "#bd3786"
            ],
            [
             0.5555555555555556,
             "#d8576b"
            ],
            [
             0.6666666666666666,
             "#ed7953"
            ],
            [
             0.7777777777777778,
             "#fb9f3a"
            ],
            [
             0.8888888888888888,
             "#fdca26"
            ],
            [
             1,
             "#f0f921"
            ]
           ],
           "sequentialminus": [
            [
             0,
             "#0d0887"
            ],
            [
             0.1111111111111111,
             "#46039f"
            ],
            [
             0.2222222222222222,
             "#7201a8"
            ],
            [
             0.3333333333333333,
             "#9c179e"
            ],
            [
             0.4444444444444444,
             "#bd3786"
            ],
            [
             0.5555555555555556,
             "#d8576b"
            ],
            [
             0.6666666666666666,
             "#ed7953"
            ],
            [
             0.7777777777777778,
             "#fb9f3a"
            ],
            [
             0.8888888888888888,
             "#fdca26"
            ],
            [
             1,
             "#f0f921"
            ]
           ]
          },
          "colorway": [
           "#636efa",
           "#EF553B",
           "#00cc96",
           "#ab63fa",
           "#FFA15A",
           "#19d3f3",
           "#FF6692",
           "#B6E880",
           "#FF97FF",
           "#FECB52"
          ],
          "font": {
           "color": "#2a3f5f"
          },
          "geo": {
           "bgcolor": "white",
           "lakecolor": "white",
           "landcolor": "#E5ECF6",
           "showlakes": true,
           "showland": true,
           "subunitcolor": "white"
          },
          "hoverlabel": {
           "align": "left"
          },
          "hovermode": "closest",
          "mapbox": {
           "style": "light"
          },
          "paper_bgcolor": "white",
          "plot_bgcolor": "#E5ECF6",
          "polar": {
           "angularaxis": {
            "gridcolor": "white",
            "linecolor": "white",
            "ticks": ""
           },
           "bgcolor": "#E5ECF6",
           "radialaxis": {
            "gridcolor": "white",
            "linecolor": "white",
            "ticks": ""
           }
          },
          "scene": {
           "xaxis": {
            "backgroundcolor": "#E5ECF6",
            "gridcolor": "white",
            "gridwidth": 2,
            "linecolor": "white",
            "showbackground": true,
            "ticks": "",
            "zerolinecolor": "white"
           },
           "yaxis": {
            "backgroundcolor": "#E5ECF6",
            "gridcolor": "white",
            "gridwidth": 2,
            "linecolor": "white",
            "showbackground": true,
            "ticks": "",
            "zerolinecolor": "white"
           },
           "zaxis": {
            "backgroundcolor": "#E5ECF6",
            "gridcolor": "white",
            "gridwidth": 2,
            "linecolor": "white",
            "showbackground": true,
            "ticks": "",
            "zerolinecolor": "white"
           }
          },
          "shapedefaults": {
           "line": {
            "color": "#2a3f5f"
           }
          },
          "ternary": {
           "aaxis": {
            "gridcolor": "white",
            "linecolor": "white",
            "ticks": ""
           },
           "baxis": {
            "gridcolor": "white",
            "linecolor": "white",
            "ticks": ""
           },
           "bgcolor": "#E5ECF6",
           "caxis": {
            "gridcolor": "white",
            "linecolor": "white",
            "ticks": ""
           }
          },
          "title": {
           "x": 0.05
          },
          "xaxis": {
           "automargin": true,
           "gridcolor": "white",
           "linecolor": "white",
           "ticks": "",
           "title": {
            "standoff": 15
           },
           "zerolinecolor": "white",
           "zerolinewidth": 2
          },
          "yaxis": {
           "automargin": true,
           "gridcolor": "white",
           "linecolor": "white",
           "ticks": "",
           "title": {
            "standoff": 15
           },
           "zerolinecolor": "white",
           "zerolinewidth": 2
          }
         }
        },
        "title": {
         "text": "Label Distribution"
        },
        "xaxis": {
         "anchor": "y",
         "domain": [
          0,
          1
         ],
         "tickangle": 45,
         "title": {
          "text": "index"
         }
        },
        "yaxis": {
         "anchor": "x",
         "domain": [
          0,
          1
         ],
         "title": {
          "text": "value"
         }
        }
       }
      },
      "text/html": [
       "<div>                            <div id=\"a952c06a-63b0-4c45-9124-44aeaef0c2d1\" class=\"plotly-graph-div\" style=\"height:525px; width:100%;\"></div>            <script type=\"text/javascript\">                require([\"plotly\"], function(Plotly) {                    window.PLOTLYENV=window.PLOTLYENV || {};                                    if (document.getElementById(\"a952c06a-63b0-4c45-9124-44aeaef0c2d1\")) {                    Plotly.newPlot(                        \"a952c06a-63b0-4c45-9124-44aeaef0c2d1\",                        [{\"alignmentgroup\":\"True\",\"hovertemplate\":\"variable=labels<br>index=%{x}<br>value=%{y}<extra></extra>\",\"legendgroup\":\"labels\",\"marker\":{\"color\":\"#636efa\",\"pattern\":{\"shape\":\"\"}},\"name\":\"labels\",\"offsetgroup\":\"labels\",\"orientation\":\"v\",\"showlegend\":true,\"textposition\":\"auto\",\"x\":[\"Speech\",\"Music\",\"Vehicle\",\"Animal\",\"Inside, small room\",\"Domestic animals, pets\",\"Car\",\"Dog\",\"Water\",\"Singing\",\"Train\",\"Bird\",\"Outside, rural or natural\",\"Rail transport\",\"Outside, urban or manmade\",\"Fowl\",\"Musical instrument\",\"Engine\",\"Boat, Water vehicle\",\"Railroad car, train wagon\",\"Guitar\",\"Crowd\",\"Siren\",\"Gunshot, gunfire\",\"Insect\",\"Aircraft\",\"Wind\",\"Livestock, farm animals, working animals\",\"Inside, large room or hall\",\"Child speech, kid speaking\",\"Wind noise (microphone)\",\"Plucked string instrument\",\"Emergency vehicle\",\"Cat\",\"Wood\",\"Rub\",\"Truck\",\"Bird vocalization, bird call, bird song\",\"Laughter\",\"Tools\",\"Rain\",\"Motor vehicle (road)\",\"Mechanisms\",\"Chicken, rooster\",\"Fixed-wing aircraft, airplane\",\"Race car, auto racing\",\"Hiss\",\"Fly, housefly\",\"Effects unit\",\"Water tap, faucet\",\"Cheering\",\"Idling\",\"Horse\",\"Hum\",\"Accelerating, revving, vroom\",\"Male speech, man speaking\",\"Medium engine (mid frequency)\",\"Sheep\",\"Ocean\",\"Sound effect\",\"Power tool\",\"Crow\",\"Fireworks\",\"Rain on surface\",\"Vehicle horn, car horn, honking\",\"Door\",\"Wild animals\",\"Liquid\",\"Steam\",\"Canidae, dogs, wolves\",\"Tick-tock\",\"Explosion\",\"Dishes, pots, and pans\",\"Bow-wow\",\"Motorcycle\",\"Turkey\",\"Telephone\",\"Train horn\",\"Bark\",\"Waves, surf\",\"Duck\",\"Cattle, bovinae\",\"Silence\",\"Sizzle\",\"Pigeon, dove\",\"Goose\",\"Inside, public space\",\"Chirp, tweet\",\"Female speech, woman speaking\",\"Baby cry, infant cry\",\"Frying (food)\",\"Heart sounds, heartbeat\",\"Soundtrack music\",\"Male singing\",\"Stream\",\"Thunder\",\"Cluck\",\"Clickety-clack\",\"Ratchet, pawl\",\"Police car (siren)\",\"Typing\",\"Distortion\",\"Background music\",\"Thunderstorm\",\"Fire engine, fire truck (siren)\",\"Snicker\",\"Vibration\",\"Female singing\",\"Chuckle, chortle\",\"White noise\",\"Heavy engine (low frequency)\",\"Bus\",\"Goat\",\"Burst, pop\",\"Ringtone\",\"Motorboat, speedboat\",\"Belly laugh\",\"Helicopter\",\"Patter\",\"Yip\",\"Ding\",\"Beep, bleep\",\"Lawn mower\",\"Whimper (dog)\",\"Toot\",\"Meow\",\"Roar\",\"Whoop\",\"Smash, crash\",\"Computer keyboard\",\"Hubbub, speech noise, speech babble\",\"Babbling\",\"Chewing, mastication\",\"Whimper\",\"Aircraft engine\",\"Theme music\",\"Baby laughter\",\"Tire squeal\",\"Sink (filling or washing)\",\"Artillery fire\",\"Honk\",\"Alarm\",\"Dance music\",\"Jingle, tinkle\",\"Steam whistle\",\"Lullaby\",\"Video game music\",\"Bicycle\",\"Speech synthesizer\",\"Clapping\",\"Fire alarm\",\"Subway, metro, underground\",\"Cacophony\",\"Pig\",\"Mechanical fan\",\"Giggle\",\"Crowing, cock-a-doodle-doo\",\"Crying, sobbing\",\"Roaring cats (lions, tigers)\",\"Crackle\",\"Ship\",\"Skidding\",\"Frog\",\"Chatter\",\"Tick\",\"Splash, splatter\",\"Whack, thwack\",\"Gobble\",\"Jingle (music)\",\"Clatter\",\"Walk, footsteps\",\"Bleat\",\"Throbbing\",\"Coo\",\"Quack\",\"Sewing machine\",\"Sad music\",\"Owl\",\"Waterfall\",\"Hiccup\",\"Rodents, rats, mice\",\"Howl\",\"Environmental noise\",\"Engine knocking\",\"Thump, thud\",\"Angry music\",\"Cough\",\"Oink\",\"Clock\",\"Trickle, dribble\",\"Echo\",\"Cricket\",\"Fusillade\",\"Moo\",\"Cap gun\",\"Growling\",\"Filing (rasp)\",\"Train whistle\",\"Ambulance (siren)\",\"Drip\",\"Microwave oven\",\"Conversation\",\"Fill (with liquid)\",\"Fart\",\"Roll\",\"Sawing\",\"Cutlery, silverware\",\"Rustling leaves\",\"Caw\",\"Glass\",\"Arrow\",\"Applause\",\"Skateboard\",\"Basketball bounce\",\"Song\",\"Yell\",\"Civil defense siren\",\"Harmonic\",\"Alarm clock\",\"Eruption\",\"Rattle\",\"Chainsaw\",\"Ping\",\"Children shouting\",\"Snoring\",\"Shout\",\"Boom\",\"Whistling\",\"Clicking\",\"Typewriter\",\"Gurgling\",\"Gears\",\"Bee, wasp, etc.\",\"Run\",\"Crumpling, crinkling\",\"Bathtub (filling or washing)\",\"Firecracker\",\"Telephone bell ringing\",\"Traffic noise, roadway noise\",\"Jet engine\",\"Air brake\",\"Spray\",\"Slam\",\"Child singing\",\"Slap, smack\",\"Tender music\",\"Air horn, truck horn\",\"Toilet flush\",\"Pump (liquid)\",\"Whistle\",\"Children playing\",\"Pink noise\",\"Narration, monologue\",\"Funny music\",\"Electric shaver, electric razor\",\"Machine gun\",\"Whispering\",\"Stir\",\"Reverberation\",\"Raindrop\",\"Happy music\",\"Vacuum cleaner\",\"Christmas music\",\"Slosh\",\"Fire\",\"Wedding music\",\"Rowboat, canoe, kayak\",\"Exciting music\",\"Synthetic singing\",\"Writing\",\"Chink, clink\",\"Scary music\",\"Blender\",\"Engine starting\",\"Buzzer\",\"Sailboat, sailing ship\",\"Snake\",\"Tap\",\"Car passing by\",\"Shuffle\",\"Screaming\",\"Radio\",\"Clip-clop\",\"Breathing\",\"Groan\",\"Printer\",\"Rustle\",\"Plop\",\"Propeller, airscrew\",\"Whoosh, swoosh, swish\",\"Sliding door\",\"Television\",\"Sneeze\",\"Rapping\",\"Burping, eructation\",\"Drill\",\"Electronic tuner\",\"Neigh, whinny\",\"Train wheels squealing\",\"Purr\",\"Static\",\"Bellow\",\"Car alarm\",\"Hammer\",\"Smoke detector, smoke alarm\",\"Keys jangling\",\"Snort\",\"Yodeling\",\"Caterwaul\",\"Rumble\",\"Flap\",\"Whip\",\"Boiling\",\"Single-lens reflex camera\",\"Light engine (high frequency)\",\"Battle cry\",\"Mains hum\",\"Breaking\",\"Chop\",\"Ding-dong\",\"Sine wave\",\"Scrape\",\"Choir\",\"Buzz\",\"Telephone dialing, DTMF\",\"Camera\",\"Air conditioning\",\"Thunk\",\"Gush\",\"Hands\",\"Coin (dropping)\",\"Pour\",\"Mouse\",\"Humming\",\"Reversing beeps\",\"Scratch\",\"Heart murmur\",\"Rock and roll\",\"Croak\",\"Chorus effect\",\"Boing\",\"Field recording\",\"Zipper (clothing)\",\"Percussion\",\"Cash register\",\"Squish\",\"Dial tone\",\"Wind instrument, woodwind instrument\",\"Hair dryer\",\"Noise\",\"Bang\",\"Tearing\",\"Shatter\",\"Throat clearing\",\"Drum\",\"Sonar\",\"Mosquito\",\"Biting\",\"Doorbell\",\"Electric guitar\",\"Knock\",\"Crunch\",\"Christian music\",\"Shuffling cards\",\"Electric toothbrush\",\"Scissors\",\"Gasp\",\"Jackhammer\",\"Sigh\",\"Rock music\",\"Drawer open or close\",\"Ice cream truck, ice cream van\",\"Grunt\",\"Clang\",\"Whir\",\"Brass instrument\",\"Pant\",\"Power windows, electric windows\",\"Electronic music\",\"Bird flight, flapping wings\",\"Busy signal\",\"Pop music\",\"Crack\",\"Hip hop music\",\"Bass guitar\",\"Whale vocalization\",\"Heavy metal\",\"Chirp tone\",\"Keyboard (musical)\",\"Foghorn\",\"Bouncing\",\"Sniff\",\"Drum kit\",\"Pulse\",\"Stomach rumble\",\"Sanding\",\"Chopping (food)\",\"Bowed string instrument\",\"Vocal music\",\"Pizzicato\",\"Piano\",\"Dental drill, dentist's drill\",\"Cupboard open or close\",\"Squeak\",\"Sidetone\",\"Blues\",\"House music\",\"Hoot\",\"Gospel music\",\"Organ\",\"Punk rock\",\"Zing\",\"Wail, moan\",\"Squeal\",\"Rhythm and blues\",\"Wheeze\",\"Independent music\",\"Country\",\"A capella\",\"Splinter\",\"Acoustic guitar\",\"Crushing\",\"Orchestra\",\"Squawk\",\"Disco\",\"Classical music\",\"Music for children\",\"Pulleys\",\"Bass drum\",\"Creak\",\"Funk\",\"Music of Asia\",\"Jazz\",\"Finger snapping\",\"New-age music\",\"Marimba, xylophone\",\"Progressive rock\",\"Snare drum\",\"Electronic dance music\",\"Dubstep\",\"Soul music\",\"Trance music\",\"Synthesizer\",\"Tapping (guitar technique)\",\"Cello\",\"Violin, fiddle\",\"Music of Africa\",\"Music of Latin America\",\"Afrobeat\",\"Beatboxing\",\"Glockenspiel\",\"Strum\",\"Folk music\",\"Electronica\",\"Rimshot\",\"Bluegrass\",\"Psychedelic rock\",\"Reggae\",\"Drum and bass\",\"Steel guitar, slide guitar\",\"Ska\",\"Music of Bollywood\",\"Toothbrush\",\"Electric piano\",\"Opera\",\"Jingle bell\",\"Techno\",\"Chant\",\"Flute\",\"Grunge\",\"Chime\",\"Traditional music\",\"Drum roll\",\"Middle Eastern music\",\"Gargling\",\"Flamenco\",\"Bell\",\"Ambient music\",\"Saxophone\",\"Salsa music\",\"Swing music\",\"Cowbell\",\"Mantra\",\"Harp\",\"String section\",\"Drum machine\",\"Scratching (performance technique)\",\"French horn\",\"Trombone\",\"Timpani\",\"Sampler\",\"Banjo\",\"Mallet percussion\",\"Tuning fork\",\"Church bell\",\"Cymbal\",\"Mandolin\",\"Carnatic music\",\"Wind chime\",\"Clarinet\",\"Singing bowl\",\"Zither\",\"Maraca\",\"Trumpet\",\"Bicycle bell\",\"Ukulele\",\"Double bass\",\"Electronic organ\",\"Harmonica\",\"Harpsichord\",\"Theremin\",\"Accordion\",\"Gong\",\"Bagpipes\",\"Sitar\",\"Tubular bells\",\"Tambourine\",\"Tabla\",\"Rattle (instrument)\",\"Change ringing (campanology)\",\"Vibraphone\",\"Steelpan\",\"Hammond organ\",\"Wood block\",\"Shofar\",\"Hi-hat\",\"Didgeridoo\"],\"xaxis\":\"x\",\"y\":[20149,17658,9725,6838,3885,3313,2658,2247,1995,1938,1883,1815,1680,1662,1660,1655,1623,1575,1517,1470,1359,1336,1296,1161,1160,1107,1096,1083,1024,1017,993,988,976,959,956,916,907,899,868,853,847,839,780,761,742,738,712,705,701,688,677,677,667,665,665,614,613,613,607,604,597,593,583,579,578,577,577,574,574,570,568,565,564,554,553,548,547,547,546,546,546,544,544,543,542,539,534,534,533,532,529,528,527,525,522,522,522,520,520,519,516,516,514,514,512,511,511,510,510,509,509,508,508,507,507,507,506,505,505,505,505,505,503,503,503,503,503,503,503,502,502,502,502,502,502,502,502,502,502,502,502,502,502,502,502,501,501,501,501,501,501,501,501,501,501,501,501,501,501,501,501,501,501,501,501,501,501,501,501,501,501,501,501,501,500,500,500,500,500,500,500,500,500,500,500,500,500,500,500,500,500,500,500,500,500,500,500,500,500,500,500,500,500,500,500,500,500,500,500,500,500,500,500,500,500,500,500,500,500,500,500,500,500,500,500,500,500,500,500,500,500,500,500,500,500,500,500,500,500,500,500,500,500,500,500,500,500,500,500,500,500,500,500,500,500,500,500,500,500,500,500,500,500,500,500,500,500,500,500,500,500,500,500,500,500,500,500,500,500,500,500,500,500,500,500,500,500,500,500,500,500,500,500,500,500,500,500,493,476,474,467,451,450,449,449,438,430,430,423,419,409,408,401,399,398,391,391,389,388,380,380,366,364,363,363,360,358,356,355,355,343,342,341,341,337,336,335,325,324,324,322,322,320,316,313,311,309,308,307,302,300,300,289,285,284,281,279,275,263,262,261,260,259,259,258,258,256,255,251,249,246,244,243,242,238,237,237,235,233,226,220,220,217,217,213,209,200,200,197,190,185,179,179,178,177,175,169,165,165,164,163,163,161,161,160,160,160,158,156,155,154,153,151,149,146,145,140,139,137,137,137,135,135,134,133,132,132,131,129,129,128,127,127,124,122,121,118,117,117,117,117,117,116,113,111,110,110,109,107,106,106,106,106,106,105,105,104,104,104,103,102,102,101,100,100,100,100,99,99,97,97,97,97,96,95,95,94,93,93,93,92,92,92,92,92,91,90,90,90,89,89,89,89,89,89,88,88,87,87,87,87,87,87,87,87,86,86,86,86,86,85,85,84,84,84,83,83,82,82,82,82,82,82,81,81,81,81],\"yaxis\":\"y\",\"type\":\"bar\"}],                        {\"template\":{\"data\":{\"histogram2dcontour\":[{\"type\":\"histogram2dcontour\",\"colorbar\":{\"outlinewidth\":0,\"ticks\":\"\"},\"colorscale\":[[0.0,\"#0d0887\"],[0.1111111111111111,\"#46039f\"],[0.2222222222222222,\"#7201a8\"],[0.3333333333333333,\"#9c179e\"],[0.4444444444444444,\"#bd3786\"],[0.5555555555555556,\"#d8576b\"],[0.6666666666666666,\"#ed7953\"],[0.7777777777777778,\"#fb9f3a\"],[0.8888888888888888,\"#fdca26\"],[1.0,\"#f0f921\"]]}],\"choropleth\":[{\"type\":\"choropleth\",\"colorbar\":{\"outlinewidth\":0,\"ticks\":\"\"}}],\"histogram2d\":[{\"type\":\"histogram2d\",\"colorbar\":{\"outlinewidth\":0,\"ticks\":\"\"},\"colorscale\":[[0.0,\"#0d0887\"],[0.1111111111111111,\"#46039f\"],[0.2222222222222222,\"#7201a8\"],[0.3333333333333333,\"#9c179e\"],[0.4444444444444444,\"#bd3786\"],[0.5555555555555556,\"#d8576b\"],[0.6666666666666666,\"#ed7953\"],[0.7777777777777778,\"#fb9f3a\"],[0.8888888888888888,\"#fdca26\"],[1.0,\"#f0f921\"]]}],\"heatmap\":[{\"type\":\"heatmap\",\"colorbar\":{\"outlinewidth\":0,\"ticks\":\"\"},\"colorscale\":[[0.0,\"#0d0887\"],[0.1111111111111111,\"#46039f\"],[0.2222222222222222,\"#7201a8\"],[0.3333333333333333,\"#9c179e\"],[0.4444444444444444,\"#bd3786\"],[0.5555555555555556,\"#d8576b\"],[0.6666666666666666,\"#ed7953\"],[0.7777777777777778,\"#fb9f3a\"],[0.8888888888888888,\"#fdca26\"],[1.0,\"#f0f921\"]]}],\"heatmapgl\":[{\"type\":\"heatmapgl\",\"colorbar\":{\"outlinewidth\":0,\"ticks\":\"\"},\"colorscale\":[[0.0,\"#0d0887\"],[0.1111111111111111,\"#46039f\"],[0.2222222222222222,\"#7201a8\"],[0.3333333333333333,\"#9c179e\"],[0.4444444444444444,\"#bd3786\"],[0.5555555555555556,\"#d8576b\"],[0.6666666666666666,\"#ed7953\"],[0.7777777777777778,\"#fb9f3a\"],[0.8888888888888888,\"#fdca26\"],[1.0,\"#f0f921\"]]}],\"contourcarpet\":[{\"type\":\"contourcarpet\",\"colorbar\":{\"outlinewidth\":0,\"ticks\":\"\"}}],\"contour\":[{\"type\":\"contour\",\"colorbar\":{\"outlinewidth\":0,\"ticks\":\"\"},\"colorscale\":[[0.0,\"#0d0887\"],[0.1111111111111111,\"#46039f\"],[0.2222222222222222,\"#7201a8\"],[0.3333333333333333,\"#9c179e\"],[0.4444444444444444,\"#bd3786\"],[0.5555555555555556,\"#d8576b\"],[0.6666666666666666,\"#ed7953\"],[0.7777777777777778,\"#fb9f3a\"],[0.8888888888888888,\"#fdca26\"],[1.0,\"#f0f921\"]]}],\"surface\":[{\"type\":\"surface\",\"colorbar\":{\"outlinewidth\":0,\"ticks\":\"\"},\"colorscale\":[[0.0,\"#0d0887\"],[0.1111111111111111,\"#46039f\"],[0.2222222222222222,\"#7201a8\"],[0.3333333333333333,\"#9c179e\"],[0.4444444444444444,\"#bd3786\"],[0.5555555555555556,\"#d8576b\"],[0.6666666666666666,\"#ed7953\"],[0.7777777777777778,\"#fb9f3a\"],[0.8888888888888888,\"#fdca26\"],[1.0,\"#f0f921\"]]}],\"mesh3d\":[{\"type\":\"mesh3d\",\"colorbar\":{\"outlinewidth\":0,\"ticks\":\"\"}}],\"scatter\":[{\"fillpattern\":{\"fillmode\":\"overlay\",\"size\":10,\"solidity\":0.2},\"type\":\"scatter\"}],\"parcoords\":[{\"type\":\"parcoords\",\"line\":{\"colorbar\":{\"outlinewidth\":0,\"ticks\":\"\"}}}],\"scatterpolargl\":[{\"type\":\"scatterpolargl\",\"marker\":{\"colorbar\":{\"outlinewidth\":0,\"ticks\":\"\"}}}],\"bar\":[{\"error_x\":{\"color\":\"#2a3f5f\"},\"error_y\":{\"color\":\"#2a3f5f\"},\"marker\":{\"line\":{\"color\":\"#E5ECF6\",\"width\":0.5},\"pattern\":{\"fillmode\":\"overlay\",\"size\":10,\"solidity\":0.2}},\"type\":\"bar\"}],\"scattergeo\":[{\"type\":\"scattergeo\",\"marker\":{\"colorbar\":{\"outlinewidth\":0,\"ticks\":\"\"}}}],\"scatterpolar\":[{\"type\":\"scatterpolar\",\"marker\":{\"colorbar\":{\"outlinewidth\":0,\"ticks\":\"\"}}}],\"histogram\":[{\"marker\":{\"pattern\":{\"fillmode\":\"overlay\",\"size\":10,\"solidity\":0.2}},\"type\":\"histogram\"}],\"scattergl\":[{\"type\":\"scattergl\",\"marker\":{\"colorbar\":{\"outlinewidth\":0,\"ticks\":\"\"}}}],\"scatter3d\":[{\"type\":\"scatter3d\",\"line\":{\"colorbar\":{\"outlinewidth\":0,\"ticks\":\"\"}},\"marker\":{\"colorbar\":{\"outlinewidth\":0,\"ticks\":\"\"}}}],\"scattermapbox\":[{\"type\":\"scattermapbox\",\"marker\":{\"colorbar\":{\"outlinewidth\":0,\"ticks\":\"\"}}}],\"scatterternary\":[{\"type\":\"scatterternary\",\"marker\":{\"colorbar\":{\"outlinewidth\":0,\"ticks\":\"\"}}}],\"scattercarpet\":[{\"type\":\"scattercarpet\",\"marker\":{\"colorbar\":{\"outlinewidth\":0,\"ticks\":\"\"}}}],\"carpet\":[{\"aaxis\":{\"endlinecolor\":\"#2a3f5f\",\"gridcolor\":\"white\",\"linecolor\":\"white\",\"minorgridcolor\":\"white\",\"startlinecolor\":\"#2a3f5f\"},\"baxis\":{\"endlinecolor\":\"#2a3f5f\",\"gridcolor\":\"white\",\"linecolor\":\"white\",\"minorgridcolor\":\"white\",\"startlinecolor\":\"#2a3f5f\"},\"type\":\"carpet\"}],\"table\":[{\"cells\":{\"fill\":{\"color\":\"#EBF0F8\"},\"line\":{\"color\":\"white\"}},\"header\":{\"fill\":{\"color\":\"#C8D4E3\"},\"line\":{\"color\":\"white\"}},\"type\":\"table\"}],\"barpolar\":[{\"marker\":{\"line\":{\"color\":\"#E5ECF6\",\"width\":0.5},\"pattern\":{\"fillmode\":\"overlay\",\"size\":10,\"solidity\":0.2}},\"type\":\"barpolar\"}],\"pie\":[{\"automargin\":true,\"type\":\"pie\"}]},\"layout\":{\"autotypenumbers\":\"strict\",\"colorway\":[\"#636efa\",\"#EF553B\",\"#00cc96\",\"#ab63fa\",\"#FFA15A\",\"#19d3f3\",\"#FF6692\",\"#B6E880\",\"#FF97FF\",\"#FECB52\"],\"font\":{\"color\":\"#2a3f5f\"},\"hovermode\":\"closest\",\"hoverlabel\":{\"align\":\"left\"},\"paper_bgcolor\":\"white\",\"plot_bgcolor\":\"#E5ECF6\",\"polar\":{\"bgcolor\":\"#E5ECF6\",\"angularaxis\":{\"gridcolor\":\"white\",\"linecolor\":\"white\",\"ticks\":\"\"},\"radialaxis\":{\"gridcolor\":\"white\",\"linecolor\":\"white\",\"ticks\":\"\"}},\"ternary\":{\"bgcolor\":\"#E5ECF6\",\"aaxis\":{\"gridcolor\":\"white\",\"linecolor\":\"white\",\"ticks\":\"\"},\"baxis\":{\"gridcolor\":\"white\",\"linecolor\":\"white\",\"ticks\":\"\"},\"caxis\":{\"gridcolor\":\"white\",\"linecolor\":\"white\",\"ticks\":\"\"}},\"coloraxis\":{\"colorbar\":{\"outlinewidth\":0,\"ticks\":\"\"}},\"colorscale\":{\"sequential\":[[0.0,\"#0d0887\"],[0.1111111111111111,\"#46039f\"],[0.2222222222222222,\"#7201a8\"],[0.3333333333333333,\"#9c179e\"],[0.4444444444444444,\"#bd3786\"],[0.5555555555555556,\"#d8576b\"],[0.6666666666666666,\"#ed7953\"],[0.7777777777777778,\"#fb9f3a\"],[0.8888888888888888,\"#fdca26\"],[1.0,\"#f0f921\"]],\"sequentialminus\":[[0.0,\"#0d0887\"],[0.1111111111111111,\"#46039f\"],[0.2222222222222222,\"#7201a8\"],[0.3333333333333333,\"#9c179e\"],[0.4444444444444444,\"#bd3786\"],[0.5555555555555556,\"#d8576b\"],[0.6666666666666666,\"#ed7953\"],[0.7777777777777778,\"#fb9f3a\"],[0.8888888888888888,\"#fdca26\"],[1.0,\"#f0f921\"]],\"diverging\":[[0,\"#8e0152\"],[0.1,\"#c51b7d\"],[0.2,\"#de77ae\"],[0.3,\"#f1b6da\"],[0.4,\"#fde0ef\"],[0.5,\"#f7f7f7\"],[0.6,\"#e6f5d0\"],[0.7,\"#b8e186\"],[0.8,\"#7fbc41\"],[0.9,\"#4d9221\"],[1,\"#276419\"]]},\"xaxis\":{\"gridcolor\":\"white\",\"linecolor\":\"white\",\"ticks\":\"\",\"title\":{\"standoff\":15},\"zerolinecolor\":\"white\",\"automargin\":true,\"zerolinewidth\":2},\"yaxis\":{\"gridcolor\":\"white\",\"linecolor\":\"white\",\"ticks\":\"\",\"title\":{\"standoff\":15},\"zerolinecolor\":\"white\",\"automargin\":true,\"zerolinewidth\":2},\"scene\":{\"xaxis\":{\"backgroundcolor\":\"#E5ECF6\",\"gridcolor\":\"white\",\"linecolor\":\"white\",\"showbackground\":true,\"ticks\":\"\",\"zerolinecolor\":\"white\",\"gridwidth\":2},\"yaxis\":{\"backgroundcolor\":\"#E5ECF6\",\"gridcolor\":\"white\",\"linecolor\":\"white\",\"showbackground\":true,\"ticks\":\"\",\"zerolinecolor\":\"white\",\"gridwidth\":2},\"zaxis\":{\"backgroundcolor\":\"#E5ECF6\",\"gridcolor\":\"white\",\"linecolor\":\"white\",\"showbackground\":true,\"ticks\":\"\",\"zerolinecolor\":\"white\",\"gridwidth\":2}},\"shapedefaults\":{\"line\":{\"color\":\"#2a3f5f\"}},\"annotationdefaults\":{\"arrowcolor\":\"#2a3f5f\",\"arrowhead\":0,\"arrowwidth\":1},\"geo\":{\"bgcolor\":\"white\",\"landcolor\":\"#E5ECF6\",\"subunitcolor\":\"white\",\"showland\":true,\"showlakes\":true,\"lakecolor\":\"white\"},\"title\":{\"x\":0.05},\"mapbox\":{\"style\":\"light\"}}},\"xaxis\":{\"anchor\":\"y\",\"domain\":[0.0,1.0],\"title\":{\"text\":\"index\"},\"tickangle\":45},\"yaxis\":{\"anchor\":\"x\",\"domain\":[0.0,1.0],\"title\":{\"text\":\"value\"}},\"legend\":{\"title\":{\"text\":\"variable\"},\"tracegroupgap\":0},\"title\":{\"text\":\"Label Distribution\"},\"barmode\":\"relative\",\"showlegend\":false},                        {\"responsive\": true}                    ).then(function(){\n",
       "                            \n",
       "var gd = document.getElementById('a952c06a-63b0-4c45-9124-44aeaef0c2d1');\n",
       "var x = new MutationObserver(function (mutations, observer) {{\n",
       "        var display = window.getComputedStyle(gd).display;\n",
       "        if (!display || display === 'none') {{\n",
       "            console.log([gd, 'removed!']);\n",
       "            Plotly.purge(gd);\n",
       "            observer.disconnect();\n",
       "        }}\n",
       "}});\n",
       "\n",
       "// Listen for the removal of the full notebook cells\n",
       "var notebookContainer = gd.closest('#notebook-container');\n",
       "if (notebookContainer) {{\n",
       "    x.observe(notebookContainer, {childList: true});\n",
       "}}\n",
       "\n",
       "// Listen for the clearing of the current output cell\n",
       "var outputEl = gd.closest('.output');\n",
       "if (outputEl) {{\n",
       "    x.observe(outputEl, {childList: true});\n",
       "}}\n",
       "\n",
       "                        })                };                });            </script>        </div>"
      ]
     },
     "metadata": {},
     "output_type": "display_data"
    },
    {
     "data": {
      "application/vnd.plotly.v1+json": {
       "config": {
        "plotlyServerURL": "https://plot.ly"
       },
       "data": [
        {
         "alignmentgroup": "True",
         "bingroup": "x",
         "hovertemplate": "variable=labels<br>value=%{x}<br>count=%{y}<extra></extra>",
         "legendgroup": "labels",
         "marker": {
          "color": "#636efa",
          "pattern": {
           "shape": ""
          }
         },
         "name": "labels",
         "nbinsx": 202,
         "offsetgroup": "labels",
         "orientation": "v",
         "showlegend": true,
         "type": "histogram",
         "x": [
          20149,
          17658,
          9725,
          6838,
          3885,
          3313,
          2658,
          2247,
          1995,
          1938,
          1883,
          1815,
          1680,
          1662,
          1660,
          1655,
          1623,
          1575,
          1517,
          1470,
          1359,
          1336,
          1296,
          1161,
          1160,
          1107,
          1096,
          1083,
          1024,
          1017,
          993,
          988,
          976,
          959,
          956,
          916,
          907,
          899,
          868,
          853,
          847,
          839,
          780,
          761,
          742,
          738,
          712,
          705,
          701,
          688,
          677,
          677,
          667,
          665,
          665,
          614,
          613,
          613,
          607,
          604,
          597,
          593,
          583,
          579,
          578,
          577,
          577,
          574,
          574,
          570,
          568,
          565,
          564,
          554,
          553,
          548,
          547,
          547,
          546,
          546,
          546,
          544,
          544,
          543,
          542,
          539,
          534,
          534,
          533,
          532,
          529,
          528,
          527,
          525,
          522,
          522,
          522,
          520,
          520,
          519,
          516,
          516,
          514,
          514,
          512,
          511,
          511,
          510,
          510,
          509,
          509,
          508,
          508,
          507,
          507,
          507,
          506,
          505,
          505,
          505,
          505,
          505,
          503,
          503,
          503,
          503,
          503,
          503,
          503,
          502,
          502,
          502,
          502,
          502,
          502,
          502,
          502,
          502,
          502,
          502,
          502,
          502,
          502,
          502,
          502,
          501,
          501,
          501,
          501,
          501,
          501,
          501,
          501,
          501,
          501,
          501,
          501,
          501,
          501,
          501,
          501,
          501,
          501,
          501,
          501,
          501,
          501,
          501,
          501,
          501,
          501,
          501,
          501,
          501,
          500,
          500,
          500,
          500,
          500,
          500,
          500,
          500,
          500,
          500,
          500,
          500,
          500,
          500,
          500,
          500,
          500,
          500,
          500,
          500,
          500,
          500,
          500,
          500,
          500,
          500,
          500,
          500,
          500,
          500,
          500,
          500,
          500,
          500,
          500,
          500,
          500,
          500,
          500,
          500,
          500,
          500,
          500,
          500,
          500,
          500,
          500,
          500,
          500,
          500,
          500,
          500,
          500,
          500,
          500,
          500,
          500,
          500,
          500,
          500,
          500,
          500,
          500,
          500,
          500,
          500,
          500,
          500,
          500,
          500,
          500,
          500,
          500,
          500,
          500,
          500,
          500,
          500,
          500,
          500,
          500,
          500,
          500,
          500,
          500,
          500,
          500,
          500,
          500,
          500,
          500,
          500,
          500,
          500,
          500,
          500,
          500,
          500,
          500,
          500,
          500,
          500,
          500,
          500,
          500,
          500,
          500,
          500,
          500,
          500,
          500,
          500,
          500,
          500,
          500,
          500,
          500,
          500,
          500,
          500,
          500,
          500,
          500,
          493,
          476,
          474,
          467,
          451,
          450,
          449,
          449,
          438,
          430,
          430,
          423,
          419,
          409,
          408,
          401,
          399,
          398,
          391,
          391,
          389,
          388,
          380,
          380,
          366,
          364,
          363,
          363,
          360,
          358,
          356,
          355,
          355,
          343,
          342,
          341,
          341,
          337,
          336,
          335,
          325,
          324,
          324,
          322,
          322,
          320,
          316,
          313,
          311,
          309,
          308,
          307,
          302,
          300,
          300,
          289,
          285,
          284,
          281,
          279,
          275,
          263,
          262,
          261,
          260,
          259,
          259,
          258,
          258,
          256,
          255,
          251,
          249,
          246,
          244,
          243,
          242,
          238,
          237,
          237,
          235,
          233,
          226,
          220,
          220,
          217,
          217,
          213,
          209,
          200,
          200,
          197,
          190,
          185,
          179,
          179,
          178,
          177,
          175,
          169,
          165,
          165,
          164,
          163,
          163,
          161,
          161,
          160,
          160,
          160,
          158,
          156,
          155,
          154,
          153,
          151,
          149,
          146,
          145,
          140,
          139,
          137,
          137,
          137,
          135,
          135,
          134,
          133,
          132,
          132,
          131,
          129,
          129,
          128,
          127,
          127,
          124,
          122,
          121,
          118,
          117,
          117,
          117,
          117,
          117,
          116,
          113,
          111,
          110,
          110,
          109,
          107,
          106,
          106,
          106,
          106,
          106,
          105,
          105,
          104,
          104,
          104,
          103,
          102,
          102,
          101,
          100,
          100,
          100,
          100,
          99,
          99,
          97,
          97,
          97,
          97,
          96,
          95,
          95,
          94,
          93,
          93,
          93,
          92,
          92,
          92,
          92,
          92,
          91,
          90,
          90,
          90,
          89,
          89,
          89,
          89,
          89,
          89,
          88,
          88,
          87,
          87,
          87,
          87,
          87,
          87,
          87,
          87,
          86,
          86,
          86,
          86,
          86,
          85,
          85,
          84,
          84,
          84,
          83,
          83,
          82,
          82,
          82,
          82,
          82,
          82,
          81,
          81,
          81,
          81
         ],
         "xaxis": "x",
         "yaxis": "y"
        }
       ],
       "layout": {
        "barmode": "relative",
        "legend": {
         "title": {
          "text": "variable"
         },
         "tracegroupgap": 0
        },
        "showlegend": false,
        "template": {
         "data": {
          "bar": [
           {
            "error_x": {
             "color": "#2a3f5f"
            },
            "error_y": {
             "color": "#2a3f5f"
            },
            "marker": {
             "line": {
              "color": "#E5ECF6",
              "width": 0.5
             },
             "pattern": {
              "fillmode": "overlay",
              "size": 10,
              "solidity": 0.2
             }
            },
            "type": "bar"
           }
          ],
          "barpolar": [
           {
            "marker": {
             "line": {
              "color": "#E5ECF6",
              "width": 0.5
             },
             "pattern": {
              "fillmode": "overlay",
              "size": 10,
              "solidity": 0.2
             }
            },
            "type": "barpolar"
           }
          ],
          "carpet": [
           {
            "aaxis": {
             "endlinecolor": "#2a3f5f",
             "gridcolor": "white",
             "linecolor": "white",
             "minorgridcolor": "white",
             "startlinecolor": "#2a3f5f"
            },
            "baxis": {
             "endlinecolor": "#2a3f5f",
             "gridcolor": "white",
             "linecolor": "white",
             "minorgridcolor": "white",
             "startlinecolor": "#2a3f5f"
            },
            "type": "carpet"
           }
          ],
          "choropleth": [
           {
            "colorbar": {
             "outlinewidth": 0,
             "ticks": ""
            },
            "type": "choropleth"
           }
          ],
          "contour": [
           {
            "colorbar": {
             "outlinewidth": 0,
             "ticks": ""
            },
            "colorscale": [
             [
              0,
              "#0d0887"
             ],
             [
              0.1111111111111111,
              "#46039f"
             ],
             [
              0.2222222222222222,
              "#7201a8"
             ],
             [
              0.3333333333333333,
              "#9c179e"
             ],
             [
              0.4444444444444444,
              "#bd3786"
             ],
             [
              0.5555555555555556,
              "#d8576b"
             ],
             [
              0.6666666666666666,
              "#ed7953"
             ],
             [
              0.7777777777777778,
              "#fb9f3a"
             ],
             [
              0.8888888888888888,
              "#fdca26"
             ],
             [
              1,
              "#f0f921"
             ]
            ],
            "type": "contour"
           }
          ],
          "contourcarpet": [
           {
            "colorbar": {
             "outlinewidth": 0,
             "ticks": ""
            },
            "type": "contourcarpet"
           }
          ],
          "heatmap": [
           {
            "colorbar": {
             "outlinewidth": 0,
             "ticks": ""
            },
            "colorscale": [
             [
              0,
              "#0d0887"
             ],
             [
              0.1111111111111111,
              "#46039f"
             ],
             [
              0.2222222222222222,
              "#7201a8"
             ],
             [
              0.3333333333333333,
              "#9c179e"
             ],
             [
              0.4444444444444444,
              "#bd3786"
             ],
             [
              0.5555555555555556,
              "#d8576b"
             ],
             [
              0.6666666666666666,
              "#ed7953"
             ],
             [
              0.7777777777777778,
              "#fb9f3a"
             ],
             [
              0.8888888888888888,
              "#fdca26"
             ],
             [
              1,
              "#f0f921"
             ]
            ],
            "type": "heatmap"
           }
          ],
          "heatmapgl": [
           {
            "colorbar": {
             "outlinewidth": 0,
             "ticks": ""
            },
            "colorscale": [
             [
              0,
              "#0d0887"
             ],
             [
              0.1111111111111111,
              "#46039f"
             ],
             [
              0.2222222222222222,
              "#7201a8"
             ],
             [
              0.3333333333333333,
              "#9c179e"
             ],
             [
              0.4444444444444444,
              "#bd3786"
             ],
             [
              0.5555555555555556,
              "#d8576b"
             ],
             [
              0.6666666666666666,
              "#ed7953"
             ],
             [
              0.7777777777777778,
              "#fb9f3a"
             ],
             [
              0.8888888888888888,
              "#fdca26"
             ],
             [
              1,
              "#f0f921"
             ]
            ],
            "type": "heatmapgl"
           }
          ],
          "histogram": [
           {
            "marker": {
             "pattern": {
              "fillmode": "overlay",
              "size": 10,
              "solidity": 0.2
             }
            },
            "type": "histogram"
           }
          ],
          "histogram2d": [
           {
            "colorbar": {
             "outlinewidth": 0,
             "ticks": ""
            },
            "colorscale": [
             [
              0,
              "#0d0887"
             ],
             [
              0.1111111111111111,
              "#46039f"
             ],
             [
              0.2222222222222222,
              "#7201a8"
             ],
             [
              0.3333333333333333,
              "#9c179e"
             ],
             [
              0.4444444444444444,
              "#bd3786"
             ],
             [
              0.5555555555555556,
              "#d8576b"
             ],
             [
              0.6666666666666666,
              "#ed7953"
             ],
             [
              0.7777777777777778,
              "#fb9f3a"
             ],
             [
              0.8888888888888888,
              "#fdca26"
             ],
             [
              1,
              "#f0f921"
             ]
            ],
            "type": "histogram2d"
           }
          ],
          "histogram2dcontour": [
           {
            "colorbar": {
             "outlinewidth": 0,
             "ticks": ""
            },
            "colorscale": [
             [
              0,
              "#0d0887"
             ],
             [
              0.1111111111111111,
              "#46039f"
             ],
             [
              0.2222222222222222,
              "#7201a8"
             ],
             [
              0.3333333333333333,
              "#9c179e"
             ],
             [
              0.4444444444444444,
              "#bd3786"
             ],
             [
              0.5555555555555556,
              "#d8576b"
             ],
             [
              0.6666666666666666,
              "#ed7953"
             ],
             [
              0.7777777777777778,
              "#fb9f3a"
             ],
             [
              0.8888888888888888,
              "#fdca26"
             ],
             [
              1,
              "#f0f921"
             ]
            ],
            "type": "histogram2dcontour"
           }
          ],
          "mesh3d": [
           {
            "colorbar": {
             "outlinewidth": 0,
             "ticks": ""
            },
            "type": "mesh3d"
           }
          ],
          "parcoords": [
           {
            "line": {
             "colorbar": {
              "outlinewidth": 0,
              "ticks": ""
             }
            },
            "type": "parcoords"
           }
          ],
          "pie": [
           {
            "automargin": true,
            "type": "pie"
           }
          ],
          "scatter": [
           {
            "fillpattern": {
             "fillmode": "overlay",
             "size": 10,
             "solidity": 0.2
            },
            "type": "scatter"
           }
          ],
          "scatter3d": [
           {
            "line": {
             "colorbar": {
              "outlinewidth": 0,
              "ticks": ""
             }
            },
            "marker": {
             "colorbar": {
              "outlinewidth": 0,
              "ticks": ""
             }
            },
            "type": "scatter3d"
           }
          ],
          "scattercarpet": [
           {
            "marker": {
             "colorbar": {
              "outlinewidth": 0,
              "ticks": ""
             }
            },
            "type": "scattercarpet"
           }
          ],
          "scattergeo": [
           {
            "marker": {
             "colorbar": {
              "outlinewidth": 0,
              "ticks": ""
             }
            },
            "type": "scattergeo"
           }
          ],
          "scattergl": [
           {
            "marker": {
             "colorbar": {
              "outlinewidth": 0,
              "ticks": ""
             }
            },
            "type": "scattergl"
           }
          ],
          "scattermapbox": [
           {
            "marker": {
             "colorbar": {
              "outlinewidth": 0,
              "ticks": ""
             }
            },
            "type": "scattermapbox"
           }
          ],
          "scatterpolar": [
           {
            "marker": {
             "colorbar": {
              "outlinewidth": 0,
              "ticks": ""
             }
            },
            "type": "scatterpolar"
           }
          ],
          "scatterpolargl": [
           {
            "marker": {
             "colorbar": {
              "outlinewidth": 0,
              "ticks": ""
             }
            },
            "type": "scatterpolargl"
           }
          ],
          "scatterternary": [
           {
            "marker": {
             "colorbar": {
              "outlinewidth": 0,
              "ticks": ""
             }
            },
            "type": "scatterternary"
           }
          ],
          "surface": [
           {
            "colorbar": {
             "outlinewidth": 0,
             "ticks": ""
            },
            "colorscale": [
             [
              0,
              "#0d0887"
             ],
             [
              0.1111111111111111,
              "#46039f"
             ],
             [
              0.2222222222222222,
              "#7201a8"
             ],
             [
              0.3333333333333333,
              "#9c179e"
             ],
             [
              0.4444444444444444,
              "#bd3786"
             ],
             [
              0.5555555555555556,
              "#d8576b"
             ],
             [
              0.6666666666666666,
              "#ed7953"
             ],
             [
              0.7777777777777778,
              "#fb9f3a"
             ],
             [
              0.8888888888888888,
              "#fdca26"
             ],
             [
              1,
              "#f0f921"
             ]
            ],
            "type": "surface"
           }
          ],
          "table": [
           {
            "cells": {
             "fill": {
              "color": "#EBF0F8"
             },
             "line": {
              "color": "white"
             }
            },
            "header": {
             "fill": {
              "color": "#C8D4E3"
             },
             "line": {
              "color": "white"
             }
            },
            "type": "table"
           }
          ]
         },
         "layout": {
          "annotationdefaults": {
           "arrowcolor": "#2a3f5f",
           "arrowhead": 0,
           "arrowwidth": 1
          },
          "autotypenumbers": "strict",
          "coloraxis": {
           "colorbar": {
            "outlinewidth": 0,
            "ticks": ""
           }
          },
          "colorscale": {
           "diverging": [
            [
             0,
             "#8e0152"
            ],
            [
             0.1,
             "#c51b7d"
            ],
            [
             0.2,
             "#de77ae"
            ],
            [
             0.3,
             "#f1b6da"
            ],
            [
             0.4,
             "#fde0ef"
            ],
            [
             0.5,
             "#f7f7f7"
            ],
            [
             0.6,
             "#e6f5d0"
            ],
            [
             0.7,
             "#b8e186"
            ],
            [
             0.8,
             "#7fbc41"
            ],
            [
             0.9,
             "#4d9221"
            ],
            [
             1,
             "#276419"
            ]
           ],
           "sequential": [
            [
             0,
             "#0d0887"
            ],
            [
             0.1111111111111111,
             "#46039f"
            ],
            [
             0.2222222222222222,
             "#7201a8"
            ],
            [
             0.3333333333333333,
             "#9c179e"
            ],
            [
             0.4444444444444444,
             "#bd3786"
            ],
            [
             0.5555555555555556,
             "#d8576b"
            ],
            [
             0.6666666666666666,
             "#ed7953"
            ],
            [
             0.7777777777777778,
             "#fb9f3a"
            ],
            [
             0.8888888888888888,
             "#fdca26"
            ],
            [
             1,
             "#f0f921"
            ]
           ],
           "sequentialminus": [
            [
             0,
             "#0d0887"
            ],
            [
             0.1111111111111111,
             "#46039f"
            ],
            [
             0.2222222222222222,
             "#7201a8"
            ],
            [
             0.3333333333333333,
             "#9c179e"
            ],
            [
             0.4444444444444444,
             "#bd3786"
            ],
            [
             0.5555555555555556,
             "#d8576b"
            ],
            [
             0.6666666666666666,
             "#ed7953"
            ],
            [
             0.7777777777777778,
             "#fb9f3a"
            ],
            [
             0.8888888888888888,
             "#fdca26"
            ],
            [
             1,
             "#f0f921"
            ]
           ]
          },
          "colorway": [
           "#636efa",
           "#EF553B",
           "#00cc96",
           "#ab63fa",
           "#FFA15A",
           "#19d3f3",
           "#FF6692",
           "#B6E880",
           "#FF97FF",
           "#FECB52"
          ],
          "font": {
           "color": "#2a3f5f"
          },
          "geo": {
           "bgcolor": "white",
           "lakecolor": "white",
           "landcolor": "#E5ECF6",
           "showlakes": true,
           "showland": true,
           "subunitcolor": "white"
          },
          "hoverlabel": {
           "align": "left"
          },
          "hovermode": "closest",
          "mapbox": {
           "style": "light"
          },
          "paper_bgcolor": "white",
          "plot_bgcolor": "#E5ECF6",
          "polar": {
           "angularaxis": {
            "gridcolor": "white",
            "linecolor": "white",
            "ticks": ""
           },
           "bgcolor": "#E5ECF6",
           "radialaxis": {
            "gridcolor": "white",
            "linecolor": "white",
            "ticks": ""
           }
          },
          "scene": {
           "xaxis": {
            "backgroundcolor": "#E5ECF6",
            "gridcolor": "white",
            "gridwidth": 2,
            "linecolor": "white",
            "showbackground": true,
            "ticks": "",
            "zerolinecolor": "white"
           },
           "yaxis": {
            "backgroundcolor": "#E5ECF6",
            "gridcolor": "white",
            "gridwidth": 2,
            "linecolor": "white",
            "showbackground": true,
            "ticks": "",
            "zerolinecolor": "white"
           },
           "zaxis": {
            "backgroundcolor": "#E5ECF6",
            "gridcolor": "white",
            "gridwidth": 2,
            "linecolor": "white",
            "showbackground": true,
            "ticks": "",
            "zerolinecolor": "white"
           }
          },
          "shapedefaults": {
           "line": {
            "color": "#2a3f5f"
           }
          },
          "ternary": {
           "aaxis": {
            "gridcolor": "white",
            "linecolor": "white",
            "ticks": ""
           },
           "baxis": {
            "gridcolor": "white",
            "linecolor": "white",
            "ticks": ""
           },
           "bgcolor": "#E5ECF6",
           "caxis": {
            "gridcolor": "white",
            "linecolor": "white",
            "ticks": ""
           }
          },
          "title": {
           "x": 0.05
          },
          "xaxis": {
           "automargin": true,
           "gridcolor": "white",
           "linecolor": "white",
           "ticks": "",
           "title": {
            "standoff": 15
           },
           "zerolinecolor": "white",
           "zerolinewidth": 2
          },
          "yaxis": {
           "automargin": true,
           "gridcolor": "white",
           "linecolor": "white",
           "ticks": "",
           "title": {
            "standoff": 15
           },
           "zerolinecolor": "white",
           "zerolinewidth": 2
          }
         }
        },
        "title": {
         "text": "Label counts histogram"
        },
        "xaxis": {
         "anchor": "y",
         "domain": [
          0,
          1
         ],
         "title": {
          "text": "value"
         }
        },
        "yaxis": {
         "anchor": "x",
         "domain": [
          0,
          1
         ],
         "title": {
          "text": "count"
         }
        }
       }
      },
      "text/html": [
       "<div>                            <div id=\"cb7fa943-245f-4d9c-baf0-c9d05ede9f81\" class=\"plotly-graph-div\" style=\"height:525px; width:100%;\"></div>            <script type=\"text/javascript\">                require([\"plotly\"], function(Plotly) {                    window.PLOTLYENV=window.PLOTLYENV || {};                                    if (document.getElementById(\"cb7fa943-245f-4d9c-baf0-c9d05ede9f81\")) {                    Plotly.newPlot(                        \"cb7fa943-245f-4d9c-baf0-c9d05ede9f81\",                        [{\"alignmentgroup\":\"True\",\"bingroup\":\"x\",\"hovertemplate\":\"variable=labels<br>value=%{x}<br>count=%{y}<extra></extra>\",\"legendgroup\":\"labels\",\"marker\":{\"color\":\"#636efa\",\"pattern\":{\"shape\":\"\"}},\"name\":\"labels\",\"nbinsx\":202,\"offsetgroup\":\"labels\",\"orientation\":\"v\",\"showlegend\":true,\"x\":[20149,17658,9725,6838,3885,3313,2658,2247,1995,1938,1883,1815,1680,1662,1660,1655,1623,1575,1517,1470,1359,1336,1296,1161,1160,1107,1096,1083,1024,1017,993,988,976,959,956,916,907,899,868,853,847,839,780,761,742,738,712,705,701,688,677,677,667,665,665,614,613,613,607,604,597,593,583,579,578,577,577,574,574,570,568,565,564,554,553,548,547,547,546,546,546,544,544,543,542,539,534,534,533,532,529,528,527,525,522,522,522,520,520,519,516,516,514,514,512,511,511,510,510,509,509,508,508,507,507,507,506,505,505,505,505,505,503,503,503,503,503,503,503,502,502,502,502,502,502,502,502,502,502,502,502,502,502,502,502,501,501,501,501,501,501,501,501,501,501,501,501,501,501,501,501,501,501,501,501,501,501,501,501,501,501,501,501,501,500,500,500,500,500,500,500,500,500,500,500,500,500,500,500,500,500,500,500,500,500,500,500,500,500,500,500,500,500,500,500,500,500,500,500,500,500,500,500,500,500,500,500,500,500,500,500,500,500,500,500,500,500,500,500,500,500,500,500,500,500,500,500,500,500,500,500,500,500,500,500,500,500,500,500,500,500,500,500,500,500,500,500,500,500,500,500,500,500,500,500,500,500,500,500,500,500,500,500,500,500,500,500,500,500,500,500,500,500,500,500,500,500,500,500,500,500,500,500,500,500,500,500,493,476,474,467,451,450,449,449,438,430,430,423,419,409,408,401,399,398,391,391,389,388,380,380,366,364,363,363,360,358,356,355,355,343,342,341,341,337,336,335,325,324,324,322,322,320,316,313,311,309,308,307,302,300,300,289,285,284,281,279,275,263,262,261,260,259,259,258,258,256,255,251,249,246,244,243,242,238,237,237,235,233,226,220,220,217,217,213,209,200,200,197,190,185,179,179,178,177,175,169,165,165,164,163,163,161,161,160,160,160,158,156,155,154,153,151,149,146,145,140,139,137,137,137,135,135,134,133,132,132,131,129,129,128,127,127,124,122,121,118,117,117,117,117,117,116,113,111,110,110,109,107,106,106,106,106,106,105,105,104,104,104,103,102,102,101,100,100,100,100,99,99,97,97,97,97,96,95,95,94,93,93,93,92,92,92,92,92,91,90,90,90,89,89,89,89,89,89,88,88,87,87,87,87,87,87,87,87,86,86,86,86,86,85,85,84,84,84,83,83,82,82,82,82,82,82,81,81,81,81],\"xaxis\":\"x\",\"yaxis\":\"y\",\"type\":\"histogram\"}],                        {\"template\":{\"data\":{\"histogram2dcontour\":[{\"type\":\"histogram2dcontour\",\"colorbar\":{\"outlinewidth\":0,\"ticks\":\"\"},\"colorscale\":[[0.0,\"#0d0887\"],[0.1111111111111111,\"#46039f\"],[0.2222222222222222,\"#7201a8\"],[0.3333333333333333,\"#9c179e\"],[0.4444444444444444,\"#bd3786\"],[0.5555555555555556,\"#d8576b\"],[0.6666666666666666,\"#ed7953\"],[0.7777777777777778,\"#fb9f3a\"],[0.8888888888888888,\"#fdca26\"],[1.0,\"#f0f921\"]]}],\"choropleth\":[{\"type\":\"choropleth\",\"colorbar\":{\"outlinewidth\":0,\"ticks\":\"\"}}],\"histogram2d\":[{\"type\":\"histogram2d\",\"colorbar\":{\"outlinewidth\":0,\"ticks\":\"\"},\"colorscale\":[[0.0,\"#0d0887\"],[0.1111111111111111,\"#46039f\"],[0.2222222222222222,\"#7201a8\"],[0.3333333333333333,\"#9c179e\"],[0.4444444444444444,\"#bd3786\"],[0.5555555555555556,\"#d8576b\"],[0.6666666666666666,\"#ed7953\"],[0.7777777777777778,\"#fb9f3a\"],[0.8888888888888888,\"#fdca26\"],[1.0,\"#f0f921\"]]}],\"heatmap\":[{\"type\":\"heatmap\",\"colorbar\":{\"outlinewidth\":0,\"ticks\":\"\"},\"colorscale\":[[0.0,\"#0d0887\"],[0.1111111111111111,\"#46039f\"],[0.2222222222222222,\"#7201a8\"],[0.3333333333333333,\"#9c179e\"],[0.4444444444444444,\"#bd3786\"],[0.5555555555555556,\"#d8576b\"],[0.6666666666666666,\"#ed7953\"],[0.7777777777777778,\"#fb9f3a\"],[0.8888888888888888,\"#fdca26\"],[1.0,\"#f0f921\"]]}],\"heatmapgl\":[{\"type\":\"heatmapgl\",\"colorbar\":{\"outlinewidth\":0,\"ticks\":\"\"},\"colorscale\":[[0.0,\"#0d0887\"],[0.1111111111111111,\"#46039f\"],[0.2222222222222222,\"#7201a8\"],[0.3333333333333333,\"#9c179e\"],[0.4444444444444444,\"#bd3786\"],[0.5555555555555556,\"#d8576b\"],[0.6666666666666666,\"#ed7953\"],[0.7777777777777778,\"#fb9f3a\"],[0.8888888888888888,\"#fdca26\"],[1.0,\"#f0f921\"]]}],\"contourcarpet\":[{\"type\":\"contourcarpet\",\"colorbar\":{\"outlinewidth\":0,\"ticks\":\"\"}}],\"contour\":[{\"type\":\"contour\",\"colorbar\":{\"outlinewidth\":0,\"ticks\":\"\"},\"colorscale\":[[0.0,\"#0d0887\"],[0.1111111111111111,\"#46039f\"],[0.2222222222222222,\"#7201a8\"],[0.3333333333333333,\"#9c179e\"],[0.4444444444444444,\"#bd3786\"],[0.5555555555555556,\"#d8576b\"],[0.6666666666666666,\"#ed7953\"],[0.7777777777777778,\"#fb9f3a\"],[0.8888888888888888,\"#fdca26\"],[1.0,\"#f0f921\"]]}],\"surface\":[{\"type\":\"surface\",\"colorbar\":{\"outlinewidth\":0,\"ticks\":\"\"},\"colorscale\":[[0.0,\"#0d0887\"],[0.1111111111111111,\"#46039f\"],[0.2222222222222222,\"#7201a8\"],[0.3333333333333333,\"#9c179e\"],[0.4444444444444444,\"#bd3786\"],[0.5555555555555556,\"#d8576b\"],[0.6666666666666666,\"#ed7953\"],[0.7777777777777778,\"#fb9f3a\"],[0.8888888888888888,\"#fdca26\"],[1.0,\"#f0f921\"]]}],\"mesh3d\":[{\"type\":\"mesh3d\",\"colorbar\":{\"outlinewidth\":0,\"ticks\":\"\"}}],\"scatter\":[{\"fillpattern\":{\"fillmode\":\"overlay\",\"size\":10,\"solidity\":0.2},\"type\":\"scatter\"}],\"parcoords\":[{\"type\":\"parcoords\",\"line\":{\"colorbar\":{\"outlinewidth\":0,\"ticks\":\"\"}}}],\"scatterpolargl\":[{\"type\":\"scatterpolargl\",\"marker\":{\"colorbar\":{\"outlinewidth\":0,\"ticks\":\"\"}}}],\"bar\":[{\"error_x\":{\"color\":\"#2a3f5f\"},\"error_y\":{\"color\":\"#2a3f5f\"},\"marker\":{\"line\":{\"color\":\"#E5ECF6\",\"width\":0.5},\"pattern\":{\"fillmode\":\"overlay\",\"size\":10,\"solidity\":0.2}},\"type\":\"bar\"}],\"scattergeo\":[{\"type\":\"scattergeo\",\"marker\":{\"colorbar\":{\"outlinewidth\":0,\"ticks\":\"\"}}}],\"scatterpolar\":[{\"type\":\"scatterpolar\",\"marker\":{\"colorbar\":{\"outlinewidth\":0,\"ticks\":\"\"}}}],\"histogram\":[{\"marker\":{\"pattern\":{\"fillmode\":\"overlay\",\"size\":10,\"solidity\":0.2}},\"type\":\"histogram\"}],\"scattergl\":[{\"type\":\"scattergl\",\"marker\":{\"colorbar\":{\"outlinewidth\":0,\"ticks\":\"\"}}}],\"scatter3d\":[{\"type\":\"scatter3d\",\"line\":{\"colorbar\":{\"outlinewidth\":0,\"ticks\":\"\"}},\"marker\":{\"colorbar\":{\"outlinewidth\":0,\"ticks\":\"\"}}}],\"scattermapbox\":[{\"type\":\"scattermapbox\",\"marker\":{\"colorbar\":{\"outlinewidth\":0,\"ticks\":\"\"}}}],\"scatterternary\":[{\"type\":\"scatterternary\",\"marker\":{\"colorbar\":{\"outlinewidth\":0,\"ticks\":\"\"}}}],\"scattercarpet\":[{\"type\":\"scattercarpet\",\"marker\":{\"colorbar\":{\"outlinewidth\":0,\"ticks\":\"\"}}}],\"carpet\":[{\"aaxis\":{\"endlinecolor\":\"#2a3f5f\",\"gridcolor\":\"white\",\"linecolor\":\"white\",\"minorgridcolor\":\"white\",\"startlinecolor\":\"#2a3f5f\"},\"baxis\":{\"endlinecolor\":\"#2a3f5f\",\"gridcolor\":\"white\",\"linecolor\":\"white\",\"minorgridcolor\":\"white\",\"startlinecolor\":\"#2a3f5f\"},\"type\":\"carpet\"}],\"table\":[{\"cells\":{\"fill\":{\"color\":\"#EBF0F8\"},\"line\":{\"color\":\"white\"}},\"header\":{\"fill\":{\"color\":\"#C8D4E3\"},\"line\":{\"color\":\"white\"}},\"type\":\"table\"}],\"barpolar\":[{\"marker\":{\"line\":{\"color\":\"#E5ECF6\",\"width\":0.5},\"pattern\":{\"fillmode\":\"overlay\",\"size\":10,\"solidity\":0.2}},\"type\":\"barpolar\"}],\"pie\":[{\"automargin\":true,\"type\":\"pie\"}]},\"layout\":{\"autotypenumbers\":\"strict\",\"colorway\":[\"#636efa\",\"#EF553B\",\"#00cc96\",\"#ab63fa\",\"#FFA15A\",\"#19d3f3\",\"#FF6692\",\"#B6E880\",\"#FF97FF\",\"#FECB52\"],\"font\":{\"color\":\"#2a3f5f\"},\"hovermode\":\"closest\",\"hoverlabel\":{\"align\":\"left\"},\"paper_bgcolor\":\"white\",\"plot_bgcolor\":\"#E5ECF6\",\"polar\":{\"bgcolor\":\"#E5ECF6\",\"angularaxis\":{\"gridcolor\":\"white\",\"linecolor\":\"white\",\"ticks\":\"\"},\"radialaxis\":{\"gridcolor\":\"white\",\"linecolor\":\"white\",\"ticks\":\"\"}},\"ternary\":{\"bgcolor\":\"#E5ECF6\",\"aaxis\":{\"gridcolor\":\"white\",\"linecolor\":\"white\",\"ticks\":\"\"},\"baxis\":{\"gridcolor\":\"white\",\"linecolor\":\"white\",\"ticks\":\"\"},\"caxis\":{\"gridcolor\":\"white\",\"linecolor\":\"white\",\"ticks\":\"\"}},\"coloraxis\":{\"colorbar\":{\"outlinewidth\":0,\"ticks\":\"\"}},\"colorscale\":{\"sequential\":[[0.0,\"#0d0887\"],[0.1111111111111111,\"#46039f\"],[0.2222222222222222,\"#7201a8\"],[0.3333333333333333,\"#9c179e\"],[0.4444444444444444,\"#bd3786\"],[0.5555555555555556,\"#d8576b\"],[0.6666666666666666,\"#ed7953\"],[0.7777777777777778,\"#fb9f3a\"],[0.8888888888888888,\"#fdca26\"],[1.0,\"#f0f921\"]],\"sequentialminus\":[[0.0,\"#0d0887\"],[0.1111111111111111,\"#46039f\"],[0.2222222222222222,\"#7201a8\"],[0.3333333333333333,\"#9c179e\"],[0.4444444444444444,\"#bd3786\"],[0.5555555555555556,\"#d8576b\"],[0.6666666666666666,\"#ed7953\"],[0.7777777777777778,\"#fb9f3a\"],[0.8888888888888888,\"#fdca26\"],[1.0,\"#f0f921\"]],\"diverging\":[[0,\"#8e0152\"],[0.1,\"#c51b7d\"],[0.2,\"#de77ae\"],[0.3,\"#f1b6da\"],[0.4,\"#fde0ef\"],[0.5,\"#f7f7f7\"],[0.6,\"#e6f5d0\"],[0.7,\"#b8e186\"],[0.8,\"#7fbc41\"],[0.9,\"#4d9221\"],[1,\"#276419\"]]},\"xaxis\":{\"gridcolor\":\"white\",\"linecolor\":\"white\",\"ticks\":\"\",\"title\":{\"standoff\":15},\"zerolinecolor\":\"white\",\"automargin\":true,\"zerolinewidth\":2},\"yaxis\":{\"gridcolor\":\"white\",\"linecolor\":\"white\",\"ticks\":\"\",\"title\":{\"standoff\":15},\"zerolinecolor\":\"white\",\"automargin\":true,\"zerolinewidth\":2},\"scene\":{\"xaxis\":{\"backgroundcolor\":\"#E5ECF6\",\"gridcolor\":\"white\",\"linecolor\":\"white\",\"showbackground\":true,\"ticks\":\"\",\"zerolinecolor\":\"white\",\"gridwidth\":2},\"yaxis\":{\"backgroundcolor\":\"#E5ECF6\",\"gridcolor\":\"white\",\"linecolor\":\"white\",\"showbackground\":true,\"ticks\":\"\",\"zerolinecolor\":\"white\",\"gridwidth\":2},\"zaxis\":{\"backgroundcolor\":\"#E5ECF6\",\"gridcolor\":\"white\",\"linecolor\":\"white\",\"showbackground\":true,\"ticks\":\"\",\"zerolinecolor\":\"white\",\"gridwidth\":2}},\"shapedefaults\":{\"line\":{\"color\":\"#2a3f5f\"}},\"annotationdefaults\":{\"arrowcolor\":\"#2a3f5f\",\"arrowhead\":0,\"arrowwidth\":1},\"geo\":{\"bgcolor\":\"white\",\"landcolor\":\"#E5ECF6\",\"subunitcolor\":\"white\",\"showland\":true,\"showlakes\":true,\"lakecolor\":\"white\"},\"title\":{\"x\":0.05},\"mapbox\":{\"style\":\"light\"}}},\"xaxis\":{\"anchor\":\"y\",\"domain\":[0.0,1.0],\"title\":{\"text\":\"value\"}},\"yaxis\":{\"anchor\":\"x\",\"domain\":[0.0,1.0],\"title\":{\"text\":\"count\"}},\"legend\":{\"title\":{\"text\":\"variable\"},\"tracegroupgap\":0},\"title\":{\"text\":\"Label counts histogram\"},\"barmode\":\"relative\",\"showlegend\":false},                        {\"responsive\": true}                    ).then(function(){\n",
       "                            \n",
       "var gd = document.getElementById('cb7fa943-245f-4d9c-baf0-c9d05ede9f81');\n",
       "var x = new MutationObserver(function (mutations, observer) {{\n",
       "        var display = window.getComputedStyle(gd).display;\n",
       "        if (!display || display === 'none') {{\n",
       "            console.log([gd, 'removed!']);\n",
       "            Plotly.purge(gd);\n",
       "            observer.disconnect();\n",
       "        }}\n",
       "}});\n",
       "\n",
       "// Listen for the removal of the full notebook cells\n",
       "var notebookContainer = gd.closest('#notebook-container');\n",
       "if (notebookContainer) {{\n",
       "    x.observe(notebookContainer, {childList: true});\n",
       "}}\n",
       "\n",
       "// Listen for the clearing of the current output cell\n",
       "var outputEl = gd.closest('.output');\n",
       "if (outputEl) {{\n",
       "    x.observe(outputEl, {childList: true});\n",
       "}}\n",
       "\n",
       "                        })                };                });            </script>        </div>"
      ]
     },
     "metadata": {},
     "output_type": "display_data"
    }
   ],
   "source": [
    "print_subset_info(df, subset, ontology)"
   ]
  },
  {
   "cell_type": "code",
   "execution_count": 50,
   "metadata": {},
   "outputs": [
    {
     "data": {
      "text/plain": [
       "0.0108"
      ]
     },
     "execution_count": 50,
     "metadata": {},
     "output_type": "execute_result"
    }
   ],
   "source": [
    "value_counts = subset[\"labels\"].explode().value_counts()\n",
    "# Check how many examples consist only of labels that are represented a lot\n",
    "subset[\"labels\"].sample(10000, random_state=0).apply(lambda labels: all(value_counts[label] > 700 for label in labels)).mean()"
   ]
  },
  {
   "cell_type": "code",
   "execution_count": 51,
   "metadata": {},
   "outputs": [],
   "source": [
    "labels_str_sample = (\n",
    "    subset[\"labels\"]\n",
    "    .sample(20000, random_state=0)\n",
    "    .apply(ontology.audioset_label_ids_to_str, include_parents=True)\n",
    ")"
   ]
  },
  {
   "cell_type": "code",
   "execution_count": 52,
   "metadata": {},
   "outputs": [
    {
     "data": {
      "text/plain": [
       "0.16805"
      ]
     },
     "execution_count": 52,
     "metadata": {},
     "output_type": "execute_result"
    }
   ],
   "source": [
    "labels_str_sample.str.contains(\"speech\").mean()"
   ]
  },
  {
   "cell_type": "code",
   "execution_count": 53,
   "metadata": {},
   "outputs": [
    {
     "data": {
      "text/plain": [
       "0.1865"
      ]
     },
     "execution_count": 53,
     "metadata": {},
     "output_type": "execute_result"
    }
   ],
   "source": [
    "labels_str_sample.str.contains(\"music\").mean()"
   ]
  },
  {
   "cell_type": "code",
   "execution_count": 54,
   "metadata": {},
   "outputs": [
    {
     "name": "stderr",
     "output_type": "stream",
     "text": [
      "/tmp/ipykernel_1177523/28047695.py:1: UserWarning:\n",
      "\n",
      "This pattern is interpreted as a regular expression, and has match groups. To actually get the groups, use str.extract.\n",
      "\n"
     ]
    },
    {
     "data": {
      "text/plain": [
       "0.3368"
      ]
     },
     "execution_count": 54,
     "metadata": {},
     "output_type": "execute_result"
    }
   ],
   "source": [
    "labels_str_sample.str.contains(r\"(music)|(speech)\", regex=True).mean()"
   ]
  },
  {
   "cell_type": "code",
   "execution_count": 70,
   "metadata": {},
   "outputs": [],
   "source": [
    "train_subset, test_subset = audiocap.audioset_tools.balanced_split(subset, minimum_test_examples_per_class=5, seed=9)\n",
    "train_subset, valid_subset = audiocap.audioset_tools.balanced_split(train_subset, minimum_test_examples_per_class=5, seed=5)"
   ]
  },
  {
   "cell_type": "code",
   "execution_count": 56,
   "metadata": {},
   "outputs": [],
   "source": [
    "assert train_subset[\"youtube_id\"].is_unique\n",
    "assert valid_subset[\"youtube_id\"].is_unique\n",
    "assert test_subset[\"youtube_id\"].is_unique\n",
    "\n",
    "assert len(train_subset) + len(valid_subset) + len(test_subset) == len(subset)\n",
    "assert train_subset[\"youtube_id\"].isin(valid_subset[\"youtube_id\"]).sum() == 0\n",
    "assert train_subset[\"youtube_id\"].isin(test_subset[\"youtube_id\"]).sum() == 0\n",
    "assert valid_subset[\"youtube_id\"].isin(test_subset[\"youtube_id\"]).sum() == 0\n"
   ]
  },
  {
   "cell_type": "code",
   "execution_count": 71,
   "metadata": {},
   "outputs": [
    {
     "data": {
      "text/plain": [
       "(128811, 2604, 2610)"
      ]
     },
     "execution_count": 71,
     "metadata": {},
     "output_type": "execute_result"
    }
   ],
   "source": [
    "len(train_subset), len(valid_subset), len(test_subset)"
   ]
  },
  {
   "cell_type": "code",
   "execution_count": 73,
   "metadata": {},
   "outputs": [
    {
     "name": "stdout",
     "output_type": "stream",
     "text": [
      "Number of covered labels: 527 / total 527\n",
      "Entropy: 5.7161. Max entropy: 6.2672\n",
      "Number of examples: 2610\n"
     ]
    },
    {
     "data": {
      "application/vnd.plotly.v1+json": {
       "config": {
        "plotlyServerURL": "https://plot.ly"
       },
       "data": [
        {
         "alignmentgroup": "True",
         "hovertemplate": "variable=labels<br>index=%{x}<br>value=%{y}<extra></extra>",
         "legendgroup": "labels",
         "marker": {
          "color": "#636efa",
          "pattern": {
           "shape": ""
          }
         },
         "name": "labels",
         "offsetgroup": "labels",
         "orientation": "v",
         "showlegend": true,
         "textposition": "auto",
         "type": "bar",
         "x": [
          "Music",
          "Speech",
          "Vehicle",
          "Animal",
          "Musical instrument",
          "Singing",
          "Domestic animals, pets",
          "Guitar",
          "Inside, small room",
          "Plucked string instrument",
          "Car",
          "Drum",
          "Dog",
          "Percussion",
          "Bird",
          "Train",
          "Wind",
          "Fowl",
          "Wind noise (microphone)",
          "Rail transport",
          "Engine",
          "Drum kit",
          "Railroad car, train wagon",
          "Outside, rural or natural",
          "Snare drum",
          "Crowd",
          "Bass drum",
          "Boat, Water vehicle",
          "Brass instrument",
          "Water",
          "Song",
          "Rimshot",
          "Siren",
          "Livestock, farm animals, working animals",
          "Bowed string instrument",
          "Insect",
          "Outside, urban or manmade",
          "Bird vocalization, bird call, bird song",
          "Mechanisms",
          "Wood",
          "Rain",
          "Emergency vehicle",
          "Child speech, kid speaking",
          "Drum roll",
          "Keyboard (musical)",
          "Soundtrack music",
          "Rock music",
          "Wind instrument, woodwind instrument",
          "Motor vehicle (road)",
          "Rub",
          "Aircraft",
          "Happy music",
          "Piano",
          "Chicken, rooster",
          "Cat",
          "Tools",
          "Truck",
          "Cymbal",
          "Cello",
          "Rain on surface",
          "Ocean",
          "Organ",
          "Rapping",
          "Ratchet, pawl",
          "Inside, large room or hall",
          "Accelerating, revving, vroom",
          "Electronic music",
          "Effects unit",
          "Wedding music",
          "Chirp, tweet",
          "Trombone",
          "Choir",
          "Bark",
          "Distortion",
          "Gears",
          "Sawing",
          "Reverberation",
          "Gunshot, gunfire",
          "Hiss",
          "Fixed-wing aircraft, airplane",
          "Classical music",
          "Waves, surf",
          "Idling",
          "Fly, housefly",
          "Cheering",
          "Train wheels squealing",
          "Water tap, faucet",
          "Steam",
          "Electronic tuner",
          "Raindrop",
          "Horse",
          "Vocal music",
          "Cluck",
          "Howl",
          "Electric guitar",
          "Electric piano",
          "Trumpet",
          "Exciting music",
          "Power tool",
          "Thunder",
          "Hi-hat",
          "Dance music",
          "Hum",
          "Train horn",
          "Double bass",
          "Ambulance (siren)",
          "Medium engine (mid frequency)",
          "Bow-wow",
          "Yell",
          "Roaring cats (lions, tigers)",
          "Sailboat, sailing ship",
          "Jingle (music)",
          "House music",
          "Pop music",
          "Harmonic",
          "Yodeling",
          "Crowing, cock-a-doodle-doo",
          "Marimba, xylophone",
          "Christmas music",
          "Christian music",
          "Steam whistle",
          "Sad music",
          "Police car (siren)",
          "Motorcycle",
          "Music of Latin America",
          "Chime",
          "Heart sounds, heartbeat",
          "Pizzicato",
          "Glockenspiel",
          "Dishes, pots, and pans",
          "Echo",
          "Roll",
          "Vehicle horn, car horn, honking",
          "Ringtone",
          "Violin, fiddle",
          "Canidae, dogs, wolves",
          "Gobble",
          "Sizzle",
          "Orchestra",
          "Children shouting",
          "Vibration",
          "Cattle, bovinae",
          "Heart murmur",
          "Blues",
          "Clip-clop",
          "Male singing",
          "Liquid",
          "Honk",
          "Coo",
          "Growling",
          "Clickety-clack",
          "Ding",
          "Rhythm and blues",
          "Whimper (dog)",
          "Bleat",
          "Mallet percussion",
          "Acoustic guitar",
          "Meow",
          "Engine starting",
          "Goose",
          "Scratch",
          "Crow",
          "Pigeon, dove",
          "Frog",
          "Angry music",
          "Splash, splatter",
          "Jazz",
          "Telephone",
          "Thunderstorm",
          "Gospel music",
          "Bee, wasp, etc.",
          "Moo",
          "Turkey",
          "Rock and roll",
          "Heavy engine (low frequency)",
          "Traffic noise, roadway noise",
          "Electronic organ",
          "Bluegrass",
          "Duck",
          "Tick-tock",
          "Computer keyboard",
          "Typing",
          "Yip",
          "Explosion",
          "Train whistle",
          "Theme music",
          "French horn",
          "A capella",
          "Traditional music",
          "Wild animals",
          "Race car, auto racing",
          "Toot",
          "Synthetic singing",
          "Tire squeal",
          "Car alarm",
          "Waterfall",
          "Owl",
          "Door",
          "Bathtub (filling or washing)",
          "Frying (food)",
          "Funny music",
          "Mandolin",
          "Laughter",
          "Cutlery, silverware",
          "Fire",
          "Goat",
          "Croak",
          "Wind chime",
          "Lawn mower",
          "Sheep",
          "Sink (filling or washing)",
          "Ship",
          "Punk rock",
          "Stir",
          "Bass guitar",
          "Silence",
          "Screaming",
          "Clang",
          "Hammond organ",
          "Tabla",
          "Drum machine",
          "Country",
          "Dubstep",
          "Motorboat, speedboat",
          "Whoop",
          "Zing",
          "Sound effect",
          "Eruption",
          "Cricket",
          "Skateboard",
          "Radio",
          "Patter",
          "Babbling",
          "Shout",
          "Caw",
          "Neigh, whinny",
          "Aircraft engine",
          "Humming",
          "Roar",
          "Heavy metal",
          "Cap gun",
          "Jet engine",
          "Crackle",
          "Caterwaul",
          "Independent music",
          "Quack",
          "Drum and bass",
          "Snicker",
          "Scary music",
          "Propeller, airscrew",
          "Hip hop music",
          "Crying, sobbing",
          "Clapping",
          "Harp",
          "Video game music",
          "Tender music",
          "Pulse",
          "Throbbing",
          "Music for children",
          "Jingle, tinkle",
          "Techno",
          "Chant",
          "Inside, public space",
          "Harpsichord",
          "Chuckle, chortle",
          "Alarm",
          "Toilet flush",
          "Harmonica",
          "Electronica",
          "Music of Asia",
          "Sonar",
          "Glass",
          "Purr",
          "Opera",
          "Fire engine, fire truck (siren)",
          "Grunge",
          "Fireworks",
          "Subway, metro, underground",
          "Telephone dialing, DTMF",
          "Cowbell",
          "Burst, pop",
          "Doorbell",
          "Air horn, truck horn",
          "Banjo",
          "Church bell",
          "Skidding",
          "Bellow",
          "Thunk",
          "Static",
          "Helicopter",
          "New-age music",
          "Mosquito",
          "Synthesizer",
          "Sampler",
          "White noise",
          "Beatboxing",
          "Zither",
          "Sine wave",
          "Afrobeat",
          "Air brake",
          "Music of Africa",
          "Sliding door",
          "Tick",
          "Saxophone",
          "Cough",
          "Electronic dance music",
          "Chorus effect",
          "Clarinet",
          "Breathing",
          "Middle Eastern music",
          "Boing",
          "Bang",
          "Boiling",
          "Background music",
          "Chop",
          "Giggle",
          "Whack, thwack",
          "Belly laugh",
          "Drill",
          "Foghorn",
          "Tubular bells",
          "Rattle",
          "Pulleys",
          "Flamenco",
          "Pink noise",
          "Trickle, dribble",
          "Steel guitar, slide guitar",
          "Conversation",
          "Hubbub, speech noise, speech babble",
          "Battle cry",
          "Snort",
          "Artillery fire",
          "Shofar",
          "Disco",
          "Hiccup",
          "Female singing",
          "Child singing",
          "Chink, clink",
          "Pig",
          "Chirp tone",
          "Fusillade",
          "String section",
          "Noise",
          "Tearing",
          "Buzz",
          "Pant",
          "Cacophony",
          "Baby cry, infant cry",
          "Environmental noise",
          "Firecracker",
          "Strum",
          "Engine knocking",
          "Bell",
          "Hoot",
          "Reggae",
          "Soul music",
          "Boom",
          "Alarm clock",
          "Whoosh, swoosh, swish",
          "Gasp",
          "Rodents, rats, mice",
          "Fill (with liquid)",
          "Vibraphone",
          "Buzzer",
          "Knock",
          "Thump, thud",
          "Slosh",
          "Fire alarm",
          "Bus",
          "Slap, smack",
          "Run",
          "Male speech, man speaking",
          "Ding-dong",
          "Psychedelic rock",
          "Telephone bell ringing",
          "Whistle",
          "Rowboat, canoe, kayak",
          "Funk",
          "Bird flight, flapping wings",
          "Whir",
          "Rumble",
          "Field recording",
          "Clock",
          "Filing (rasp)",
          "Rustling leaves",
          "Squeal",
          "Female speech, woman speaking",
          "Wheeze",
          "Flap",
          "Electric toothbrush",
          "Rattle (instrument)",
          "Slam",
          "Scissors",
          "Whimper",
          "Shuffle",
          "Swing music",
          "Drip",
          "Chewing, mastication",
          "Reversing beeps",
          "Hands",
          "Writing",
          "Crack",
          "Mouse",
          "Bicycle bell",
          "Scratching (performance technique)",
          "Carnatic music",
          "Flute",
          "Ukulele",
          "Basketball bounce",
          "Typewriter",
          "Lullaby",
          "Tapping (guitar technique)",
          "Sidetone",
          "Snake",
          "Beep, bleep",
          "Ska",
          "Baby laughter",
          "Sigh",
          "Bagpipes",
          "Civil defense siren",
          "Wail, moan",
          "Shuffling cards",
          "Singing bowl",
          "Plop",
          "Dial tone",
          "Bicycle",
          "Breaking",
          "Hammer",
          "Single-lens reflex camera",
          "Clatter",
          "Applause",
          "Splinter",
          "Smash, crash",
          "Progressive rock",
          "Folk music",
          "Crumpling, crinkling",
          "Stomach rumble",
          "Scrape",
          "Mains hum",
          "Tambourine",
          "Bouncing",
          "Smoke detector, smoke alarm",
          "Music of Bollywood",
          "Groan",
          "Oink",
          "Wood block",
          "Crunch",
          "Gush",
          "Cupboard open or close",
          "Crushing",
          "Sneeze",
          "Gargling",
          "Sewing machine",
          "Shatter",
          "Timpani",
          "Toothbrush",
          "Ping",
          "Keys jangling",
          "Finger snapping",
          "Trance music",
          "Jackhammer",
          "Chopping (food)",
          "Pour",
          "Machine gun",
          "Sanding",
          "Speech synthesizer",
          "Vacuum cleaner",
          "Grunt",
          "Clicking",
          "Squish",
          "Children playing",
          "Biting",
          "Jingle bell",
          "Stream",
          "Power windows, electric windows",
          "Dental drill, dentist's drill",
          "Gurgling",
          "Tuning fork",
          "Rustle",
          "Car passing by",
          "Pump (liquid)",
          "Drawer open or close",
          "Chainsaw",
          "Camera",
          "Change ringing (campanology)",
          "Burping, eructation",
          "Steelpan",
          "Accordion",
          "Mechanical fan",
          "Blender",
          "Printer",
          "Whip",
          "Television",
          "Narration, monologue",
          "Walk, footsteps",
          "Snoring",
          "Whale vocalization",
          "Spray",
          "Theremin",
          "Busy signal",
          "Zipper (clothing)",
          "Ambient music",
          "Air conditioning",
          "Fart",
          "Arrow",
          "Chatter",
          "Creak",
          "Microwave oven",
          "Ice cream truck, ice cream van",
          "Didgeridoo",
          "Electric shaver, electric razor",
          "Hair dryer",
          "Coin (dropping)",
          "Whistling",
          "Mantra",
          "Gong",
          "Sniff",
          "Maraca",
          "Tap",
          "Cash register",
          "Light engine (high frequency)",
          "Squeak",
          "Throat clearing",
          "Whispering",
          "Salsa music",
          "Sitar",
          "Squawk"
         ],
         "xaxis": "x",
         "y": [
          446,
          344,
          172,
          127,
          99,
          75,
          69,
          63,
          58,
          55,
          50,
          50,
          48,
          44,
          41,
          41,
          40,
          40,
          39,
          37,
          36,
          35,
          35,
          32,
          31,
          30,
          30,
          29,
          28,
          28,
          28,
          27,
          27,
          25,
          25,
          25,
          25,
          25,
          24,
          24,
          24,
          23,
          23,
          23,
          23,
          22,
          21,
          21,
          21,
          20,
          20,
          20,
          20,
          20,
          20,
          19,
          19,
          19,
          19,
          18,
          18,
          18,
          18,
          18,
          18,
          18,
          18,
          18,
          17,
          17,
          17,
          17,
          17,
          17,
          17,
          17,
          17,
          17,
          16,
          16,
          16,
          16,
          16,
          16,
          15,
          15,
          15,
          15,
          15,
          15,
          15,
          15,
          15,
          15,
          15,
          14,
          14,
          14,
          14,
          14,
          14,
          14,
          14,
          14,
          14,
          14,
          14,
          14,
          13,
          13,
          13,
          13,
          13,
          13,
          13,
          13,
          13,
          13,
          13,
          13,
          13,
          13,
          13,
          13,
          12,
          12,
          12,
          12,
          12,
          12,
          12,
          12,
          12,
          12,
          12,
          12,
          12,
          12,
          12,
          12,
          12,
          12,
          12,
          12,
          12,
          12,
          12,
          12,
          12,
          12,
          12,
          12,
          12,
          12,
          11,
          11,
          11,
          11,
          11,
          11,
          11,
          11,
          11,
          11,
          11,
          11,
          11,
          11,
          11,
          11,
          11,
          11,
          11,
          11,
          11,
          11,
          11,
          10,
          10,
          10,
          10,
          10,
          10,
          10,
          10,
          10,
          10,
          10,
          10,
          10,
          10,
          10,
          10,
          10,
          10,
          10,
          10,
          10,
          10,
          10,
          10,
          10,
          10,
          10,
          10,
          10,
          10,
          10,
          10,
          10,
          10,
          10,
          10,
          10,
          10,
          9,
          9,
          9,
          9,
          9,
          9,
          9,
          9,
          9,
          9,
          9,
          9,
          9,
          9,
          9,
          9,
          9,
          9,
          9,
          9,
          9,
          9,
          9,
          9,
          9,
          9,
          9,
          9,
          9,
          9,
          9,
          9,
          9,
          9,
          9,
          9,
          9,
          9,
          8,
          8,
          8,
          8,
          8,
          8,
          8,
          8,
          8,
          8,
          8,
          8,
          8,
          8,
          8,
          8,
          8,
          8,
          8,
          8,
          8,
          8,
          8,
          8,
          8,
          8,
          8,
          8,
          8,
          8,
          8,
          8,
          8,
          8,
          8,
          8,
          8,
          8,
          8,
          8,
          8,
          8,
          8,
          8,
          8,
          8,
          8,
          8,
          8,
          8,
          8,
          8,
          8,
          8,
          8,
          8,
          7,
          7,
          7,
          7,
          7,
          7,
          7,
          7,
          7,
          7,
          7,
          7,
          7,
          7,
          7,
          7,
          7,
          7,
          7,
          7,
          7,
          7,
          7,
          7,
          7,
          7,
          7,
          7,
          7,
          7,
          7,
          7,
          7,
          7,
          7,
          7,
          7,
          7,
          7,
          7,
          7,
          7,
          7,
          7,
          7,
          7,
          7,
          7,
          7,
          7,
          7,
          7,
          7,
          7,
          7,
          7,
          7,
          7,
          7,
          7,
          7,
          7,
          7,
          7,
          7,
          7,
          6,
          6,
          6,
          6,
          6,
          6,
          6,
          6,
          6,
          6,
          6,
          6,
          6,
          6,
          6,
          6,
          6,
          6,
          6,
          6,
          6,
          6,
          6,
          6,
          6,
          6,
          6,
          6,
          6,
          6,
          6,
          6,
          6,
          6,
          6,
          6,
          6,
          6,
          6,
          6,
          6,
          6,
          6,
          6,
          6,
          6,
          6,
          6,
          6,
          6,
          6,
          6,
          6,
          6,
          6,
          6,
          6,
          6,
          6,
          6,
          6,
          6,
          6,
          6,
          6,
          6,
          6,
          6,
          5,
          5,
          5,
          5,
          5,
          5,
          5,
          5,
          5,
          5,
          5,
          5,
          5,
          5,
          5,
          5,
          5,
          5,
          5,
          5,
          5,
          5,
          5,
          5,
          5,
          5,
          5,
          5,
          5,
          5,
          5,
          5,
          5,
          5,
          5,
          5,
          5,
          5,
          5,
          5,
          5,
          5,
          5,
          5,
          5,
          5,
          5,
          5,
          5,
          5,
          5,
          5,
          5,
          5,
          5,
          5,
          5,
          5,
          5,
          5,
          5,
          5,
          5,
          5,
          5,
          5,
          5,
          5,
          5,
          5,
          5,
          5,
          5,
          5,
          5,
          5,
          5,
          5,
          5,
          5,
          5,
          5,
          5,
          5
         ],
         "yaxis": "y"
        }
       ],
       "layout": {
        "barmode": "relative",
        "legend": {
         "title": {
          "text": "variable"
         },
         "tracegroupgap": 0
        },
        "showlegend": false,
        "template": {
         "data": {
          "bar": [
           {
            "error_x": {
             "color": "#2a3f5f"
            },
            "error_y": {
             "color": "#2a3f5f"
            },
            "marker": {
             "line": {
              "color": "#E5ECF6",
              "width": 0.5
             },
             "pattern": {
              "fillmode": "overlay",
              "size": 10,
              "solidity": 0.2
             }
            },
            "type": "bar"
           }
          ],
          "barpolar": [
           {
            "marker": {
             "line": {
              "color": "#E5ECF6",
              "width": 0.5
             },
             "pattern": {
              "fillmode": "overlay",
              "size": 10,
              "solidity": 0.2
             }
            },
            "type": "barpolar"
           }
          ],
          "carpet": [
           {
            "aaxis": {
             "endlinecolor": "#2a3f5f",
             "gridcolor": "white",
             "linecolor": "white",
             "minorgridcolor": "white",
             "startlinecolor": "#2a3f5f"
            },
            "baxis": {
             "endlinecolor": "#2a3f5f",
             "gridcolor": "white",
             "linecolor": "white",
             "minorgridcolor": "white",
             "startlinecolor": "#2a3f5f"
            },
            "type": "carpet"
           }
          ],
          "choropleth": [
           {
            "colorbar": {
             "outlinewidth": 0,
             "ticks": ""
            },
            "type": "choropleth"
           }
          ],
          "contour": [
           {
            "colorbar": {
             "outlinewidth": 0,
             "ticks": ""
            },
            "colorscale": [
             [
              0,
              "#0d0887"
             ],
             [
              0.1111111111111111,
              "#46039f"
             ],
             [
              0.2222222222222222,
              "#7201a8"
             ],
             [
              0.3333333333333333,
              "#9c179e"
             ],
             [
              0.4444444444444444,
              "#bd3786"
             ],
             [
              0.5555555555555556,
              "#d8576b"
             ],
             [
              0.6666666666666666,
              "#ed7953"
             ],
             [
              0.7777777777777778,
              "#fb9f3a"
             ],
             [
              0.8888888888888888,
              "#fdca26"
             ],
             [
              1,
              "#f0f921"
             ]
            ],
            "type": "contour"
           }
          ],
          "contourcarpet": [
           {
            "colorbar": {
             "outlinewidth": 0,
             "ticks": ""
            },
            "type": "contourcarpet"
           }
          ],
          "heatmap": [
           {
            "colorbar": {
             "outlinewidth": 0,
             "ticks": ""
            },
            "colorscale": [
             [
              0,
              "#0d0887"
             ],
             [
              0.1111111111111111,
              "#46039f"
             ],
             [
              0.2222222222222222,
              "#7201a8"
             ],
             [
              0.3333333333333333,
              "#9c179e"
             ],
             [
              0.4444444444444444,
              "#bd3786"
             ],
             [
              0.5555555555555556,
              "#d8576b"
             ],
             [
              0.6666666666666666,
              "#ed7953"
             ],
             [
              0.7777777777777778,
              "#fb9f3a"
             ],
             [
              0.8888888888888888,
              "#fdca26"
             ],
             [
              1,
              "#f0f921"
             ]
            ],
            "type": "heatmap"
           }
          ],
          "heatmapgl": [
           {
            "colorbar": {
             "outlinewidth": 0,
             "ticks": ""
            },
            "colorscale": [
             [
              0,
              "#0d0887"
             ],
             [
              0.1111111111111111,
              "#46039f"
             ],
             [
              0.2222222222222222,
              "#7201a8"
             ],
             [
              0.3333333333333333,
              "#9c179e"
             ],
             [
              0.4444444444444444,
              "#bd3786"
             ],
             [
              0.5555555555555556,
              "#d8576b"
             ],
             [
              0.6666666666666666,
              "#ed7953"
             ],
             [
              0.7777777777777778,
              "#fb9f3a"
             ],
             [
              0.8888888888888888,
              "#fdca26"
             ],
             [
              1,
              "#f0f921"
             ]
            ],
            "type": "heatmapgl"
           }
          ],
          "histogram": [
           {
            "marker": {
             "pattern": {
              "fillmode": "overlay",
              "size": 10,
              "solidity": 0.2
             }
            },
            "type": "histogram"
           }
          ],
          "histogram2d": [
           {
            "colorbar": {
             "outlinewidth": 0,
             "ticks": ""
            },
            "colorscale": [
             [
              0,
              "#0d0887"
             ],
             [
              0.1111111111111111,
              "#46039f"
             ],
             [
              0.2222222222222222,
              "#7201a8"
             ],
             [
              0.3333333333333333,
              "#9c179e"
             ],
             [
              0.4444444444444444,
              "#bd3786"
             ],
             [
              0.5555555555555556,
              "#d8576b"
             ],
             [
              0.6666666666666666,
              "#ed7953"
             ],
             [
              0.7777777777777778,
              "#fb9f3a"
             ],
             [
              0.8888888888888888,
              "#fdca26"
             ],
             [
              1,
              "#f0f921"
             ]
            ],
            "type": "histogram2d"
           }
          ],
          "histogram2dcontour": [
           {
            "colorbar": {
             "outlinewidth": 0,
             "ticks": ""
            },
            "colorscale": [
             [
              0,
              "#0d0887"
             ],
             [
              0.1111111111111111,
              "#46039f"
             ],
             [
              0.2222222222222222,
              "#7201a8"
             ],
             [
              0.3333333333333333,
              "#9c179e"
             ],
             [
              0.4444444444444444,
              "#bd3786"
             ],
             [
              0.5555555555555556,
              "#d8576b"
             ],
             [
              0.6666666666666666,
              "#ed7953"
             ],
             [
              0.7777777777777778,
              "#fb9f3a"
             ],
             [
              0.8888888888888888,
              "#fdca26"
             ],
             [
              1,
              "#f0f921"
             ]
            ],
            "type": "histogram2dcontour"
           }
          ],
          "mesh3d": [
           {
            "colorbar": {
             "outlinewidth": 0,
             "ticks": ""
            },
            "type": "mesh3d"
           }
          ],
          "parcoords": [
           {
            "line": {
             "colorbar": {
              "outlinewidth": 0,
              "ticks": ""
             }
            },
            "type": "parcoords"
           }
          ],
          "pie": [
           {
            "automargin": true,
            "type": "pie"
           }
          ],
          "scatter": [
           {
            "fillpattern": {
             "fillmode": "overlay",
             "size": 10,
             "solidity": 0.2
            },
            "type": "scatter"
           }
          ],
          "scatter3d": [
           {
            "line": {
             "colorbar": {
              "outlinewidth": 0,
              "ticks": ""
             }
            },
            "marker": {
             "colorbar": {
              "outlinewidth": 0,
              "ticks": ""
             }
            },
            "type": "scatter3d"
           }
          ],
          "scattercarpet": [
           {
            "marker": {
             "colorbar": {
              "outlinewidth": 0,
              "ticks": ""
             }
            },
            "type": "scattercarpet"
           }
          ],
          "scattergeo": [
           {
            "marker": {
             "colorbar": {
              "outlinewidth": 0,
              "ticks": ""
             }
            },
            "type": "scattergeo"
           }
          ],
          "scattergl": [
           {
            "marker": {
             "colorbar": {
              "outlinewidth": 0,
              "ticks": ""
             }
            },
            "type": "scattergl"
           }
          ],
          "scattermapbox": [
           {
            "marker": {
             "colorbar": {
              "outlinewidth": 0,
              "ticks": ""
             }
            },
            "type": "scattermapbox"
           }
          ],
          "scatterpolar": [
           {
            "marker": {
             "colorbar": {
              "outlinewidth": 0,
              "ticks": ""
             }
            },
            "type": "scatterpolar"
           }
          ],
          "scatterpolargl": [
           {
            "marker": {
             "colorbar": {
              "outlinewidth": 0,
              "ticks": ""
             }
            },
            "type": "scatterpolargl"
           }
          ],
          "scatterternary": [
           {
            "marker": {
             "colorbar": {
              "outlinewidth": 0,
              "ticks": ""
             }
            },
            "type": "scatterternary"
           }
          ],
          "surface": [
           {
            "colorbar": {
             "outlinewidth": 0,
             "ticks": ""
            },
            "colorscale": [
             [
              0,
              "#0d0887"
             ],
             [
              0.1111111111111111,
              "#46039f"
             ],
             [
              0.2222222222222222,
              "#7201a8"
             ],
             [
              0.3333333333333333,
              "#9c179e"
             ],
             [
              0.4444444444444444,
              "#bd3786"
             ],
             [
              0.5555555555555556,
              "#d8576b"
             ],
             [
              0.6666666666666666,
              "#ed7953"
             ],
             [
              0.7777777777777778,
              "#fb9f3a"
             ],
             [
              0.8888888888888888,
              "#fdca26"
             ],
             [
              1,
              "#f0f921"
             ]
            ],
            "type": "surface"
           }
          ],
          "table": [
           {
            "cells": {
             "fill": {
              "color": "#EBF0F8"
             },
             "line": {
              "color": "white"
             }
            },
            "header": {
             "fill": {
              "color": "#C8D4E3"
             },
             "line": {
              "color": "white"
             }
            },
            "type": "table"
           }
          ]
         },
         "layout": {
          "annotationdefaults": {
           "arrowcolor": "#2a3f5f",
           "arrowhead": 0,
           "arrowwidth": 1
          },
          "autotypenumbers": "strict",
          "coloraxis": {
           "colorbar": {
            "outlinewidth": 0,
            "ticks": ""
           }
          },
          "colorscale": {
           "diverging": [
            [
             0,
             "#8e0152"
            ],
            [
             0.1,
             "#c51b7d"
            ],
            [
             0.2,
             "#de77ae"
            ],
            [
             0.3,
             "#f1b6da"
            ],
            [
             0.4,
             "#fde0ef"
            ],
            [
             0.5,
             "#f7f7f7"
            ],
            [
             0.6,
             "#e6f5d0"
            ],
            [
             0.7,
             "#b8e186"
            ],
            [
             0.8,
             "#7fbc41"
            ],
            [
             0.9,
             "#4d9221"
            ],
            [
             1,
             "#276419"
            ]
           ],
           "sequential": [
            [
             0,
             "#0d0887"
            ],
            [
             0.1111111111111111,
             "#46039f"
            ],
            [
             0.2222222222222222,
             "#7201a8"
            ],
            [
             0.3333333333333333,
             "#9c179e"
            ],
            [
             0.4444444444444444,
             "#bd3786"
            ],
            [
             0.5555555555555556,
             "#d8576b"
            ],
            [
             0.6666666666666666,
             "#ed7953"
            ],
            [
             0.7777777777777778,
             "#fb9f3a"
            ],
            [
             0.8888888888888888,
             "#fdca26"
            ],
            [
             1,
             "#f0f921"
            ]
           ],
           "sequentialminus": [
            [
             0,
             "#0d0887"
            ],
            [
             0.1111111111111111,
             "#46039f"
            ],
            [
             0.2222222222222222,
             "#7201a8"
            ],
            [
             0.3333333333333333,
             "#9c179e"
            ],
            [
             0.4444444444444444,
             "#bd3786"
            ],
            [
             0.5555555555555556,
             "#d8576b"
            ],
            [
             0.6666666666666666,
             "#ed7953"
            ],
            [
             0.7777777777777778,
             "#fb9f3a"
            ],
            [
             0.8888888888888888,
             "#fdca26"
            ],
            [
             1,
             "#f0f921"
            ]
           ]
          },
          "colorway": [
           "#636efa",
           "#EF553B",
           "#00cc96",
           "#ab63fa",
           "#FFA15A",
           "#19d3f3",
           "#FF6692",
           "#B6E880",
           "#FF97FF",
           "#FECB52"
          ],
          "font": {
           "color": "#2a3f5f"
          },
          "geo": {
           "bgcolor": "white",
           "lakecolor": "white",
           "landcolor": "#E5ECF6",
           "showlakes": true,
           "showland": true,
           "subunitcolor": "white"
          },
          "hoverlabel": {
           "align": "left"
          },
          "hovermode": "closest",
          "mapbox": {
           "style": "light"
          },
          "paper_bgcolor": "white",
          "plot_bgcolor": "#E5ECF6",
          "polar": {
           "angularaxis": {
            "gridcolor": "white",
            "linecolor": "white",
            "ticks": ""
           },
           "bgcolor": "#E5ECF6",
           "radialaxis": {
            "gridcolor": "white",
            "linecolor": "white",
            "ticks": ""
           }
          },
          "scene": {
           "xaxis": {
            "backgroundcolor": "#E5ECF6",
            "gridcolor": "white",
            "gridwidth": 2,
            "linecolor": "white",
            "showbackground": true,
            "ticks": "",
            "zerolinecolor": "white"
           },
           "yaxis": {
            "backgroundcolor": "#E5ECF6",
            "gridcolor": "white",
            "gridwidth": 2,
            "linecolor": "white",
            "showbackground": true,
            "ticks": "",
            "zerolinecolor": "white"
           },
           "zaxis": {
            "backgroundcolor": "#E5ECF6",
            "gridcolor": "white",
            "gridwidth": 2,
            "linecolor": "white",
            "showbackground": true,
            "ticks": "",
            "zerolinecolor": "white"
           }
          },
          "shapedefaults": {
           "line": {
            "color": "#2a3f5f"
           }
          },
          "ternary": {
           "aaxis": {
            "gridcolor": "white",
            "linecolor": "white",
            "ticks": ""
           },
           "baxis": {
            "gridcolor": "white",
            "linecolor": "white",
            "ticks": ""
           },
           "bgcolor": "#E5ECF6",
           "caxis": {
            "gridcolor": "white",
            "linecolor": "white",
            "ticks": ""
           }
          },
          "title": {
           "x": 0.05
          },
          "xaxis": {
           "automargin": true,
           "gridcolor": "white",
           "linecolor": "white",
           "ticks": "",
           "title": {
            "standoff": 15
           },
           "zerolinecolor": "white",
           "zerolinewidth": 2
          },
          "yaxis": {
           "automargin": true,
           "gridcolor": "white",
           "linecolor": "white",
           "ticks": "",
           "title": {
            "standoff": 15
           },
           "zerolinecolor": "white",
           "zerolinewidth": 2
          }
         }
        },
        "title": {
         "text": "Label Distribution"
        },
        "xaxis": {
         "anchor": "y",
         "domain": [
          0,
          1
         ],
         "tickangle": 45,
         "title": {
          "text": "index"
         }
        },
        "yaxis": {
         "anchor": "x",
         "domain": [
          0,
          1
         ],
         "title": {
          "text": "value"
         }
        }
       }
      },
      "text/html": [
       "<div>                            <div id=\"93d6e05d-35d9-458f-81d4-2b1046d6979b\" class=\"plotly-graph-div\" style=\"height:525px; width:100%;\"></div>            <script type=\"text/javascript\">                require([\"plotly\"], function(Plotly) {                    window.PLOTLYENV=window.PLOTLYENV || {};                                    if (document.getElementById(\"93d6e05d-35d9-458f-81d4-2b1046d6979b\")) {                    Plotly.newPlot(                        \"93d6e05d-35d9-458f-81d4-2b1046d6979b\",                        [{\"alignmentgroup\":\"True\",\"hovertemplate\":\"variable=labels<br>index=%{x}<br>value=%{y}<extra></extra>\",\"legendgroup\":\"labels\",\"marker\":{\"color\":\"#636efa\",\"pattern\":{\"shape\":\"\"}},\"name\":\"labels\",\"offsetgroup\":\"labels\",\"orientation\":\"v\",\"showlegend\":true,\"textposition\":\"auto\",\"x\":[\"Music\",\"Speech\",\"Vehicle\",\"Animal\",\"Musical instrument\",\"Singing\",\"Domestic animals, pets\",\"Guitar\",\"Inside, small room\",\"Plucked string instrument\",\"Car\",\"Drum\",\"Dog\",\"Percussion\",\"Bird\",\"Train\",\"Wind\",\"Fowl\",\"Wind noise (microphone)\",\"Rail transport\",\"Engine\",\"Drum kit\",\"Railroad car, train wagon\",\"Outside, rural or natural\",\"Snare drum\",\"Crowd\",\"Bass drum\",\"Boat, Water vehicle\",\"Brass instrument\",\"Water\",\"Song\",\"Rimshot\",\"Siren\",\"Livestock, farm animals, working animals\",\"Bowed string instrument\",\"Insect\",\"Outside, urban or manmade\",\"Bird vocalization, bird call, bird song\",\"Mechanisms\",\"Wood\",\"Rain\",\"Emergency vehicle\",\"Child speech, kid speaking\",\"Drum roll\",\"Keyboard (musical)\",\"Soundtrack music\",\"Rock music\",\"Wind instrument, woodwind instrument\",\"Motor vehicle (road)\",\"Rub\",\"Aircraft\",\"Happy music\",\"Piano\",\"Chicken, rooster\",\"Cat\",\"Tools\",\"Truck\",\"Cymbal\",\"Cello\",\"Rain on surface\",\"Ocean\",\"Organ\",\"Rapping\",\"Ratchet, pawl\",\"Inside, large room or hall\",\"Accelerating, revving, vroom\",\"Electronic music\",\"Effects unit\",\"Wedding music\",\"Chirp, tweet\",\"Trombone\",\"Choir\",\"Bark\",\"Distortion\",\"Gears\",\"Sawing\",\"Reverberation\",\"Gunshot, gunfire\",\"Hiss\",\"Fixed-wing aircraft, airplane\",\"Classical music\",\"Waves, surf\",\"Idling\",\"Fly, housefly\",\"Cheering\",\"Train wheels squealing\",\"Water tap, faucet\",\"Steam\",\"Electronic tuner\",\"Raindrop\",\"Horse\",\"Vocal music\",\"Cluck\",\"Howl\",\"Electric guitar\",\"Electric piano\",\"Trumpet\",\"Exciting music\",\"Power tool\",\"Thunder\",\"Hi-hat\",\"Dance music\",\"Hum\",\"Train horn\",\"Double bass\",\"Ambulance (siren)\",\"Medium engine (mid frequency)\",\"Bow-wow\",\"Yell\",\"Roaring cats (lions, tigers)\",\"Sailboat, sailing ship\",\"Jingle (music)\",\"House music\",\"Pop music\",\"Harmonic\",\"Yodeling\",\"Crowing, cock-a-doodle-doo\",\"Marimba, xylophone\",\"Christmas music\",\"Christian music\",\"Steam whistle\",\"Sad music\",\"Police car (siren)\",\"Motorcycle\",\"Music of Latin America\",\"Chime\",\"Heart sounds, heartbeat\",\"Pizzicato\",\"Glockenspiel\",\"Dishes, pots, and pans\",\"Echo\",\"Roll\",\"Vehicle horn, car horn, honking\",\"Ringtone\",\"Violin, fiddle\",\"Canidae, dogs, wolves\",\"Gobble\",\"Sizzle\",\"Orchestra\",\"Children shouting\",\"Vibration\",\"Cattle, bovinae\",\"Heart murmur\",\"Blues\",\"Clip-clop\",\"Male singing\",\"Liquid\",\"Honk\",\"Coo\",\"Growling\",\"Clickety-clack\",\"Ding\",\"Rhythm and blues\",\"Whimper (dog)\",\"Bleat\",\"Mallet percussion\",\"Acoustic guitar\",\"Meow\",\"Engine starting\",\"Goose\",\"Scratch\",\"Crow\",\"Pigeon, dove\",\"Frog\",\"Angry music\",\"Splash, splatter\",\"Jazz\",\"Telephone\",\"Thunderstorm\",\"Gospel music\",\"Bee, wasp, etc.\",\"Moo\",\"Turkey\",\"Rock and roll\",\"Heavy engine (low frequency)\",\"Traffic noise, roadway noise\",\"Electronic organ\",\"Bluegrass\",\"Duck\",\"Tick-tock\",\"Computer keyboard\",\"Typing\",\"Yip\",\"Explosion\",\"Train whistle\",\"Theme music\",\"French horn\",\"A capella\",\"Traditional music\",\"Wild animals\",\"Race car, auto racing\",\"Toot\",\"Synthetic singing\",\"Tire squeal\",\"Car alarm\",\"Waterfall\",\"Owl\",\"Door\",\"Bathtub (filling or washing)\",\"Frying (food)\",\"Funny music\",\"Mandolin\",\"Laughter\",\"Cutlery, silverware\",\"Fire\",\"Goat\",\"Croak\",\"Wind chime\",\"Lawn mower\",\"Sheep\",\"Sink (filling or washing)\",\"Ship\",\"Punk rock\",\"Stir\",\"Bass guitar\",\"Silence\",\"Screaming\",\"Clang\",\"Hammond organ\",\"Tabla\",\"Drum machine\",\"Country\",\"Dubstep\",\"Motorboat, speedboat\",\"Whoop\",\"Zing\",\"Sound effect\",\"Eruption\",\"Cricket\",\"Skateboard\",\"Radio\",\"Patter\",\"Babbling\",\"Shout\",\"Caw\",\"Neigh, whinny\",\"Aircraft engine\",\"Humming\",\"Roar\",\"Heavy metal\",\"Cap gun\",\"Jet engine\",\"Crackle\",\"Caterwaul\",\"Independent music\",\"Quack\",\"Drum and bass\",\"Snicker\",\"Scary music\",\"Propeller, airscrew\",\"Hip hop music\",\"Crying, sobbing\",\"Clapping\",\"Harp\",\"Video game music\",\"Tender music\",\"Pulse\",\"Throbbing\",\"Music for children\",\"Jingle, tinkle\",\"Techno\",\"Chant\",\"Inside, public space\",\"Harpsichord\",\"Chuckle, chortle\",\"Alarm\",\"Toilet flush\",\"Harmonica\",\"Electronica\",\"Music of Asia\",\"Sonar\",\"Glass\",\"Purr\",\"Opera\",\"Fire engine, fire truck (siren)\",\"Grunge\",\"Fireworks\",\"Subway, metro, underground\",\"Telephone dialing, DTMF\",\"Cowbell\",\"Burst, pop\",\"Doorbell\",\"Air horn, truck horn\",\"Banjo\",\"Church bell\",\"Skidding\",\"Bellow\",\"Thunk\",\"Static\",\"Helicopter\",\"New-age music\",\"Mosquito\",\"Synthesizer\",\"Sampler\",\"White noise\",\"Beatboxing\",\"Zither\",\"Sine wave\",\"Afrobeat\",\"Air brake\",\"Music of Africa\",\"Sliding door\",\"Tick\",\"Saxophone\",\"Cough\",\"Electronic dance music\",\"Chorus effect\",\"Clarinet\",\"Breathing\",\"Middle Eastern music\",\"Boing\",\"Bang\",\"Boiling\",\"Background music\",\"Chop\",\"Giggle\",\"Whack, thwack\",\"Belly laugh\",\"Drill\",\"Foghorn\",\"Tubular bells\",\"Rattle\",\"Pulleys\",\"Flamenco\",\"Pink noise\",\"Trickle, dribble\",\"Steel guitar, slide guitar\",\"Conversation\",\"Hubbub, speech noise, speech babble\",\"Battle cry\",\"Snort\",\"Artillery fire\",\"Shofar\",\"Disco\",\"Hiccup\",\"Female singing\",\"Child singing\",\"Chink, clink\",\"Pig\",\"Chirp tone\",\"Fusillade\",\"String section\",\"Noise\",\"Tearing\",\"Buzz\",\"Pant\",\"Cacophony\",\"Baby cry, infant cry\",\"Environmental noise\",\"Firecracker\",\"Strum\",\"Engine knocking\",\"Bell\",\"Hoot\",\"Reggae\",\"Soul music\",\"Boom\",\"Alarm clock\",\"Whoosh, swoosh, swish\",\"Gasp\",\"Rodents, rats, mice\",\"Fill (with liquid)\",\"Vibraphone\",\"Buzzer\",\"Knock\",\"Thump, thud\",\"Slosh\",\"Fire alarm\",\"Bus\",\"Slap, smack\",\"Run\",\"Male speech, man speaking\",\"Ding-dong\",\"Psychedelic rock\",\"Telephone bell ringing\",\"Whistle\",\"Rowboat, canoe, kayak\",\"Funk\",\"Bird flight, flapping wings\",\"Whir\",\"Rumble\",\"Field recording\",\"Clock\",\"Filing (rasp)\",\"Rustling leaves\",\"Squeal\",\"Female speech, woman speaking\",\"Wheeze\",\"Flap\",\"Electric toothbrush\",\"Rattle (instrument)\",\"Slam\",\"Scissors\",\"Whimper\",\"Shuffle\",\"Swing music\",\"Drip\",\"Chewing, mastication\",\"Reversing beeps\",\"Hands\",\"Writing\",\"Crack\",\"Mouse\",\"Bicycle bell\",\"Scratching (performance technique)\",\"Carnatic music\",\"Flute\",\"Ukulele\",\"Basketball bounce\",\"Typewriter\",\"Lullaby\",\"Tapping (guitar technique)\",\"Sidetone\",\"Snake\",\"Beep, bleep\",\"Ska\",\"Baby laughter\",\"Sigh\",\"Bagpipes\",\"Civil defense siren\",\"Wail, moan\",\"Shuffling cards\",\"Singing bowl\",\"Plop\",\"Dial tone\",\"Bicycle\",\"Breaking\",\"Hammer\",\"Single-lens reflex camera\",\"Clatter\",\"Applause\",\"Splinter\",\"Smash, crash\",\"Progressive rock\",\"Folk music\",\"Crumpling, crinkling\",\"Stomach rumble\",\"Scrape\",\"Mains hum\",\"Tambourine\",\"Bouncing\",\"Smoke detector, smoke alarm\",\"Music of Bollywood\",\"Groan\",\"Oink\",\"Wood block\",\"Crunch\",\"Gush\",\"Cupboard open or close\",\"Crushing\",\"Sneeze\",\"Gargling\",\"Sewing machine\",\"Shatter\",\"Timpani\",\"Toothbrush\",\"Ping\",\"Keys jangling\",\"Finger snapping\",\"Trance music\",\"Jackhammer\",\"Chopping (food)\",\"Pour\",\"Machine gun\",\"Sanding\",\"Speech synthesizer\",\"Vacuum cleaner\",\"Grunt\",\"Clicking\",\"Squish\",\"Children playing\",\"Biting\",\"Jingle bell\",\"Stream\",\"Power windows, electric windows\",\"Dental drill, dentist's drill\",\"Gurgling\",\"Tuning fork\",\"Rustle\",\"Car passing by\",\"Pump (liquid)\",\"Drawer open or close\",\"Chainsaw\",\"Camera\",\"Change ringing (campanology)\",\"Burping, eructation\",\"Steelpan\",\"Accordion\",\"Mechanical fan\",\"Blender\",\"Printer\",\"Whip\",\"Television\",\"Narration, monologue\",\"Walk, footsteps\",\"Snoring\",\"Whale vocalization\",\"Spray\",\"Theremin\",\"Busy signal\",\"Zipper (clothing)\",\"Ambient music\",\"Air conditioning\",\"Fart\",\"Arrow\",\"Chatter\",\"Creak\",\"Microwave oven\",\"Ice cream truck, ice cream van\",\"Didgeridoo\",\"Electric shaver, electric razor\",\"Hair dryer\",\"Coin (dropping)\",\"Whistling\",\"Mantra\",\"Gong\",\"Sniff\",\"Maraca\",\"Tap\",\"Cash register\",\"Light engine (high frequency)\",\"Squeak\",\"Throat clearing\",\"Whispering\",\"Salsa music\",\"Sitar\",\"Squawk\"],\"xaxis\":\"x\",\"y\":[446,344,172,127,99,75,69,63,58,55,50,50,48,44,41,41,40,40,39,37,36,35,35,32,31,30,30,29,28,28,28,27,27,25,25,25,25,25,24,24,24,23,23,23,23,22,21,21,21,20,20,20,20,20,20,19,19,19,19,18,18,18,18,18,18,18,18,18,17,17,17,17,17,17,17,17,17,17,16,16,16,16,16,16,15,15,15,15,15,15,15,15,15,15,15,14,14,14,14,14,14,14,14,14,14,14,14,14,13,13,13,13,13,13,13,13,13,13,13,13,13,13,13,13,12,12,12,12,12,12,12,12,12,12,12,12,12,12,12,12,12,12,12,12,12,12,12,12,12,12,12,12,12,12,11,11,11,11,11,11,11,11,11,11,11,11,11,11,11,11,11,11,11,11,11,11,11,10,10,10,10,10,10,10,10,10,10,10,10,10,10,10,10,10,10,10,10,10,10,10,10,10,10,10,10,10,10,10,10,10,10,10,10,10,10,9,9,9,9,9,9,9,9,9,9,9,9,9,9,9,9,9,9,9,9,9,9,9,9,9,9,9,9,9,9,9,9,9,9,9,9,9,9,8,8,8,8,8,8,8,8,8,8,8,8,8,8,8,8,8,8,8,8,8,8,8,8,8,8,8,8,8,8,8,8,8,8,8,8,8,8,8,8,8,8,8,8,8,8,8,8,8,8,8,8,8,8,8,8,7,7,7,7,7,7,7,7,7,7,7,7,7,7,7,7,7,7,7,7,7,7,7,7,7,7,7,7,7,7,7,7,7,7,7,7,7,7,7,7,7,7,7,7,7,7,7,7,7,7,7,7,7,7,7,7,7,7,7,7,7,7,7,7,7,7,6,6,6,6,6,6,6,6,6,6,6,6,6,6,6,6,6,6,6,6,6,6,6,6,6,6,6,6,6,6,6,6,6,6,6,6,6,6,6,6,6,6,6,6,6,6,6,6,6,6,6,6,6,6,6,6,6,6,6,6,6,6,6,6,6,6,6,6,5,5,5,5,5,5,5,5,5,5,5,5,5,5,5,5,5,5,5,5,5,5,5,5,5,5,5,5,5,5,5,5,5,5,5,5,5,5,5,5,5,5,5,5,5,5,5,5,5,5,5,5,5,5,5,5,5,5,5,5,5,5,5,5,5,5,5,5,5,5,5,5,5,5,5,5,5,5,5,5,5,5,5,5],\"yaxis\":\"y\",\"type\":\"bar\"}],                        {\"template\":{\"data\":{\"histogram2dcontour\":[{\"type\":\"histogram2dcontour\",\"colorbar\":{\"outlinewidth\":0,\"ticks\":\"\"},\"colorscale\":[[0.0,\"#0d0887\"],[0.1111111111111111,\"#46039f\"],[0.2222222222222222,\"#7201a8\"],[0.3333333333333333,\"#9c179e\"],[0.4444444444444444,\"#bd3786\"],[0.5555555555555556,\"#d8576b\"],[0.6666666666666666,\"#ed7953\"],[0.7777777777777778,\"#fb9f3a\"],[0.8888888888888888,\"#fdca26\"],[1.0,\"#f0f921\"]]}],\"choropleth\":[{\"type\":\"choropleth\",\"colorbar\":{\"outlinewidth\":0,\"ticks\":\"\"}}],\"histogram2d\":[{\"type\":\"histogram2d\",\"colorbar\":{\"outlinewidth\":0,\"ticks\":\"\"},\"colorscale\":[[0.0,\"#0d0887\"],[0.1111111111111111,\"#46039f\"],[0.2222222222222222,\"#7201a8\"],[0.3333333333333333,\"#9c179e\"],[0.4444444444444444,\"#bd3786\"],[0.5555555555555556,\"#d8576b\"],[0.6666666666666666,\"#ed7953\"],[0.7777777777777778,\"#fb9f3a\"],[0.8888888888888888,\"#fdca26\"],[1.0,\"#f0f921\"]]}],\"heatmap\":[{\"type\":\"heatmap\",\"colorbar\":{\"outlinewidth\":0,\"ticks\":\"\"},\"colorscale\":[[0.0,\"#0d0887\"],[0.1111111111111111,\"#46039f\"],[0.2222222222222222,\"#7201a8\"],[0.3333333333333333,\"#9c179e\"],[0.4444444444444444,\"#bd3786\"],[0.5555555555555556,\"#d8576b\"],[0.6666666666666666,\"#ed7953\"],[0.7777777777777778,\"#fb9f3a\"],[0.8888888888888888,\"#fdca26\"],[1.0,\"#f0f921\"]]}],\"heatmapgl\":[{\"type\":\"heatmapgl\",\"colorbar\":{\"outlinewidth\":0,\"ticks\":\"\"},\"colorscale\":[[0.0,\"#0d0887\"],[0.1111111111111111,\"#46039f\"],[0.2222222222222222,\"#7201a8\"],[0.3333333333333333,\"#9c179e\"],[0.4444444444444444,\"#bd3786\"],[0.5555555555555556,\"#d8576b\"],[0.6666666666666666,\"#ed7953\"],[0.7777777777777778,\"#fb9f3a\"],[0.8888888888888888,\"#fdca26\"],[1.0,\"#f0f921\"]]}],\"contourcarpet\":[{\"type\":\"contourcarpet\",\"colorbar\":{\"outlinewidth\":0,\"ticks\":\"\"}}],\"contour\":[{\"type\":\"contour\",\"colorbar\":{\"outlinewidth\":0,\"ticks\":\"\"},\"colorscale\":[[0.0,\"#0d0887\"],[0.1111111111111111,\"#46039f\"],[0.2222222222222222,\"#7201a8\"],[0.3333333333333333,\"#9c179e\"],[0.4444444444444444,\"#bd3786\"],[0.5555555555555556,\"#d8576b\"],[0.6666666666666666,\"#ed7953\"],[0.7777777777777778,\"#fb9f3a\"],[0.8888888888888888,\"#fdca26\"],[1.0,\"#f0f921\"]]}],\"surface\":[{\"type\":\"surface\",\"colorbar\":{\"outlinewidth\":0,\"ticks\":\"\"},\"colorscale\":[[0.0,\"#0d0887\"],[0.1111111111111111,\"#46039f\"],[0.2222222222222222,\"#7201a8\"],[0.3333333333333333,\"#9c179e\"],[0.4444444444444444,\"#bd3786\"],[0.5555555555555556,\"#d8576b\"],[0.6666666666666666,\"#ed7953\"],[0.7777777777777778,\"#fb9f3a\"],[0.8888888888888888,\"#fdca26\"],[1.0,\"#f0f921\"]]}],\"mesh3d\":[{\"type\":\"mesh3d\",\"colorbar\":{\"outlinewidth\":0,\"ticks\":\"\"}}],\"scatter\":[{\"fillpattern\":{\"fillmode\":\"overlay\",\"size\":10,\"solidity\":0.2},\"type\":\"scatter\"}],\"parcoords\":[{\"type\":\"parcoords\",\"line\":{\"colorbar\":{\"outlinewidth\":0,\"ticks\":\"\"}}}],\"scatterpolargl\":[{\"type\":\"scatterpolargl\",\"marker\":{\"colorbar\":{\"outlinewidth\":0,\"ticks\":\"\"}}}],\"bar\":[{\"error_x\":{\"color\":\"#2a3f5f\"},\"error_y\":{\"color\":\"#2a3f5f\"},\"marker\":{\"line\":{\"color\":\"#E5ECF6\",\"width\":0.5},\"pattern\":{\"fillmode\":\"overlay\",\"size\":10,\"solidity\":0.2}},\"type\":\"bar\"}],\"scattergeo\":[{\"type\":\"scattergeo\",\"marker\":{\"colorbar\":{\"outlinewidth\":0,\"ticks\":\"\"}}}],\"scatterpolar\":[{\"type\":\"scatterpolar\",\"marker\":{\"colorbar\":{\"outlinewidth\":0,\"ticks\":\"\"}}}],\"histogram\":[{\"marker\":{\"pattern\":{\"fillmode\":\"overlay\",\"size\":10,\"solidity\":0.2}},\"type\":\"histogram\"}],\"scattergl\":[{\"type\":\"scattergl\",\"marker\":{\"colorbar\":{\"outlinewidth\":0,\"ticks\":\"\"}}}],\"scatter3d\":[{\"type\":\"scatter3d\",\"line\":{\"colorbar\":{\"outlinewidth\":0,\"ticks\":\"\"}},\"marker\":{\"colorbar\":{\"outlinewidth\":0,\"ticks\":\"\"}}}],\"scattermapbox\":[{\"type\":\"scattermapbox\",\"marker\":{\"colorbar\":{\"outlinewidth\":0,\"ticks\":\"\"}}}],\"scatterternary\":[{\"type\":\"scatterternary\",\"marker\":{\"colorbar\":{\"outlinewidth\":0,\"ticks\":\"\"}}}],\"scattercarpet\":[{\"type\":\"scattercarpet\",\"marker\":{\"colorbar\":{\"outlinewidth\":0,\"ticks\":\"\"}}}],\"carpet\":[{\"aaxis\":{\"endlinecolor\":\"#2a3f5f\",\"gridcolor\":\"white\",\"linecolor\":\"white\",\"minorgridcolor\":\"white\",\"startlinecolor\":\"#2a3f5f\"},\"baxis\":{\"endlinecolor\":\"#2a3f5f\",\"gridcolor\":\"white\",\"linecolor\":\"white\",\"minorgridcolor\":\"white\",\"startlinecolor\":\"#2a3f5f\"},\"type\":\"carpet\"}],\"table\":[{\"cells\":{\"fill\":{\"color\":\"#EBF0F8\"},\"line\":{\"color\":\"white\"}},\"header\":{\"fill\":{\"color\":\"#C8D4E3\"},\"line\":{\"color\":\"white\"}},\"type\":\"table\"}],\"barpolar\":[{\"marker\":{\"line\":{\"color\":\"#E5ECF6\",\"width\":0.5},\"pattern\":{\"fillmode\":\"overlay\",\"size\":10,\"solidity\":0.2}},\"type\":\"barpolar\"}],\"pie\":[{\"automargin\":true,\"type\":\"pie\"}]},\"layout\":{\"autotypenumbers\":\"strict\",\"colorway\":[\"#636efa\",\"#EF553B\",\"#00cc96\",\"#ab63fa\",\"#FFA15A\",\"#19d3f3\",\"#FF6692\",\"#B6E880\",\"#FF97FF\",\"#FECB52\"],\"font\":{\"color\":\"#2a3f5f\"},\"hovermode\":\"closest\",\"hoverlabel\":{\"align\":\"left\"},\"paper_bgcolor\":\"white\",\"plot_bgcolor\":\"#E5ECF6\",\"polar\":{\"bgcolor\":\"#E5ECF6\",\"angularaxis\":{\"gridcolor\":\"white\",\"linecolor\":\"white\",\"ticks\":\"\"},\"radialaxis\":{\"gridcolor\":\"white\",\"linecolor\":\"white\",\"ticks\":\"\"}},\"ternary\":{\"bgcolor\":\"#E5ECF6\",\"aaxis\":{\"gridcolor\":\"white\",\"linecolor\":\"white\",\"ticks\":\"\"},\"baxis\":{\"gridcolor\":\"white\",\"linecolor\":\"white\",\"ticks\":\"\"},\"caxis\":{\"gridcolor\":\"white\",\"linecolor\":\"white\",\"ticks\":\"\"}},\"coloraxis\":{\"colorbar\":{\"outlinewidth\":0,\"ticks\":\"\"}},\"colorscale\":{\"sequential\":[[0.0,\"#0d0887\"],[0.1111111111111111,\"#46039f\"],[0.2222222222222222,\"#7201a8\"],[0.3333333333333333,\"#9c179e\"],[0.4444444444444444,\"#bd3786\"],[0.5555555555555556,\"#d8576b\"],[0.6666666666666666,\"#ed7953\"],[0.7777777777777778,\"#fb9f3a\"],[0.8888888888888888,\"#fdca26\"],[1.0,\"#f0f921\"]],\"sequentialminus\":[[0.0,\"#0d0887\"],[0.1111111111111111,\"#46039f\"],[0.2222222222222222,\"#7201a8\"],[0.3333333333333333,\"#9c179e\"],[0.4444444444444444,\"#bd3786\"],[0.5555555555555556,\"#d8576b\"],[0.6666666666666666,\"#ed7953\"],[0.7777777777777778,\"#fb9f3a\"],[0.8888888888888888,\"#fdca26\"],[1.0,\"#f0f921\"]],\"diverging\":[[0,\"#8e0152\"],[0.1,\"#c51b7d\"],[0.2,\"#de77ae\"],[0.3,\"#f1b6da\"],[0.4,\"#fde0ef\"],[0.5,\"#f7f7f7\"],[0.6,\"#e6f5d0\"],[0.7,\"#b8e186\"],[0.8,\"#7fbc41\"],[0.9,\"#4d9221\"],[1,\"#276419\"]]},\"xaxis\":{\"gridcolor\":\"white\",\"linecolor\":\"white\",\"ticks\":\"\",\"title\":{\"standoff\":15},\"zerolinecolor\":\"white\",\"automargin\":true,\"zerolinewidth\":2},\"yaxis\":{\"gridcolor\":\"white\",\"linecolor\":\"white\",\"ticks\":\"\",\"title\":{\"standoff\":15},\"zerolinecolor\":\"white\",\"automargin\":true,\"zerolinewidth\":2},\"scene\":{\"xaxis\":{\"backgroundcolor\":\"#E5ECF6\",\"gridcolor\":\"white\",\"linecolor\":\"white\",\"showbackground\":true,\"ticks\":\"\",\"zerolinecolor\":\"white\",\"gridwidth\":2},\"yaxis\":{\"backgroundcolor\":\"#E5ECF6\",\"gridcolor\":\"white\",\"linecolor\":\"white\",\"showbackground\":true,\"ticks\":\"\",\"zerolinecolor\":\"white\",\"gridwidth\":2},\"zaxis\":{\"backgroundcolor\":\"#E5ECF6\",\"gridcolor\":\"white\",\"linecolor\":\"white\",\"showbackground\":true,\"ticks\":\"\",\"zerolinecolor\":\"white\",\"gridwidth\":2}},\"shapedefaults\":{\"line\":{\"color\":\"#2a3f5f\"}},\"annotationdefaults\":{\"arrowcolor\":\"#2a3f5f\",\"arrowhead\":0,\"arrowwidth\":1},\"geo\":{\"bgcolor\":\"white\",\"landcolor\":\"#E5ECF6\",\"subunitcolor\":\"white\",\"showland\":true,\"showlakes\":true,\"lakecolor\":\"white\"},\"title\":{\"x\":0.05},\"mapbox\":{\"style\":\"light\"}}},\"xaxis\":{\"anchor\":\"y\",\"domain\":[0.0,1.0],\"title\":{\"text\":\"index\"},\"tickangle\":45},\"yaxis\":{\"anchor\":\"x\",\"domain\":[0.0,1.0],\"title\":{\"text\":\"value\"}},\"legend\":{\"title\":{\"text\":\"variable\"},\"tracegroupgap\":0},\"title\":{\"text\":\"Label Distribution\"},\"barmode\":\"relative\",\"showlegend\":false},                        {\"responsive\": true}                    ).then(function(){\n",
       "                            \n",
       "var gd = document.getElementById('93d6e05d-35d9-458f-81d4-2b1046d6979b');\n",
       "var x = new MutationObserver(function (mutations, observer) {{\n",
       "        var display = window.getComputedStyle(gd).display;\n",
       "        if (!display || display === 'none') {{\n",
       "            console.log([gd, 'removed!']);\n",
       "            Plotly.purge(gd);\n",
       "            observer.disconnect();\n",
       "        }}\n",
       "}});\n",
       "\n",
       "// Listen for the removal of the full notebook cells\n",
       "var notebookContainer = gd.closest('#notebook-container');\n",
       "if (notebookContainer) {{\n",
       "    x.observe(notebookContainer, {childList: true});\n",
       "}}\n",
       "\n",
       "// Listen for the clearing of the current output cell\n",
       "var outputEl = gd.closest('.output');\n",
       "if (outputEl) {{\n",
       "    x.observe(outputEl, {childList: true});\n",
       "}}\n",
       "\n",
       "                        })                };                });            </script>        </div>"
      ]
     },
     "metadata": {},
     "output_type": "display_data"
    }
   ],
   "source": [
    "print_subset_info(df, test_subset, ontology, show_histogram=False)"
   ]
  },
  {
   "cell_type": "code",
   "execution_count": 74,
   "metadata": {},
   "outputs": [
    {
     "name": "stdout",
     "output_type": "stream",
     "text": [
      "Number of covered labels: 527 / total 527\n",
      "Entropy: 5.6911. Max entropy: 6.2672\n",
      "Number of examples: 2604\n"
     ]
    },
    {
     "data": {
      "application/vnd.plotly.v1+json": {
       "config": {
        "plotlyServerURL": "https://plot.ly"
       },
       "data": [
        {
         "alignmentgroup": "True",
         "hovertemplate": "variable=labels<br>index=%{x}<br>value=%{y}<extra></extra>",
         "legendgroup": "labels",
         "marker": {
          "color": "#636efa",
          "pattern": {
           "shape": ""
          }
         },
         "name": "labels",
         "offsetgroup": "labels",
         "orientation": "v",
         "showlegend": true,
         "textposition": "auto",
         "type": "bar",
         "x": [
          "Music",
          "Speech",
          "Vehicle",
          "Animal",
          "Musical instrument",
          "Inside, small room",
          "Singing",
          "Guitar",
          "Domestic animals, pets",
          "Car",
          "Plucked string instrument",
          "Dog",
          "Train",
          "Percussion",
          "Railroad car, train wagon",
          "Fowl",
          "Drum",
          "Rail transport",
          "Engine",
          "Song",
          "Bird",
          "Crowd",
          "Outside, rural or natural",
          "Drum kit",
          "Bass drum",
          "Boat, Water vehicle",
          "Outside, urban or manmade",
          "Water",
          "Wood",
          "Siren",
          "Insect",
          "Wind",
          "Emergency vehicle",
          "Rimshot",
          "Snare drum",
          "Wind instrument, woodwind instrument",
          "Effects unit",
          "Livestock, farm animals, working animals",
          "Bowed string instrument",
          "Keyboard (musical)",
          "Rub",
          "Chicken, rooster",
          "Bird vocalization, bird call, bird song",
          "Brass instrument",
          "Cat",
          "Motor vehicle (road)",
          "Mechanisms",
          "Drum roll",
          "Rain",
          "Accelerating, revving, vroom",
          "Idling",
          "Inside, large room or hall",
          "Wind noise (microphone)",
          "Tools",
          "Exciting music",
          "Marimba, xylophone",
          "Hum",
          "Laughter",
          "Dance music",
          "Aircraft",
          "Electronic music",
          "Electric guitar",
          "Train horn",
          "Chirp, tweet",
          "Wedding music",
          "Piano",
          "Fly, housefly",
          "Thunder",
          "Ambulance (siren)",
          "Heavy metal",
          "Child speech, kid speaking",
          "Electronic tuner",
          "Ocean",
          "Thunderstorm",
          "Roll",
          "Ratchet, pawl",
          "Fire engine, fire truck (siren)",
          "Clickety-clack",
          "Cheering",
          "Race car, auto racing",
          "Gunshot, gunfire",
          "Rock music",
          "Medium engine (mid frequency)",
          "Organ",
          "Truck",
          "Distortion",
          "Cattle, bovinae",
          "Pigeon, dove",
          "Steam whistle",
          "Pizzicato",
          "Police car (siren)",
          "Trumpet",
          "Train whistle",
          "Choir",
          "Cluck",
          "Harmonic",
          "Cello",
          "Coo",
          "Skidding",
          "Double bass",
          "Glockenspiel",
          "Fixed-wing aircraft, airplane",
          "Wild animals",
          "Vocal music",
          "Gears",
          "Waves, surf",
          "Vehicle horn, car horn, honking",
          "Cymbal",
          "Rock and roll",
          "Tire squeal",
          "Yodeling",
          "Neigh, whinny",
          "Ship",
          "Chorus effect",
          "Hi-hat",
          "Happy music",
          "Crowing, cock-a-doodle-doo",
          "Mallet percussion",
          "Male speech, man speaking",
          "Bass guitar",
          "Scratch",
          "Burst, pop",
          "Steam",
          "Echo",
          "Bluegrass",
          "Country",
          "Christmas music",
          "Angry music",
          "Sound effect",
          "Bark",
          "Synthesizer",
          "A capella",
          "Moo",
          "Classical music",
          "Soundtrack music",
          "Yell",
          "Bow-wow",
          "Heart sounds, heartbeat",
          "Ringtone",
          "Background music",
          "Hiss",
          "Strum",
          "Fireworks",
          "Sizzle",
          "Horse",
          "Water tap, faucet",
          "Goose",
          "Yip",
          "Raindrop",
          "Baby laughter",
          "Owl",
          "Silence",
          "Toot",
          "Caw",
          "Gobble",
          "Noise",
          "Turkey",
          "Telephone",
          "Sheep",
          "Chuckle, chortle",
          "Meow",
          "Machine gun",
          "Inside, public space",
          "Dishes, pots, and pans",
          "Jingle (music)",
          "Power tool",
          "Filing (rasp)",
          "Children shouting",
          "Explosion",
          "Trombone",
          "Chime",
          "Throbbing",
          "Pop music",
          "Helicopter",
          "Electric piano",
          "Motorcycle",
          "Propeller, airscrew",
          "Acoustic guitar",
          "Canidae, dogs, wolves",
          "Whimper (dog)",
          "French horn",
          "Drum machine",
          "Train wheels squealing",
          "Mains hum",
          "Tick-tock",
          "Funny music",
          "Ding",
          "Honk",
          "Hubbub, speech noise, speech babble",
          "Independent music",
          "Giggle",
          "Violin, fiddle",
          "Punk rock",
          "Howl",
          "Bee, wasp, etc.",
          "Stir",
          "Rhythm and blues",
          "Gospel music",
          "Rapping",
          "Frog",
          "Fill (with liquid)",
          "Glass",
          "Cricket",
          "Cutlery, silverware",
          "Jet engine",
          "Goat",
          "Reverberation",
          "Funk",
          "Traffic noise, roadway noise",
          "Wind chime",
          "Cowbell",
          "Bathtub (filling or washing)",
          "Aircraft engine",
          "Crow",
          "Sliding door",
          "Bell",
          "Roaring cats (lions, tigers)",
          "Motorboat, speedboat",
          "Purr",
          "Bleat",
          "Hip hop music",
          "House music",
          "Firecracker",
          "Alarm",
          "Sink (filling or washing)",
          "Breathing",
          "Frying (food)",
          "Telephone bell ringing",
          "Trickle, dribble",
          "Battle cry",
          "Chainsaw",
          "Rain on surface",
          "Artillery fire",
          "Tick",
          "Banjo",
          "Subway, metro, underground",
          "Quack",
          "Hammond organ",
          "Tapping (guitar technique)",
          "Engine starting",
          "Electronic dance music",
          "Children playing",
          "Orchestra",
          "Caterwaul",
          "Stream",
          "Blues",
          "Dubstep",
          "Tender music",
          "Vibration",
          "Snicker",
          "Trance music",
          "Roar",
          "Air horn, truck horn",
          "Sailboat, sailing ship",
          "Patter",
          "Progressive rock",
          "Electronic organ",
          "Shout",
          "Bus",
          "Electronica",
          "Clip-clop",
          "Growling",
          "Doorbell",
          "Steel guitar, slide guitar",
          "Typing",
          "Scratching (performance technique)",
          "Mosquito",
          "Fire alarm",
          "Engine knocking",
          "Slosh",
          "Boom",
          "Croak",
          "Duck",
          "Liquid",
          "Groan",
          "Christian music",
          "Jingle, tinkle",
          "Whack, thwack",
          "Buzzer",
          "Humming",
          "Whoop",
          "Sad music",
          "Bellow",
          "Bird flight, flapping wings",
          "Computer keyboard",
          "Music for children",
          "Car alarm",
          "Pig",
          "Drill",
          "Chirp tone",
          "Rattle (instrument)",
          "Maraca",
          "Jazz",
          "Crying, sobbing",
          "Chant",
          "Sine wave",
          "Flap",
          "Sniff",
          "Car passing by",
          "Door",
          "Rattle",
          "Techno",
          "Static",
          "Screaming",
          "Rodents, rats, mice",
          "Baby cry, infant cry",
          "Flute",
          "Buzz",
          "Clapping",
          "Narration, monologue",
          "Belly laugh",
          "Biting",
          "Ska",
          "Creak",
          "Bicycle",
          "Rustle",
          "Rowboat, canoe, kayak",
          "Opera",
          "Splinter",
          "Shofar",
          "Clock",
          "Cacophony",
          "Heart murmur",
          "Tabla",
          "Shatter",
          "Gush",
          "Scrape",
          "Telephone dialing, DTMF",
          "Electric toothbrush",
          "Breaking",
          "Bang",
          "Heavy engine (low frequency)",
          "Microwave oven",
          "Zither",
          "Camera",
          "Ding-dong",
          "Traditional music",
          "Ukulele",
          "Harpsichord",
          "Music of Asia",
          "Female singing",
          "Child singing",
          "Folk music",
          "Psychedelic rock",
          "Conversation",
          "Bicycle bell",
          "Synthetic singing",
          "Pulleys",
          "New-age music",
          "Soul music",
          "Harmonica",
          "Reversing beeps",
          "Civil defense siren",
          "Chink, clink",
          "Disco",
          "Tubular bells",
          "Gargling",
          "Sampler",
          "Eruption",
          "Pump (liquid)",
          "Music of Latin America",
          "Run",
          "Oink",
          "Reggae",
          "Music of Africa",
          "Female speech, woman speaking",
          "Clarinet",
          "Male singing",
          "Toilet flush",
          "Alarm clock",
          "Drip",
          "Zing",
          "Sonar",
          "Throat clearing",
          "Fire",
          "Pulse",
          "Cupboard open or close",
          "Clang",
          "Squish",
          "Jackhammer",
          "Tearing",
          "Gasp",
          "Drawer open or close",
          "Sawing",
          "Chatter",
          "Clicking",
          "Flamenco",
          "Singing bowl",
          "Plop",
          "Wood block",
          "Splash, splatter",
          "Chop",
          "Whimper",
          "Snort",
          "Swing music",
          "Applause",
          "Beep, bleep",
          "Squeal",
          "Busy signal",
          "Finger snapping",
          "Snoring",
          "Carnatic music",
          "Coin (dropping)",
          "Rustling leaves",
          "Burping, eructation",
          "Electric shaver, electric razor",
          "Tap",
          "Smash, crash",
          "Accordion",
          "Smoke detector, smoke alarm",
          "White noise",
          "Gurgling",
          "Rumble",
          "Spray",
          "Field recording",
          "Boing",
          "Saxophone",
          "Skateboard",
          "Hiccup",
          "Radio",
          "Dial tone",
          "Light engine (high frequency)",
          "Waterfall",
          "Sneeze",
          "Knock",
          "Vibraphone",
          "Lawn mower",
          "Drum and bass",
          "Cough",
          "Scissors",
          "Speech synthesizer",
          "Thump, thud",
          "Harp",
          "Scary music",
          "Hoot",
          "Pink noise",
          "Salsa music",
          "Clatter",
          "Typewriter",
          "Hammer",
          "Shuffle",
          "Mandolin",
          "Single-lens reflex camera",
          "Keys jangling",
          "Middle Eastern music",
          "Theme music",
          "Lullaby",
          "Chewing, mastication",
          "Slam",
          "Mantra",
          "Television",
          "Gong",
          "Bouncing",
          "Wail, moan",
          "Sanding",
          "Crack",
          "Basketball bounce",
          "Bagpipes",
          "Wheeze",
          "Sidetone",
          "Toothbrush",
          "String section",
          "Pant",
          "Ping",
          "Crushing",
          "Pour",
          "Dental drill, dentist's drill",
          "Grunt",
          "Squeak",
          "Foghorn",
          "Air brake",
          "Video game music",
          "Shuffling cards",
          "Arrow",
          "Cap gun",
          "Blender",
          "Crackle",
          "Air conditioning",
          "Whale vocalization",
          "Jingle bell",
          "Timpani",
          "Sewing machine",
          "Whispering",
          "Babbling",
          "Squawk",
          "Steelpan",
          "Cash register",
          "Whistling",
          "Snake",
          "Grunge",
          "Boiling",
          "Crunch",
          "Slap, smack",
          "Stomach rumble",
          "Printer",
          "Whoosh, swoosh, swish",
          "Chopping (food)",
          "Crumpling, crinkling",
          "Power windows, electric windows",
          "Whir",
          "Zipper (clothing)",
          "Whip",
          "Vacuum cleaner",
          "Hair dryer",
          "Environmental noise",
          "Church bell",
          "Tambourine",
          "Didgeridoo",
          "Mechanical fan",
          "Mouse",
          "Fart",
          "Writing",
          "Walk, footsteps",
          "Beatboxing",
          "Tuning fork",
          "Sitar",
          "Ice cream truck, ice cream van",
          "Ambient music",
          "Fusillade",
          "Thunk",
          "Change ringing (campanology)",
          "Theremin",
          "Whistle",
          "Hands",
          "Music of Bollywood",
          "Afrobeat",
          "Sigh"
         ],
         "xaxis": "x",
         "y": [
          453,
          368,
          172,
          134,
          105,
          79,
          74,
          72,
          69,
          67,
          63,
          46,
          45,
          42,
          40,
          39,
          39,
          38,
          36,
          33,
          33,
          33,
          31,
          30,
          29,
          29,
          28,
          28,
          27,
          26,
          26,
          26,
          26,
          25,
          25,
          25,
          24,
          23,
          23,
          22,
          22,
          22,
          22,
          22,
          21,
          21,
          21,
          21,
          20,
          20,
          19,
          19,
          19,
          19,
          19,
          18,
          18,
          18,
          18,
          18,
          18,
          17,
          17,
          17,
          17,
          17,
          16,
          16,
          16,
          16,
          16,
          16,
          15,
          15,
          15,
          15,
          15,
          15,
          15,
          15,
          15,
          15,
          15,
          15,
          15,
          14,
          14,
          14,
          14,
          14,
          14,
          14,
          14,
          14,
          14,
          14,
          13,
          13,
          13,
          13,
          13,
          13,
          13,
          13,
          13,
          13,
          13,
          13,
          13,
          13,
          13,
          13,
          13,
          13,
          13,
          13,
          13,
          13,
          13,
          13,
          13,
          13,
          13,
          13,
          13,
          13,
          12,
          12,
          12,
          12,
          12,
          12,
          12,
          12,
          12,
          12,
          12,
          12,
          12,
          12,
          12,
          12,
          12,
          12,
          12,
          12,
          12,
          12,
          11,
          11,
          11,
          11,
          11,
          11,
          11,
          11,
          11,
          11,
          11,
          11,
          11,
          11,
          11,
          11,
          11,
          11,
          11,
          11,
          11,
          11,
          11,
          11,
          11,
          11,
          11,
          11,
          11,
          11,
          11,
          11,
          10,
          10,
          10,
          10,
          10,
          10,
          10,
          10,
          10,
          10,
          10,
          10,
          10,
          10,
          10,
          10,
          10,
          10,
          10,
          10,
          10,
          10,
          10,
          10,
          10,
          10,
          10,
          10,
          10,
          10,
          10,
          10,
          10,
          10,
          9,
          9,
          9,
          9,
          9,
          9,
          9,
          9,
          9,
          9,
          9,
          9,
          9,
          9,
          9,
          9,
          9,
          9,
          9,
          9,
          9,
          9,
          9,
          9,
          9,
          9,
          9,
          9,
          9,
          9,
          9,
          9,
          9,
          9,
          9,
          9,
          9,
          8,
          8,
          8,
          8,
          8,
          8,
          8,
          8,
          8,
          8,
          8,
          8,
          8,
          8,
          8,
          8,
          8,
          8,
          8,
          8,
          8,
          8,
          8,
          8,
          8,
          8,
          8,
          8,
          8,
          8,
          8,
          8,
          8,
          8,
          8,
          8,
          8,
          8,
          8,
          8,
          8,
          8,
          8,
          8,
          8,
          8,
          8,
          8,
          8,
          8,
          8,
          8,
          7,
          7,
          7,
          7,
          7,
          7,
          7,
          7,
          7,
          7,
          7,
          7,
          7,
          7,
          7,
          7,
          7,
          7,
          7,
          7,
          7,
          7,
          7,
          7,
          7,
          7,
          7,
          7,
          7,
          7,
          7,
          7,
          7,
          7,
          7,
          7,
          7,
          7,
          7,
          7,
          7,
          7,
          7,
          7,
          7,
          7,
          7,
          7,
          7,
          7,
          7,
          7,
          7,
          7,
          7,
          7,
          7,
          7,
          7,
          7,
          7,
          7,
          7,
          7,
          7,
          7,
          7,
          7,
          6,
          6,
          6,
          6,
          6,
          6,
          6,
          6,
          6,
          6,
          6,
          6,
          6,
          6,
          6,
          6,
          6,
          6,
          6,
          6,
          6,
          6,
          6,
          6,
          6,
          6,
          6,
          6,
          6,
          6,
          6,
          6,
          6,
          6,
          6,
          6,
          6,
          6,
          6,
          6,
          6,
          6,
          6,
          6,
          6,
          6,
          6,
          6,
          6,
          6,
          6,
          6,
          6,
          6,
          6,
          6,
          6,
          6,
          6,
          6,
          6,
          6,
          6,
          6,
          6,
          6,
          6,
          6,
          6,
          6,
          6,
          6,
          6,
          6,
          6,
          6,
          6,
          6,
          5,
          5,
          5,
          5,
          5,
          5,
          5,
          5,
          5,
          5,
          5,
          5,
          5,
          5,
          5,
          5,
          5,
          5,
          5,
          5,
          5,
          5,
          5,
          5,
          5,
          5,
          5,
          5,
          5,
          5,
          5,
          5,
          5,
          5,
          5,
          5,
          5,
          5,
          5,
          5,
          5,
          5,
          5,
          5,
          5,
          5,
          5,
          5,
          5,
          5,
          5,
          5,
          5,
          5,
          5,
          5,
          5,
          5,
          5,
          5,
          5,
          5,
          5,
          5,
          5,
          5,
          5,
          5,
          5,
          5,
          5,
          5,
          5,
          5,
          5,
          5,
          5,
          5
         ],
         "yaxis": "y"
        }
       ],
       "layout": {
        "barmode": "relative",
        "legend": {
         "title": {
          "text": "variable"
         },
         "tracegroupgap": 0
        },
        "showlegend": false,
        "template": {
         "data": {
          "bar": [
           {
            "error_x": {
             "color": "#2a3f5f"
            },
            "error_y": {
             "color": "#2a3f5f"
            },
            "marker": {
             "line": {
              "color": "#E5ECF6",
              "width": 0.5
             },
             "pattern": {
              "fillmode": "overlay",
              "size": 10,
              "solidity": 0.2
             }
            },
            "type": "bar"
           }
          ],
          "barpolar": [
           {
            "marker": {
             "line": {
              "color": "#E5ECF6",
              "width": 0.5
             },
             "pattern": {
              "fillmode": "overlay",
              "size": 10,
              "solidity": 0.2
             }
            },
            "type": "barpolar"
           }
          ],
          "carpet": [
           {
            "aaxis": {
             "endlinecolor": "#2a3f5f",
             "gridcolor": "white",
             "linecolor": "white",
             "minorgridcolor": "white",
             "startlinecolor": "#2a3f5f"
            },
            "baxis": {
             "endlinecolor": "#2a3f5f",
             "gridcolor": "white",
             "linecolor": "white",
             "minorgridcolor": "white",
             "startlinecolor": "#2a3f5f"
            },
            "type": "carpet"
           }
          ],
          "choropleth": [
           {
            "colorbar": {
             "outlinewidth": 0,
             "ticks": ""
            },
            "type": "choropleth"
           }
          ],
          "contour": [
           {
            "colorbar": {
             "outlinewidth": 0,
             "ticks": ""
            },
            "colorscale": [
             [
              0,
              "#0d0887"
             ],
             [
              0.1111111111111111,
              "#46039f"
             ],
             [
              0.2222222222222222,
              "#7201a8"
             ],
             [
              0.3333333333333333,
              "#9c179e"
             ],
             [
              0.4444444444444444,
              "#bd3786"
             ],
             [
              0.5555555555555556,
              "#d8576b"
             ],
             [
              0.6666666666666666,
              "#ed7953"
             ],
             [
              0.7777777777777778,
              "#fb9f3a"
             ],
             [
              0.8888888888888888,
              "#fdca26"
             ],
             [
              1,
              "#f0f921"
             ]
            ],
            "type": "contour"
           }
          ],
          "contourcarpet": [
           {
            "colorbar": {
             "outlinewidth": 0,
             "ticks": ""
            },
            "type": "contourcarpet"
           }
          ],
          "heatmap": [
           {
            "colorbar": {
             "outlinewidth": 0,
             "ticks": ""
            },
            "colorscale": [
             [
              0,
              "#0d0887"
             ],
             [
              0.1111111111111111,
              "#46039f"
             ],
             [
              0.2222222222222222,
              "#7201a8"
             ],
             [
              0.3333333333333333,
              "#9c179e"
             ],
             [
              0.4444444444444444,
              "#bd3786"
             ],
             [
              0.5555555555555556,
              "#d8576b"
             ],
             [
              0.6666666666666666,
              "#ed7953"
             ],
             [
              0.7777777777777778,
              "#fb9f3a"
             ],
             [
              0.8888888888888888,
              "#fdca26"
             ],
             [
              1,
              "#f0f921"
             ]
            ],
            "type": "heatmap"
           }
          ],
          "heatmapgl": [
           {
            "colorbar": {
             "outlinewidth": 0,
             "ticks": ""
            },
            "colorscale": [
             [
              0,
              "#0d0887"
             ],
             [
              0.1111111111111111,
              "#46039f"
             ],
             [
              0.2222222222222222,
              "#7201a8"
             ],
             [
              0.3333333333333333,
              "#9c179e"
             ],
             [
              0.4444444444444444,
              "#bd3786"
             ],
             [
              0.5555555555555556,
              "#d8576b"
             ],
             [
              0.6666666666666666,
              "#ed7953"
             ],
             [
              0.7777777777777778,
              "#fb9f3a"
             ],
             [
              0.8888888888888888,
              "#fdca26"
             ],
             [
              1,
              "#f0f921"
             ]
            ],
            "type": "heatmapgl"
           }
          ],
          "histogram": [
           {
            "marker": {
             "pattern": {
              "fillmode": "overlay",
              "size": 10,
              "solidity": 0.2
             }
            },
            "type": "histogram"
           }
          ],
          "histogram2d": [
           {
            "colorbar": {
             "outlinewidth": 0,
             "ticks": ""
            },
            "colorscale": [
             [
              0,
              "#0d0887"
             ],
             [
              0.1111111111111111,
              "#46039f"
             ],
             [
              0.2222222222222222,
              "#7201a8"
             ],
             [
              0.3333333333333333,
              "#9c179e"
             ],
             [
              0.4444444444444444,
              "#bd3786"
             ],
             [
              0.5555555555555556,
              "#d8576b"
             ],
             [
              0.6666666666666666,
              "#ed7953"
             ],
             [
              0.7777777777777778,
              "#fb9f3a"
             ],
             [
              0.8888888888888888,
              "#fdca26"
             ],
             [
              1,
              "#f0f921"
             ]
            ],
            "type": "histogram2d"
           }
          ],
          "histogram2dcontour": [
           {
            "colorbar": {
             "outlinewidth": 0,
             "ticks": ""
            },
            "colorscale": [
             [
              0,
              "#0d0887"
             ],
             [
              0.1111111111111111,
              "#46039f"
             ],
             [
              0.2222222222222222,
              "#7201a8"
             ],
             [
              0.3333333333333333,
              "#9c179e"
             ],
             [
              0.4444444444444444,
              "#bd3786"
             ],
             [
              0.5555555555555556,
              "#d8576b"
             ],
             [
              0.6666666666666666,
              "#ed7953"
             ],
             [
              0.7777777777777778,
              "#fb9f3a"
             ],
             [
              0.8888888888888888,
              "#fdca26"
             ],
             [
              1,
              "#f0f921"
             ]
            ],
            "type": "histogram2dcontour"
           }
          ],
          "mesh3d": [
           {
            "colorbar": {
             "outlinewidth": 0,
             "ticks": ""
            },
            "type": "mesh3d"
           }
          ],
          "parcoords": [
           {
            "line": {
             "colorbar": {
              "outlinewidth": 0,
              "ticks": ""
             }
            },
            "type": "parcoords"
           }
          ],
          "pie": [
           {
            "automargin": true,
            "type": "pie"
           }
          ],
          "scatter": [
           {
            "fillpattern": {
             "fillmode": "overlay",
             "size": 10,
             "solidity": 0.2
            },
            "type": "scatter"
           }
          ],
          "scatter3d": [
           {
            "line": {
             "colorbar": {
              "outlinewidth": 0,
              "ticks": ""
             }
            },
            "marker": {
             "colorbar": {
              "outlinewidth": 0,
              "ticks": ""
             }
            },
            "type": "scatter3d"
           }
          ],
          "scattercarpet": [
           {
            "marker": {
             "colorbar": {
              "outlinewidth": 0,
              "ticks": ""
             }
            },
            "type": "scattercarpet"
           }
          ],
          "scattergeo": [
           {
            "marker": {
             "colorbar": {
              "outlinewidth": 0,
              "ticks": ""
             }
            },
            "type": "scattergeo"
           }
          ],
          "scattergl": [
           {
            "marker": {
             "colorbar": {
              "outlinewidth": 0,
              "ticks": ""
             }
            },
            "type": "scattergl"
           }
          ],
          "scattermapbox": [
           {
            "marker": {
             "colorbar": {
              "outlinewidth": 0,
              "ticks": ""
             }
            },
            "type": "scattermapbox"
           }
          ],
          "scatterpolar": [
           {
            "marker": {
             "colorbar": {
              "outlinewidth": 0,
              "ticks": ""
             }
            },
            "type": "scatterpolar"
           }
          ],
          "scatterpolargl": [
           {
            "marker": {
             "colorbar": {
              "outlinewidth": 0,
              "ticks": ""
             }
            },
            "type": "scatterpolargl"
           }
          ],
          "scatterternary": [
           {
            "marker": {
             "colorbar": {
              "outlinewidth": 0,
              "ticks": ""
             }
            },
            "type": "scatterternary"
           }
          ],
          "surface": [
           {
            "colorbar": {
             "outlinewidth": 0,
             "ticks": ""
            },
            "colorscale": [
             [
              0,
              "#0d0887"
             ],
             [
              0.1111111111111111,
              "#46039f"
             ],
             [
              0.2222222222222222,
              "#7201a8"
             ],
             [
              0.3333333333333333,
              "#9c179e"
             ],
             [
              0.4444444444444444,
              "#bd3786"
             ],
             [
              0.5555555555555556,
              "#d8576b"
             ],
             [
              0.6666666666666666,
              "#ed7953"
             ],
             [
              0.7777777777777778,
              "#fb9f3a"
             ],
             [
              0.8888888888888888,
              "#fdca26"
             ],
             [
              1,
              "#f0f921"
             ]
            ],
            "type": "surface"
           }
          ],
          "table": [
           {
            "cells": {
             "fill": {
              "color": "#EBF0F8"
             },
             "line": {
              "color": "white"
             }
            },
            "header": {
             "fill": {
              "color": "#C8D4E3"
             },
             "line": {
              "color": "white"
             }
            },
            "type": "table"
           }
          ]
         },
         "layout": {
          "annotationdefaults": {
           "arrowcolor": "#2a3f5f",
           "arrowhead": 0,
           "arrowwidth": 1
          },
          "autotypenumbers": "strict",
          "coloraxis": {
           "colorbar": {
            "outlinewidth": 0,
            "ticks": ""
           }
          },
          "colorscale": {
           "diverging": [
            [
             0,
             "#8e0152"
            ],
            [
             0.1,
             "#c51b7d"
            ],
            [
             0.2,
             "#de77ae"
            ],
            [
             0.3,
             "#f1b6da"
            ],
            [
             0.4,
             "#fde0ef"
            ],
            [
             0.5,
             "#f7f7f7"
            ],
            [
             0.6,
             "#e6f5d0"
            ],
            [
             0.7,
             "#b8e186"
            ],
            [
             0.8,
             "#7fbc41"
            ],
            [
             0.9,
             "#4d9221"
            ],
            [
             1,
             "#276419"
            ]
           ],
           "sequential": [
            [
             0,
             "#0d0887"
            ],
            [
             0.1111111111111111,
             "#46039f"
            ],
            [
             0.2222222222222222,
             "#7201a8"
            ],
            [
             0.3333333333333333,
             "#9c179e"
            ],
            [
             0.4444444444444444,
             "#bd3786"
            ],
            [
             0.5555555555555556,
             "#d8576b"
            ],
            [
             0.6666666666666666,
             "#ed7953"
            ],
            [
             0.7777777777777778,
             "#fb9f3a"
            ],
            [
             0.8888888888888888,
             "#fdca26"
            ],
            [
             1,
             "#f0f921"
            ]
           ],
           "sequentialminus": [
            [
             0,
             "#0d0887"
            ],
            [
             0.1111111111111111,
             "#46039f"
            ],
            [
             0.2222222222222222,
             "#7201a8"
            ],
            [
             0.3333333333333333,
             "#9c179e"
            ],
            [
             0.4444444444444444,
             "#bd3786"
            ],
            [
             0.5555555555555556,
             "#d8576b"
            ],
            [
             0.6666666666666666,
             "#ed7953"
            ],
            [
             0.7777777777777778,
             "#fb9f3a"
            ],
            [
             0.8888888888888888,
             "#fdca26"
            ],
            [
             1,
             "#f0f921"
            ]
           ]
          },
          "colorway": [
           "#636efa",
           "#EF553B",
           "#00cc96",
           "#ab63fa",
           "#FFA15A",
           "#19d3f3",
           "#FF6692",
           "#B6E880",
           "#FF97FF",
           "#FECB52"
          ],
          "font": {
           "color": "#2a3f5f"
          },
          "geo": {
           "bgcolor": "white",
           "lakecolor": "white",
           "landcolor": "#E5ECF6",
           "showlakes": true,
           "showland": true,
           "subunitcolor": "white"
          },
          "hoverlabel": {
           "align": "left"
          },
          "hovermode": "closest",
          "mapbox": {
           "style": "light"
          },
          "paper_bgcolor": "white",
          "plot_bgcolor": "#E5ECF6",
          "polar": {
           "angularaxis": {
            "gridcolor": "white",
            "linecolor": "white",
            "ticks": ""
           },
           "bgcolor": "#E5ECF6",
           "radialaxis": {
            "gridcolor": "white",
            "linecolor": "white",
            "ticks": ""
           }
          },
          "scene": {
           "xaxis": {
            "backgroundcolor": "#E5ECF6",
            "gridcolor": "white",
            "gridwidth": 2,
            "linecolor": "white",
            "showbackground": true,
            "ticks": "",
            "zerolinecolor": "white"
           },
           "yaxis": {
            "backgroundcolor": "#E5ECF6",
            "gridcolor": "white",
            "gridwidth": 2,
            "linecolor": "white",
            "showbackground": true,
            "ticks": "",
            "zerolinecolor": "white"
           },
           "zaxis": {
            "backgroundcolor": "#E5ECF6",
            "gridcolor": "white",
            "gridwidth": 2,
            "linecolor": "white",
            "showbackground": true,
            "ticks": "",
            "zerolinecolor": "white"
           }
          },
          "shapedefaults": {
           "line": {
            "color": "#2a3f5f"
           }
          },
          "ternary": {
           "aaxis": {
            "gridcolor": "white",
            "linecolor": "white",
            "ticks": ""
           },
           "baxis": {
            "gridcolor": "white",
            "linecolor": "white",
            "ticks": ""
           },
           "bgcolor": "#E5ECF6",
           "caxis": {
            "gridcolor": "white",
            "linecolor": "white",
            "ticks": ""
           }
          },
          "title": {
           "x": 0.05
          },
          "xaxis": {
           "automargin": true,
           "gridcolor": "white",
           "linecolor": "white",
           "ticks": "",
           "title": {
            "standoff": 15
           },
           "zerolinecolor": "white",
           "zerolinewidth": 2
          },
          "yaxis": {
           "automargin": true,
           "gridcolor": "white",
           "linecolor": "white",
           "ticks": "",
           "title": {
            "standoff": 15
           },
           "zerolinecolor": "white",
           "zerolinewidth": 2
          }
         }
        },
        "title": {
         "text": "Label Distribution"
        },
        "xaxis": {
         "anchor": "y",
         "domain": [
          0,
          1
         ],
         "tickangle": 45,
         "title": {
          "text": "index"
         }
        },
        "yaxis": {
         "anchor": "x",
         "domain": [
          0,
          1
         ],
         "title": {
          "text": "value"
         }
        }
       }
      },
      "text/html": [
       "<div>                            <div id=\"e660cc9e-e394-43bf-8e20-a13528490529\" class=\"plotly-graph-div\" style=\"height:525px; width:100%;\"></div>            <script type=\"text/javascript\">                require([\"plotly\"], function(Plotly) {                    window.PLOTLYENV=window.PLOTLYENV || {};                                    if (document.getElementById(\"e660cc9e-e394-43bf-8e20-a13528490529\")) {                    Plotly.newPlot(                        \"e660cc9e-e394-43bf-8e20-a13528490529\",                        [{\"alignmentgroup\":\"True\",\"hovertemplate\":\"variable=labels<br>index=%{x}<br>value=%{y}<extra></extra>\",\"legendgroup\":\"labels\",\"marker\":{\"color\":\"#636efa\",\"pattern\":{\"shape\":\"\"}},\"name\":\"labels\",\"offsetgroup\":\"labels\",\"orientation\":\"v\",\"showlegend\":true,\"textposition\":\"auto\",\"x\":[\"Music\",\"Speech\",\"Vehicle\",\"Animal\",\"Musical instrument\",\"Inside, small room\",\"Singing\",\"Guitar\",\"Domestic animals, pets\",\"Car\",\"Plucked string instrument\",\"Dog\",\"Train\",\"Percussion\",\"Railroad car, train wagon\",\"Fowl\",\"Drum\",\"Rail transport\",\"Engine\",\"Song\",\"Bird\",\"Crowd\",\"Outside, rural or natural\",\"Drum kit\",\"Bass drum\",\"Boat, Water vehicle\",\"Outside, urban or manmade\",\"Water\",\"Wood\",\"Siren\",\"Insect\",\"Wind\",\"Emergency vehicle\",\"Rimshot\",\"Snare drum\",\"Wind instrument, woodwind instrument\",\"Effects unit\",\"Livestock, farm animals, working animals\",\"Bowed string instrument\",\"Keyboard (musical)\",\"Rub\",\"Chicken, rooster\",\"Bird vocalization, bird call, bird song\",\"Brass instrument\",\"Cat\",\"Motor vehicle (road)\",\"Mechanisms\",\"Drum roll\",\"Rain\",\"Accelerating, revving, vroom\",\"Idling\",\"Inside, large room or hall\",\"Wind noise (microphone)\",\"Tools\",\"Exciting music\",\"Marimba, xylophone\",\"Hum\",\"Laughter\",\"Dance music\",\"Aircraft\",\"Electronic music\",\"Electric guitar\",\"Train horn\",\"Chirp, tweet\",\"Wedding music\",\"Piano\",\"Fly, housefly\",\"Thunder\",\"Ambulance (siren)\",\"Heavy metal\",\"Child speech, kid speaking\",\"Electronic tuner\",\"Ocean\",\"Thunderstorm\",\"Roll\",\"Ratchet, pawl\",\"Fire engine, fire truck (siren)\",\"Clickety-clack\",\"Cheering\",\"Race car, auto racing\",\"Gunshot, gunfire\",\"Rock music\",\"Medium engine (mid frequency)\",\"Organ\",\"Truck\",\"Distortion\",\"Cattle, bovinae\",\"Pigeon, dove\",\"Steam whistle\",\"Pizzicato\",\"Police car (siren)\",\"Trumpet\",\"Train whistle\",\"Choir\",\"Cluck\",\"Harmonic\",\"Cello\",\"Coo\",\"Skidding\",\"Double bass\",\"Glockenspiel\",\"Fixed-wing aircraft, airplane\",\"Wild animals\",\"Vocal music\",\"Gears\",\"Waves, surf\",\"Vehicle horn, car horn, honking\",\"Cymbal\",\"Rock and roll\",\"Tire squeal\",\"Yodeling\",\"Neigh, whinny\",\"Ship\",\"Chorus effect\",\"Hi-hat\",\"Happy music\",\"Crowing, cock-a-doodle-doo\",\"Mallet percussion\",\"Male speech, man speaking\",\"Bass guitar\",\"Scratch\",\"Burst, pop\",\"Steam\",\"Echo\",\"Bluegrass\",\"Country\",\"Christmas music\",\"Angry music\",\"Sound effect\",\"Bark\",\"Synthesizer\",\"A capella\",\"Moo\",\"Classical music\",\"Soundtrack music\",\"Yell\",\"Bow-wow\",\"Heart sounds, heartbeat\",\"Ringtone\",\"Background music\",\"Hiss\",\"Strum\",\"Fireworks\",\"Sizzle\",\"Horse\",\"Water tap, faucet\",\"Goose\",\"Yip\",\"Raindrop\",\"Baby laughter\",\"Owl\",\"Silence\",\"Toot\",\"Caw\",\"Gobble\",\"Noise\",\"Turkey\",\"Telephone\",\"Sheep\",\"Chuckle, chortle\",\"Meow\",\"Machine gun\",\"Inside, public space\",\"Dishes, pots, and pans\",\"Jingle (music)\",\"Power tool\",\"Filing (rasp)\",\"Children shouting\",\"Explosion\",\"Trombone\",\"Chime\",\"Throbbing\",\"Pop music\",\"Helicopter\",\"Electric piano\",\"Motorcycle\",\"Propeller, airscrew\",\"Acoustic guitar\",\"Canidae, dogs, wolves\",\"Whimper (dog)\",\"French horn\",\"Drum machine\",\"Train wheels squealing\",\"Mains hum\",\"Tick-tock\",\"Funny music\",\"Ding\",\"Honk\",\"Hubbub, speech noise, speech babble\",\"Independent music\",\"Giggle\",\"Violin, fiddle\",\"Punk rock\",\"Howl\",\"Bee, wasp, etc.\",\"Stir\",\"Rhythm and blues\",\"Gospel music\",\"Rapping\",\"Frog\",\"Fill (with liquid)\",\"Glass\",\"Cricket\",\"Cutlery, silverware\",\"Jet engine\",\"Goat\",\"Reverberation\",\"Funk\",\"Traffic noise, roadway noise\",\"Wind chime\",\"Cowbell\",\"Bathtub (filling or washing)\",\"Aircraft engine\",\"Crow\",\"Sliding door\",\"Bell\",\"Roaring cats (lions, tigers)\",\"Motorboat, speedboat\",\"Purr\",\"Bleat\",\"Hip hop music\",\"House music\",\"Firecracker\",\"Alarm\",\"Sink (filling or washing)\",\"Breathing\",\"Frying (food)\",\"Telephone bell ringing\",\"Trickle, dribble\",\"Battle cry\",\"Chainsaw\",\"Rain on surface\",\"Artillery fire\",\"Tick\",\"Banjo\",\"Subway, metro, underground\",\"Quack\",\"Hammond organ\",\"Tapping (guitar technique)\",\"Engine starting\",\"Electronic dance music\",\"Children playing\",\"Orchestra\",\"Caterwaul\",\"Stream\",\"Blues\",\"Dubstep\",\"Tender music\",\"Vibration\",\"Snicker\",\"Trance music\",\"Roar\",\"Air horn, truck horn\",\"Sailboat, sailing ship\",\"Patter\",\"Progressive rock\",\"Electronic organ\",\"Shout\",\"Bus\",\"Electronica\",\"Clip-clop\",\"Growling\",\"Doorbell\",\"Steel guitar, slide guitar\",\"Typing\",\"Scratching (performance technique)\",\"Mosquito\",\"Fire alarm\",\"Engine knocking\",\"Slosh\",\"Boom\",\"Croak\",\"Duck\",\"Liquid\",\"Groan\",\"Christian music\",\"Jingle, tinkle\",\"Whack, thwack\",\"Buzzer\",\"Humming\",\"Whoop\",\"Sad music\",\"Bellow\",\"Bird flight, flapping wings\",\"Computer keyboard\",\"Music for children\",\"Car alarm\",\"Pig\",\"Drill\",\"Chirp tone\",\"Rattle (instrument)\",\"Maraca\",\"Jazz\",\"Crying, sobbing\",\"Chant\",\"Sine wave\",\"Flap\",\"Sniff\",\"Car passing by\",\"Door\",\"Rattle\",\"Techno\",\"Static\",\"Screaming\",\"Rodents, rats, mice\",\"Baby cry, infant cry\",\"Flute\",\"Buzz\",\"Clapping\",\"Narration, monologue\",\"Belly laugh\",\"Biting\",\"Ska\",\"Creak\",\"Bicycle\",\"Rustle\",\"Rowboat, canoe, kayak\",\"Opera\",\"Splinter\",\"Shofar\",\"Clock\",\"Cacophony\",\"Heart murmur\",\"Tabla\",\"Shatter\",\"Gush\",\"Scrape\",\"Telephone dialing, DTMF\",\"Electric toothbrush\",\"Breaking\",\"Bang\",\"Heavy engine (low frequency)\",\"Microwave oven\",\"Zither\",\"Camera\",\"Ding-dong\",\"Traditional music\",\"Ukulele\",\"Harpsichord\",\"Music of Asia\",\"Female singing\",\"Child singing\",\"Folk music\",\"Psychedelic rock\",\"Conversation\",\"Bicycle bell\",\"Synthetic singing\",\"Pulleys\",\"New-age music\",\"Soul music\",\"Harmonica\",\"Reversing beeps\",\"Civil defense siren\",\"Chink, clink\",\"Disco\",\"Tubular bells\",\"Gargling\",\"Sampler\",\"Eruption\",\"Pump (liquid)\",\"Music of Latin America\",\"Run\",\"Oink\",\"Reggae\",\"Music of Africa\",\"Female speech, woman speaking\",\"Clarinet\",\"Male singing\",\"Toilet flush\",\"Alarm clock\",\"Drip\",\"Zing\",\"Sonar\",\"Throat clearing\",\"Fire\",\"Pulse\",\"Cupboard open or close\",\"Clang\",\"Squish\",\"Jackhammer\",\"Tearing\",\"Gasp\",\"Drawer open or close\",\"Sawing\",\"Chatter\",\"Clicking\",\"Flamenco\",\"Singing bowl\",\"Plop\",\"Wood block\",\"Splash, splatter\",\"Chop\",\"Whimper\",\"Snort\",\"Swing music\",\"Applause\",\"Beep, bleep\",\"Squeal\",\"Busy signal\",\"Finger snapping\",\"Snoring\",\"Carnatic music\",\"Coin (dropping)\",\"Rustling leaves\",\"Burping, eructation\",\"Electric shaver, electric razor\",\"Tap\",\"Smash, crash\",\"Accordion\",\"Smoke detector, smoke alarm\",\"White noise\",\"Gurgling\",\"Rumble\",\"Spray\",\"Field recording\",\"Boing\",\"Saxophone\",\"Skateboard\",\"Hiccup\",\"Radio\",\"Dial tone\",\"Light engine (high frequency)\",\"Waterfall\",\"Sneeze\",\"Knock\",\"Vibraphone\",\"Lawn mower\",\"Drum and bass\",\"Cough\",\"Scissors\",\"Speech synthesizer\",\"Thump, thud\",\"Harp\",\"Scary music\",\"Hoot\",\"Pink noise\",\"Salsa music\",\"Clatter\",\"Typewriter\",\"Hammer\",\"Shuffle\",\"Mandolin\",\"Single-lens reflex camera\",\"Keys jangling\",\"Middle Eastern music\",\"Theme music\",\"Lullaby\",\"Chewing, mastication\",\"Slam\",\"Mantra\",\"Television\",\"Gong\",\"Bouncing\",\"Wail, moan\",\"Sanding\",\"Crack\",\"Basketball bounce\",\"Bagpipes\",\"Wheeze\",\"Sidetone\",\"Toothbrush\",\"String section\",\"Pant\",\"Ping\",\"Crushing\",\"Pour\",\"Dental drill, dentist's drill\",\"Grunt\",\"Squeak\",\"Foghorn\",\"Air brake\",\"Video game music\",\"Shuffling cards\",\"Arrow\",\"Cap gun\",\"Blender\",\"Crackle\",\"Air conditioning\",\"Whale vocalization\",\"Jingle bell\",\"Timpani\",\"Sewing machine\",\"Whispering\",\"Babbling\",\"Squawk\",\"Steelpan\",\"Cash register\",\"Whistling\",\"Snake\",\"Grunge\",\"Boiling\",\"Crunch\",\"Slap, smack\",\"Stomach rumble\",\"Printer\",\"Whoosh, swoosh, swish\",\"Chopping (food)\",\"Crumpling, crinkling\",\"Power windows, electric windows\",\"Whir\",\"Zipper (clothing)\",\"Whip\",\"Vacuum cleaner\",\"Hair dryer\",\"Environmental noise\",\"Church bell\",\"Tambourine\",\"Didgeridoo\",\"Mechanical fan\",\"Mouse\",\"Fart\",\"Writing\",\"Walk, footsteps\",\"Beatboxing\",\"Tuning fork\",\"Sitar\",\"Ice cream truck, ice cream van\",\"Ambient music\",\"Fusillade\",\"Thunk\",\"Change ringing (campanology)\",\"Theremin\",\"Whistle\",\"Hands\",\"Music of Bollywood\",\"Afrobeat\",\"Sigh\"],\"xaxis\":\"x\",\"y\":[453,368,172,134,105,79,74,72,69,67,63,46,45,42,40,39,39,38,36,33,33,33,31,30,29,29,28,28,27,26,26,26,26,25,25,25,24,23,23,22,22,22,22,22,21,21,21,21,20,20,19,19,19,19,19,18,18,18,18,18,18,17,17,17,17,17,16,16,16,16,16,16,15,15,15,15,15,15,15,15,15,15,15,15,15,14,14,14,14,14,14,14,14,14,14,14,13,13,13,13,13,13,13,13,13,13,13,13,13,13,13,13,13,13,13,13,13,13,13,13,13,13,13,13,13,13,12,12,12,12,12,12,12,12,12,12,12,12,12,12,12,12,12,12,12,12,12,12,11,11,11,11,11,11,11,11,11,11,11,11,11,11,11,11,11,11,11,11,11,11,11,11,11,11,11,11,11,11,11,11,10,10,10,10,10,10,10,10,10,10,10,10,10,10,10,10,10,10,10,10,10,10,10,10,10,10,10,10,10,10,10,10,10,10,9,9,9,9,9,9,9,9,9,9,9,9,9,9,9,9,9,9,9,9,9,9,9,9,9,9,9,9,9,9,9,9,9,9,9,9,9,8,8,8,8,8,8,8,8,8,8,8,8,8,8,8,8,8,8,8,8,8,8,8,8,8,8,8,8,8,8,8,8,8,8,8,8,8,8,8,8,8,8,8,8,8,8,8,8,8,8,8,8,7,7,7,7,7,7,7,7,7,7,7,7,7,7,7,7,7,7,7,7,7,7,7,7,7,7,7,7,7,7,7,7,7,7,7,7,7,7,7,7,7,7,7,7,7,7,7,7,7,7,7,7,7,7,7,7,7,7,7,7,7,7,7,7,7,7,7,7,6,6,6,6,6,6,6,6,6,6,6,6,6,6,6,6,6,6,6,6,6,6,6,6,6,6,6,6,6,6,6,6,6,6,6,6,6,6,6,6,6,6,6,6,6,6,6,6,6,6,6,6,6,6,6,6,6,6,6,6,6,6,6,6,6,6,6,6,6,6,6,6,6,6,6,6,6,6,5,5,5,5,5,5,5,5,5,5,5,5,5,5,5,5,5,5,5,5,5,5,5,5,5,5,5,5,5,5,5,5,5,5,5,5,5,5,5,5,5,5,5,5,5,5,5,5,5,5,5,5,5,5,5,5,5,5,5,5,5,5,5,5,5,5,5,5,5,5,5,5,5,5,5,5,5,5],\"yaxis\":\"y\",\"type\":\"bar\"}],                        {\"template\":{\"data\":{\"histogram2dcontour\":[{\"type\":\"histogram2dcontour\",\"colorbar\":{\"outlinewidth\":0,\"ticks\":\"\"},\"colorscale\":[[0.0,\"#0d0887\"],[0.1111111111111111,\"#46039f\"],[0.2222222222222222,\"#7201a8\"],[0.3333333333333333,\"#9c179e\"],[0.4444444444444444,\"#bd3786\"],[0.5555555555555556,\"#d8576b\"],[0.6666666666666666,\"#ed7953\"],[0.7777777777777778,\"#fb9f3a\"],[0.8888888888888888,\"#fdca26\"],[1.0,\"#f0f921\"]]}],\"choropleth\":[{\"type\":\"choropleth\",\"colorbar\":{\"outlinewidth\":0,\"ticks\":\"\"}}],\"histogram2d\":[{\"type\":\"histogram2d\",\"colorbar\":{\"outlinewidth\":0,\"ticks\":\"\"},\"colorscale\":[[0.0,\"#0d0887\"],[0.1111111111111111,\"#46039f\"],[0.2222222222222222,\"#7201a8\"],[0.3333333333333333,\"#9c179e\"],[0.4444444444444444,\"#bd3786\"],[0.5555555555555556,\"#d8576b\"],[0.6666666666666666,\"#ed7953\"],[0.7777777777777778,\"#fb9f3a\"],[0.8888888888888888,\"#fdca26\"],[1.0,\"#f0f921\"]]}],\"heatmap\":[{\"type\":\"heatmap\",\"colorbar\":{\"outlinewidth\":0,\"ticks\":\"\"},\"colorscale\":[[0.0,\"#0d0887\"],[0.1111111111111111,\"#46039f\"],[0.2222222222222222,\"#7201a8\"],[0.3333333333333333,\"#9c179e\"],[0.4444444444444444,\"#bd3786\"],[0.5555555555555556,\"#d8576b\"],[0.6666666666666666,\"#ed7953\"],[0.7777777777777778,\"#fb9f3a\"],[0.8888888888888888,\"#fdca26\"],[1.0,\"#f0f921\"]]}],\"heatmapgl\":[{\"type\":\"heatmapgl\",\"colorbar\":{\"outlinewidth\":0,\"ticks\":\"\"},\"colorscale\":[[0.0,\"#0d0887\"],[0.1111111111111111,\"#46039f\"],[0.2222222222222222,\"#7201a8\"],[0.3333333333333333,\"#9c179e\"],[0.4444444444444444,\"#bd3786\"],[0.5555555555555556,\"#d8576b\"],[0.6666666666666666,\"#ed7953\"],[0.7777777777777778,\"#fb9f3a\"],[0.8888888888888888,\"#fdca26\"],[1.0,\"#f0f921\"]]}],\"contourcarpet\":[{\"type\":\"contourcarpet\",\"colorbar\":{\"outlinewidth\":0,\"ticks\":\"\"}}],\"contour\":[{\"type\":\"contour\",\"colorbar\":{\"outlinewidth\":0,\"ticks\":\"\"},\"colorscale\":[[0.0,\"#0d0887\"],[0.1111111111111111,\"#46039f\"],[0.2222222222222222,\"#7201a8\"],[0.3333333333333333,\"#9c179e\"],[0.4444444444444444,\"#bd3786\"],[0.5555555555555556,\"#d8576b\"],[0.6666666666666666,\"#ed7953\"],[0.7777777777777778,\"#fb9f3a\"],[0.8888888888888888,\"#fdca26\"],[1.0,\"#f0f921\"]]}],\"surface\":[{\"type\":\"surface\",\"colorbar\":{\"outlinewidth\":0,\"ticks\":\"\"},\"colorscale\":[[0.0,\"#0d0887\"],[0.1111111111111111,\"#46039f\"],[0.2222222222222222,\"#7201a8\"],[0.3333333333333333,\"#9c179e\"],[0.4444444444444444,\"#bd3786\"],[0.5555555555555556,\"#d8576b\"],[0.6666666666666666,\"#ed7953\"],[0.7777777777777778,\"#fb9f3a\"],[0.8888888888888888,\"#fdca26\"],[1.0,\"#f0f921\"]]}],\"mesh3d\":[{\"type\":\"mesh3d\",\"colorbar\":{\"outlinewidth\":0,\"ticks\":\"\"}}],\"scatter\":[{\"fillpattern\":{\"fillmode\":\"overlay\",\"size\":10,\"solidity\":0.2},\"type\":\"scatter\"}],\"parcoords\":[{\"type\":\"parcoords\",\"line\":{\"colorbar\":{\"outlinewidth\":0,\"ticks\":\"\"}}}],\"scatterpolargl\":[{\"type\":\"scatterpolargl\",\"marker\":{\"colorbar\":{\"outlinewidth\":0,\"ticks\":\"\"}}}],\"bar\":[{\"error_x\":{\"color\":\"#2a3f5f\"},\"error_y\":{\"color\":\"#2a3f5f\"},\"marker\":{\"line\":{\"color\":\"#E5ECF6\",\"width\":0.5},\"pattern\":{\"fillmode\":\"overlay\",\"size\":10,\"solidity\":0.2}},\"type\":\"bar\"}],\"scattergeo\":[{\"type\":\"scattergeo\",\"marker\":{\"colorbar\":{\"outlinewidth\":0,\"ticks\":\"\"}}}],\"scatterpolar\":[{\"type\":\"scatterpolar\",\"marker\":{\"colorbar\":{\"outlinewidth\":0,\"ticks\":\"\"}}}],\"histogram\":[{\"marker\":{\"pattern\":{\"fillmode\":\"overlay\",\"size\":10,\"solidity\":0.2}},\"type\":\"histogram\"}],\"scattergl\":[{\"type\":\"scattergl\",\"marker\":{\"colorbar\":{\"outlinewidth\":0,\"ticks\":\"\"}}}],\"scatter3d\":[{\"type\":\"scatter3d\",\"line\":{\"colorbar\":{\"outlinewidth\":0,\"ticks\":\"\"}},\"marker\":{\"colorbar\":{\"outlinewidth\":0,\"ticks\":\"\"}}}],\"scattermapbox\":[{\"type\":\"scattermapbox\",\"marker\":{\"colorbar\":{\"outlinewidth\":0,\"ticks\":\"\"}}}],\"scatterternary\":[{\"type\":\"scatterternary\",\"marker\":{\"colorbar\":{\"outlinewidth\":0,\"ticks\":\"\"}}}],\"scattercarpet\":[{\"type\":\"scattercarpet\",\"marker\":{\"colorbar\":{\"outlinewidth\":0,\"ticks\":\"\"}}}],\"carpet\":[{\"aaxis\":{\"endlinecolor\":\"#2a3f5f\",\"gridcolor\":\"white\",\"linecolor\":\"white\",\"minorgridcolor\":\"white\",\"startlinecolor\":\"#2a3f5f\"},\"baxis\":{\"endlinecolor\":\"#2a3f5f\",\"gridcolor\":\"white\",\"linecolor\":\"white\",\"minorgridcolor\":\"white\",\"startlinecolor\":\"#2a3f5f\"},\"type\":\"carpet\"}],\"table\":[{\"cells\":{\"fill\":{\"color\":\"#EBF0F8\"},\"line\":{\"color\":\"white\"}},\"header\":{\"fill\":{\"color\":\"#C8D4E3\"},\"line\":{\"color\":\"white\"}},\"type\":\"table\"}],\"barpolar\":[{\"marker\":{\"line\":{\"color\":\"#E5ECF6\",\"width\":0.5},\"pattern\":{\"fillmode\":\"overlay\",\"size\":10,\"solidity\":0.2}},\"type\":\"barpolar\"}],\"pie\":[{\"automargin\":true,\"type\":\"pie\"}]},\"layout\":{\"autotypenumbers\":\"strict\",\"colorway\":[\"#636efa\",\"#EF553B\",\"#00cc96\",\"#ab63fa\",\"#FFA15A\",\"#19d3f3\",\"#FF6692\",\"#B6E880\",\"#FF97FF\",\"#FECB52\"],\"font\":{\"color\":\"#2a3f5f\"},\"hovermode\":\"closest\",\"hoverlabel\":{\"align\":\"left\"},\"paper_bgcolor\":\"white\",\"plot_bgcolor\":\"#E5ECF6\",\"polar\":{\"bgcolor\":\"#E5ECF6\",\"angularaxis\":{\"gridcolor\":\"white\",\"linecolor\":\"white\",\"ticks\":\"\"},\"radialaxis\":{\"gridcolor\":\"white\",\"linecolor\":\"white\",\"ticks\":\"\"}},\"ternary\":{\"bgcolor\":\"#E5ECF6\",\"aaxis\":{\"gridcolor\":\"white\",\"linecolor\":\"white\",\"ticks\":\"\"},\"baxis\":{\"gridcolor\":\"white\",\"linecolor\":\"white\",\"ticks\":\"\"},\"caxis\":{\"gridcolor\":\"white\",\"linecolor\":\"white\",\"ticks\":\"\"}},\"coloraxis\":{\"colorbar\":{\"outlinewidth\":0,\"ticks\":\"\"}},\"colorscale\":{\"sequential\":[[0.0,\"#0d0887\"],[0.1111111111111111,\"#46039f\"],[0.2222222222222222,\"#7201a8\"],[0.3333333333333333,\"#9c179e\"],[0.4444444444444444,\"#bd3786\"],[0.5555555555555556,\"#d8576b\"],[0.6666666666666666,\"#ed7953\"],[0.7777777777777778,\"#fb9f3a\"],[0.8888888888888888,\"#fdca26\"],[1.0,\"#f0f921\"]],\"sequentialminus\":[[0.0,\"#0d0887\"],[0.1111111111111111,\"#46039f\"],[0.2222222222222222,\"#7201a8\"],[0.3333333333333333,\"#9c179e\"],[0.4444444444444444,\"#bd3786\"],[0.5555555555555556,\"#d8576b\"],[0.6666666666666666,\"#ed7953\"],[0.7777777777777778,\"#fb9f3a\"],[0.8888888888888888,\"#fdca26\"],[1.0,\"#f0f921\"]],\"diverging\":[[0,\"#8e0152\"],[0.1,\"#c51b7d\"],[0.2,\"#de77ae\"],[0.3,\"#f1b6da\"],[0.4,\"#fde0ef\"],[0.5,\"#f7f7f7\"],[0.6,\"#e6f5d0\"],[0.7,\"#b8e186\"],[0.8,\"#7fbc41\"],[0.9,\"#4d9221\"],[1,\"#276419\"]]},\"xaxis\":{\"gridcolor\":\"white\",\"linecolor\":\"white\",\"ticks\":\"\",\"title\":{\"standoff\":15},\"zerolinecolor\":\"white\",\"automargin\":true,\"zerolinewidth\":2},\"yaxis\":{\"gridcolor\":\"white\",\"linecolor\":\"white\",\"ticks\":\"\",\"title\":{\"standoff\":15},\"zerolinecolor\":\"white\",\"automargin\":true,\"zerolinewidth\":2},\"scene\":{\"xaxis\":{\"backgroundcolor\":\"#E5ECF6\",\"gridcolor\":\"white\",\"linecolor\":\"white\",\"showbackground\":true,\"ticks\":\"\",\"zerolinecolor\":\"white\",\"gridwidth\":2},\"yaxis\":{\"backgroundcolor\":\"#E5ECF6\",\"gridcolor\":\"white\",\"linecolor\":\"white\",\"showbackground\":true,\"ticks\":\"\",\"zerolinecolor\":\"white\",\"gridwidth\":2},\"zaxis\":{\"backgroundcolor\":\"#E5ECF6\",\"gridcolor\":\"white\",\"linecolor\":\"white\",\"showbackground\":true,\"ticks\":\"\",\"zerolinecolor\":\"white\",\"gridwidth\":2}},\"shapedefaults\":{\"line\":{\"color\":\"#2a3f5f\"}},\"annotationdefaults\":{\"arrowcolor\":\"#2a3f5f\",\"arrowhead\":0,\"arrowwidth\":1},\"geo\":{\"bgcolor\":\"white\",\"landcolor\":\"#E5ECF6\",\"subunitcolor\":\"white\",\"showland\":true,\"showlakes\":true,\"lakecolor\":\"white\"},\"title\":{\"x\":0.05},\"mapbox\":{\"style\":\"light\"}}},\"xaxis\":{\"anchor\":\"y\",\"domain\":[0.0,1.0],\"title\":{\"text\":\"index\"},\"tickangle\":45},\"yaxis\":{\"anchor\":\"x\",\"domain\":[0.0,1.0],\"title\":{\"text\":\"value\"}},\"legend\":{\"title\":{\"text\":\"variable\"},\"tracegroupgap\":0},\"title\":{\"text\":\"Label Distribution\"},\"barmode\":\"relative\",\"showlegend\":false},                        {\"responsive\": true}                    ).then(function(){\n",
       "                            \n",
       "var gd = document.getElementById('e660cc9e-e394-43bf-8e20-a13528490529');\n",
       "var x = new MutationObserver(function (mutations, observer) {{\n",
       "        var display = window.getComputedStyle(gd).display;\n",
       "        if (!display || display === 'none') {{\n",
       "            console.log([gd, 'removed!']);\n",
       "            Plotly.purge(gd);\n",
       "            observer.disconnect();\n",
       "        }}\n",
       "}});\n",
       "\n",
       "// Listen for the removal of the full notebook cells\n",
       "var notebookContainer = gd.closest('#notebook-container');\n",
       "if (notebookContainer) {{\n",
       "    x.observe(notebookContainer, {childList: true});\n",
       "}}\n",
       "\n",
       "// Listen for the clearing of the current output cell\n",
       "var outputEl = gd.closest('.output');\n",
       "if (outputEl) {{\n",
       "    x.observe(outputEl, {childList: true});\n",
       "}}\n",
       "\n",
       "                        })                };                });            </script>        </div>"
      ]
     },
     "metadata": {},
     "output_type": "display_data"
    }
   ],
   "source": [
    "print_subset_info(df, valid_subset, ontology, show_histogram=False)"
   ]
  },
  {
   "cell_type": "code",
   "execution_count": 32,
   "metadata": {},
   "outputs": [
    {
     "data": {
      "text/plain": [
       "Index(['index', 'youtube_id', 'start_seconds', 'end_seconds', 'labels',\n",
       "       'orig_split', 'selected', 'contains_music', 'contains_speech',\n",
       "       'contains_no_music_or_speech', 'contains_music_xor_speech',\n",
       "       'contains_music_and_speech'],\n",
       "      dtype='object')"
      ]
     },
     "execution_count": 32,
     "metadata": {},
     "output_type": "execute_result"
    }
   ],
   "source": [
    "train_subset.columns"
   ]
  },
  {
   "cell_type": "code",
   "execution_count": 75,
   "metadata": {},
   "outputs": [],
   "source": [
    "export_columns = [\"youtube_id\", \"start_seconds\", \"end_seconds\", \"labels\", \"orig_split\"]\n",
    "train_subset[export_columns].to_json(\"train.jsonl\", orient=\"records\", lines=True, force_ascii=False)\n",
    "valid_subset[export_columns].to_json(\"valid.jsonl\", orient=\"records\", lines=True, force_ascii=False)\n",
    "test_subset[export_columns].to_json(\"test.jsonl\", orient=\"records\", lines=True, force_ascii=False)"
   ]
  },
  {
   "cell_type": "code",
   "execution_count": null,
   "metadata": {},
   "outputs": [],
   "source": [
    "# these files were put in the data/audioset_small/annotaitons folder and committed to the repo\n",
    "# now, they can be used to create the audiofolder"
   ]
  }
 ],
 "metadata": {
  "kernelspec": {
   "display_name": "audiocap",
   "language": "python",
   "name": "python3"
  },
  "language_info": {
   "codemirror_mode": {
    "name": "ipython",
    "version": 3
   },
   "file_extension": ".py",
   "mimetype": "text/x-python",
   "name": "python",
   "nbconvert_exporter": "python",
   "pygments_lexer": "ipython3",
   "version": "3.8.16"
  },
  "orig_nbformat": 4
 },
 "nbformat": 4,
 "nbformat_minor": 2
}
